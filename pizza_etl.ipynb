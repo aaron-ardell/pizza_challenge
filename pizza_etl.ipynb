{
 "cells": [
  {
   "cell_type": "markdown",
   "id": "4b5e00a0",
   "metadata": {},
   "source": [
    "# Plato's Pizza Analysis"
   ]
  },
  {
   "cell_type": "markdown",
   "id": "2bf96f39",
   "metadata": {},
   "source": [
    "#### Data Origin\n",
    "https://mavenanalytics.io/data-playground?search=pizza\n",
    "#### Original CSV's\n",
    "- orders.csv\n",
    "- order_details.csv\n",
    "- pizzas.csv\n",
    "- pizza_types.csv"
   ]
  },
  {
   "cell_type": "markdown",
   "id": "37f094dc",
   "metadata": {},
   "source": [
    "### Importing Data Sets"
   ]
  },
  {
   "cell_type": "code",
   "execution_count": 2,
   "id": "28b2abed",
   "metadata": {},
   "outputs": [
    {
     "data": {
      "text/html": [
       "<div>\n",
       "<style scoped>\n",
       "    .dataframe tbody tr th:only-of-type {\n",
       "        vertical-align: middle;\n",
       "    }\n",
       "\n",
       "    .dataframe tbody tr th {\n",
       "        vertical-align: top;\n",
       "    }\n",
       "\n",
       "    .dataframe thead th {\n",
       "        text-align: right;\n",
       "    }\n",
       "</style>\n",
       "<table border=\"1\" class=\"dataframe\">\n",
       "  <thead>\n",
       "    <tr style=\"text-align: right;\">\n",
       "      <th></th>\n",
       "      <th>order_id</th>\n",
       "      <th>pizza_id</th>\n",
       "      <th>quantity</th>\n",
       "    </tr>\n",
       "    <tr>\n",
       "      <th>order_details_id</th>\n",
       "      <th></th>\n",
       "      <th></th>\n",
       "      <th></th>\n",
       "    </tr>\n",
       "  </thead>\n",
       "  <tbody>\n",
       "    <tr>\n",
       "      <th>48616</th>\n",
       "      <td>21348</td>\n",
       "      <td>ckn_alfredo_m</td>\n",
       "      <td>1</td>\n",
       "    </tr>\n",
       "    <tr>\n",
       "      <th>48617</th>\n",
       "      <td>21348</td>\n",
       "      <td>four_cheese_l</td>\n",
       "      <td>1</td>\n",
       "    </tr>\n",
       "    <tr>\n",
       "      <th>48618</th>\n",
       "      <td>21348</td>\n",
       "      <td>napolitana_s</td>\n",
       "      <td>1</td>\n",
       "    </tr>\n",
       "    <tr>\n",
       "      <th>48619</th>\n",
       "      <td>21349</td>\n",
       "      <td>mexicana_l</td>\n",
       "      <td>1</td>\n",
       "    </tr>\n",
       "    <tr>\n",
       "      <th>48620</th>\n",
       "      <td>21350</td>\n",
       "      <td>bbq_ckn_s</td>\n",
       "      <td>1</td>\n",
       "    </tr>\n",
       "  </tbody>\n",
       "</table>\n",
       "</div>"
      ],
      "text/plain": [
       "                  order_id       pizza_id  quantity\n",
       "order_details_id                                   \n",
       "48616                21348  ckn_alfredo_m         1\n",
       "48617                21348  four_cheese_l         1\n",
       "48618                21348   napolitana_s         1\n",
       "48619                21349     mexicana_l         1\n",
       "48620                21350      bbq_ckn_s         1"
      ]
     },
     "execution_count": 2,
     "metadata": {},
     "output_type": "execute_result"
    }
   ],
   "source": [
    "# Order Details CSV\n",
    "# Importing pandas, reading csv, creating dataframe, printing last frames.\n",
    "import pandas as pd\n",
    "order_details = pd.read_csv('order_details.csv', index_col='order_details_id')\n",
    "order_details.tail(5)"
   ]
  },
  {
   "cell_type": "code",
   "execution_count": 3,
   "id": "ee4646e5",
   "metadata": {},
   "outputs": [
    {
     "data": {
      "text/html": [
       "<div>\n",
       "<style scoped>\n",
       "    .dataframe tbody tr th:only-of-type {\n",
       "        vertical-align: middle;\n",
       "    }\n",
       "\n",
       "    .dataframe tbody tr th {\n",
       "        vertical-align: top;\n",
       "    }\n",
       "\n",
       "    .dataframe thead th {\n",
       "        text-align: right;\n",
       "    }\n",
       "</style>\n",
       "<table border=\"1\" class=\"dataframe\">\n",
       "  <thead>\n",
       "    <tr style=\"text-align: right;\">\n",
       "      <th></th>\n",
       "      <th>date_time</th>\n",
       "    </tr>\n",
       "    <tr>\n",
       "      <th>order_id</th>\n",
       "      <th></th>\n",
       "    </tr>\n",
       "  </thead>\n",
       "  <tbody>\n",
       "    <tr>\n",
       "      <th>21346</th>\n",
       "      <td>2015-12-31 20:51:07</td>\n",
       "    </tr>\n",
       "    <tr>\n",
       "      <th>21347</th>\n",
       "      <td>2015-12-31 21:14:37</td>\n",
       "    </tr>\n",
       "    <tr>\n",
       "      <th>21348</th>\n",
       "      <td>2015-12-31 21:23:10</td>\n",
       "    </tr>\n",
       "    <tr>\n",
       "      <th>21349</th>\n",
       "      <td>2015-12-31 22:09:54</td>\n",
       "    </tr>\n",
       "    <tr>\n",
       "      <th>21350</th>\n",
       "      <td>2015-12-31 23:02:05</td>\n",
       "    </tr>\n",
       "  </tbody>\n",
       "</table>\n",
       "</div>"
      ],
      "text/plain": [
       "                   date_time\n",
       "order_id                    \n",
       "21346    2015-12-31 20:51:07\n",
       "21347    2015-12-31 21:14:37\n",
       "21348    2015-12-31 21:23:10\n",
       "21349    2015-12-31 22:09:54\n",
       "21350    2015-12-31 23:02:05"
      ]
     },
     "execution_count": 3,
     "metadata": {},
     "output_type": "execute_result"
    }
   ],
   "source": [
    "#Orders CSV\n",
    "# Reading csv, creating dataframe, printing last frames.\n",
    "# Date and time columns separated, pulling them together with proper format.\n",
    "orders = pd.read_csv('orders.csv', index_col='order_id', parse_dates = [['date', 'time']])\n",
    "orders.tail()"
   ]
  },
  {
   "cell_type": "code",
   "execution_count": 5,
   "id": "659fb802",
   "metadata": {},
   "outputs": [
    {
     "data": {
      "text/html": [
       "<div>\n",
       "<style scoped>\n",
       "    .dataframe tbody tr th:only-of-type {\n",
       "        vertical-align: middle;\n",
       "    }\n",
       "\n",
       "    .dataframe tbody tr th {\n",
       "        vertical-align: top;\n",
       "    }\n",
       "\n",
       "    .dataframe thead th {\n",
       "        text-align: right;\n",
       "    }\n",
       "</style>\n",
       "<table border=\"1\" class=\"dataframe\">\n",
       "  <thead>\n",
       "    <tr style=\"text-align: right;\">\n",
       "      <th></th>\n",
       "      <th>pizza_type_id</th>\n",
       "      <th>size</th>\n",
       "      <th>price</th>\n",
       "    </tr>\n",
       "    <tr>\n",
       "      <th>pizza_id</th>\n",
       "      <th></th>\n",
       "      <th></th>\n",
       "      <th></th>\n",
       "    </tr>\n",
       "  </thead>\n",
       "  <tbody>\n",
       "    <tr>\n",
       "      <th>spinach_fet_m</th>\n",
       "      <td>spinach_fet</td>\n",
       "      <td>M</td>\n",
       "      <td>16.00</td>\n",
       "    </tr>\n",
       "    <tr>\n",
       "      <th>spinach_fet_l</th>\n",
       "      <td>spinach_fet</td>\n",
       "      <td>L</td>\n",
       "      <td>20.25</td>\n",
       "    </tr>\n",
       "    <tr>\n",
       "      <th>veggie_veg_s</th>\n",
       "      <td>veggie_veg</td>\n",
       "      <td>S</td>\n",
       "      <td>12.00</td>\n",
       "    </tr>\n",
       "    <tr>\n",
       "      <th>veggie_veg_m</th>\n",
       "      <td>veggie_veg</td>\n",
       "      <td>M</td>\n",
       "      <td>16.00</td>\n",
       "    </tr>\n",
       "    <tr>\n",
       "      <th>veggie_veg_l</th>\n",
       "      <td>veggie_veg</td>\n",
       "      <td>L</td>\n",
       "      <td>20.25</td>\n",
       "    </tr>\n",
       "  </tbody>\n",
       "</table>\n",
       "</div>"
      ],
      "text/plain": [
       "              pizza_type_id size  price\n",
       "pizza_id                               \n",
       "spinach_fet_m   spinach_fet    M  16.00\n",
       "spinach_fet_l   spinach_fet    L  20.25\n",
       "veggie_veg_s     veggie_veg    S  12.00\n",
       "veggie_veg_m     veggie_veg    M  16.00\n",
       "veggie_veg_l     veggie_veg    L  20.25"
      ]
     },
     "execution_count": 5,
     "metadata": {},
     "output_type": "execute_result"
    }
   ],
   "source": [
    "# Pizzas CSV\n",
    "# Loading csv, creating dataframe, printing last frames.\n",
    "pizzas = pd.read_csv('pizzas.csv', index_col='pizza_id')\n",
    "pizzas.tail()"
   ]
  },
  {
   "cell_type": "code",
   "execution_count": 51,
   "id": "34915a23",
   "metadata": {},
   "outputs": [
    {
     "data": {
      "text/html": [
       "<div>\n",
       "<style scoped>\n",
       "    .dataframe tbody tr th:only-of-type {\n",
       "        vertical-align: middle;\n",
       "    }\n",
       "\n",
       "    .dataframe tbody tr th {\n",
       "        vertical-align: top;\n",
       "    }\n",
       "\n",
       "    .dataframe thead th {\n",
       "        text-align: right;\n",
       "    }\n",
       "</style>\n",
       "<table border=\"1\" class=\"dataframe\">\n",
       "  <thead>\n",
       "    <tr style=\"text-align: right;\">\n",
       "      <th></th>\n",
       "      <th>name</th>\n",
       "      <th>category</th>\n",
       "      <th>ingredients</th>\n",
       "    </tr>\n",
       "    <tr>\n",
       "      <th>pizza_type_id</th>\n",
       "      <th></th>\n",
       "      <th></th>\n",
       "      <th></th>\n",
       "    </tr>\n",
       "  </thead>\n",
       "  <tbody>\n",
       "    <tr>\n",
       "      <th>mediterraneo</th>\n",
       "      <td>The Mediterranean Pizza</td>\n",
       "      <td>Veggie</td>\n",
       "      <td>Spinach, Artichokes, Kalamata Olives, Sun-drie...</td>\n",
       "    </tr>\n",
       "    <tr>\n",
       "      <th>mexicana</th>\n",
       "      <td>The Mexicana Pizza</td>\n",
       "      <td>Veggie</td>\n",
       "      <td>Tomatoes, Red Peppers, Jalapeno Peppers, Red O...</td>\n",
       "    </tr>\n",
       "    <tr>\n",
       "      <th>spin_pesto</th>\n",
       "      <td>The Spinach Pesto Pizza</td>\n",
       "      <td>Veggie</td>\n",
       "      <td>Spinach, Artichokes, Tomatoes, Sun-dried Tomat...</td>\n",
       "    </tr>\n",
       "    <tr>\n",
       "      <th>spinach_fet</th>\n",
       "      <td>The Spinach and Feta Pizza</td>\n",
       "      <td>Veggie</td>\n",
       "      <td>Spinach, Mushrooms, Red Onions, Feta Cheese, G...</td>\n",
       "    </tr>\n",
       "    <tr>\n",
       "      <th>veggie_veg</th>\n",
       "      <td>The Vegetables + Vegetables Pizza</td>\n",
       "      <td>Veggie</td>\n",
       "      <td>Mushrooms, Tomatoes, Red Peppers, Green Pepper...</td>\n",
       "    </tr>\n",
       "  </tbody>\n",
       "</table>\n",
       "</div>"
      ],
      "text/plain": [
       "                                            name category  \\\n",
       "pizza_type_id                                               \n",
       "mediterraneo             The Mediterranean Pizza   Veggie   \n",
       "mexicana                      The Mexicana Pizza   Veggie   \n",
       "spin_pesto               The Spinach Pesto Pizza   Veggie   \n",
       "spinach_fet           The Spinach and Feta Pizza   Veggie   \n",
       "veggie_veg     The Vegetables + Vegetables Pizza   Veggie   \n",
       "\n",
       "                                                     ingredients  \n",
       "pizza_type_id                                                     \n",
       "mediterraneo   Spinach, Artichokes, Kalamata Olives, Sun-drie...  \n",
       "mexicana       Tomatoes, Red Peppers, Jalapeno Peppers, Red O...  \n",
       "spin_pesto     Spinach, Artichokes, Tomatoes, Sun-dried Tomat...  \n",
       "spinach_fet    Spinach, Mushrooms, Red Onions, Feta Cheese, G...  \n",
       "veggie_veg     Mushrooms, Tomatoes, Red Peppers, Green Pepper...  "
      ]
     },
     "execution_count": 51,
     "metadata": {},
     "output_type": "execute_result"
    }
   ],
   "source": [
    "#Pizza_type CSV\n",
    "# Reading CSV, creating dataframe no index, printing\n",
    "pizza_types = pd.read_csv('pizza_types.csv', index_col='pizza_type_id', encoding='unicode_escape')\n",
    "pizza_types.tail()"
   ]
  },
  {
   "cell_type": "markdown",
   "id": "d3c4e4b3",
   "metadata": {},
   "source": [
    "## Exploratory Analysis\n",
    "### Order Details Dataframe"
   ]
  },
  {
   "cell_type": "code",
   "execution_count": 28,
   "id": "93507f35",
   "metadata": {},
   "outputs": [
    {
     "name": "stdout",
     "output_type": "stream",
     "text": [
      "<class 'pandas.core.frame.DataFrame'>\n",
      "Int64Index: 48620 entries, 1 to 48620\n",
      "Data columns (total 3 columns):\n",
      " #   Column    Non-Null Count  Dtype \n",
      "---  ------    --------------  ----- \n",
      " 0   order_id  48620 non-null  int64 \n",
      " 1   pizza_id  48620 non-null  object\n",
      " 2   quantity  48620 non-null  int64 \n",
      "dtypes: int64(2), object(1)\n",
      "memory usage: 1.5+ MB\n"
     ]
    }
   ],
   "source": [
    "order_details.info()"
   ]
  },
  {
   "cell_type": "markdown",
   "id": "1522ce04",
   "metadata": {},
   "source": [
    "- The Order Details Dataframe has 48620 entries.\n",
    "- There are no null values in this Dataframe."
   ]
  },
  {
   "cell_type": "code",
   "execution_count": 29,
   "id": "b157bd42",
   "metadata": {},
   "outputs": [
    {
     "data": {
      "text/plain": [
       "0"
      ]
     },
     "execution_count": 29,
     "metadata": {},
     "output_type": "execute_result"
    }
   ],
   "source": [
    "order_details.duplicated().sum()"
   ]
  },
  {
   "cell_type": "markdown",
   "id": "b653d413",
   "metadata": {},
   "source": [
    "- There is no duplicate entries in this Dataframe."
   ]
  },
  {
   "cell_type": "code",
   "execution_count": 30,
   "id": "26ccf1bb",
   "metadata": {},
   "outputs": [
    {
     "data": {
      "text/plain": [
       "order_id    21350\n",
       "pizza_id       91\n",
       "quantity        4\n",
       "dtype: int64"
      ]
     },
     "execution_count": 30,
     "metadata": {},
     "output_type": "execute_result"
    }
   ],
   "source": [
    "order_details.nunique()"
   ]
  },
  {
   "cell_type": "code",
   "execution_count": null,
   "id": "83620e00",
   "metadata": {},
   "outputs": [],
   "source": [
    "- Too many unique entries in the object column to categorize."
   ]
  },
  {
   "cell_type": "markdown",
   "id": "619d90e7",
   "metadata": {},
   "source": [
    "#### Order Details Dataframe\n",
    "|Table |Column |Data Type |Description |Key|\n",
    "|-------|---------|-----------|-----------|---|\n",
    "|Order Details|order_details_id|int64|Numerical designation for each unique pizza per order.|X|\n",
    "|Order Details|order_id|int64|Numerical designation for each order, which may contain multiple pizzas.||\n",
    "|Order Details|pizza_id|object|Snakecase combination of pizza name and size designation(S,M, or L).||\n",
    "|Order Details|quantity|int64|Sum of how many of a particular pizza per order.||"
   ]
  },
  {
   "cell_type": "markdown",
   "id": "e764106e",
   "metadata": {},
   "source": [
    "### Orders Dataframe"
   ]
  },
  {
   "cell_type": "code",
   "execution_count": 7,
   "id": "9d9688a7",
   "metadata": {},
   "outputs": [
    {
     "name": "stdout",
     "output_type": "stream",
     "text": [
      "<class 'pandas.core.frame.DataFrame'>\n",
      "Int64Index: 21350 entries, 1 to 21350\n",
      "Data columns (total 1 columns):\n",
      " #   Column     Non-Null Count  Dtype         \n",
      "---  ------     --------------  -----         \n",
      " 0   date_time  21350 non-null  datetime64[ns]\n",
      "dtypes: datetime64[ns](1)\n",
      "memory usage: 333.6 KB\n"
     ]
    }
   ],
   "source": [
    "orders.info()"
   ]
  },
  {
   "cell_type": "markdown",
   "id": "391efa2c",
   "metadata": {},
   "source": [
    "- The Orders Dataframe has 21350 entries.\n",
    "- There are no null values in the Dataframe."
   ]
  },
  {
   "cell_type": "code",
   "execution_count": 11,
   "id": "bfdb5a33",
   "metadata": {},
   "outputs": [
    {
     "data": {
      "text/plain": [
       "0"
      ]
     },
     "execution_count": 11,
     "metadata": {},
     "output_type": "execute_result"
    }
   ],
   "source": [
    "orders.duplicated().sum()"
   ]
  },
  {
   "cell_type": "markdown",
   "id": "87b6997b",
   "metadata": {},
   "source": [
    "- There are no duplicated entries in this Dataframe. "
   ]
  },
  {
   "cell_type": "markdown",
   "id": "a5f1f03e",
   "metadata": {},
   "source": [
    "__Question: How many customers do we have each day? Are there any peak hours?__\n",
    "- We will need to categorize the dates by days of the week. We will also need hours alone for calculation.\n",
    "\n",
    "__Question: How much money did we make this year? Can we identify any seasonality in the sales?__\n",
    "- We will also need to categorize the month.\n"
   ]
  },
  {
   "cell_type": "code",
   "execution_count": 15,
   "id": "f207dd53",
   "metadata": {},
   "outputs": [
    {
     "data": {
      "text/html": [
       "<div>\n",
       "<style scoped>\n",
       "    .dataframe tbody tr th:only-of-type {\n",
       "        vertical-align: middle;\n",
       "    }\n",
       "\n",
       "    .dataframe tbody tr th {\n",
       "        vertical-align: top;\n",
       "    }\n",
       "\n",
       "    .dataframe thead th {\n",
       "        text-align: right;\n",
       "    }\n",
       "</style>\n",
       "<table border=\"1\" class=\"dataframe\">\n",
       "  <thead>\n",
       "    <tr style=\"text-align: right;\">\n",
       "      <th></th>\n",
       "      <th>date_time</th>\n",
       "      <th>month</th>\n",
       "      <th>day</th>\n",
       "      <th>hour</th>\n",
       "      <th>week</th>\n",
       "    </tr>\n",
       "    <tr>\n",
       "      <th>order_id</th>\n",
       "      <th></th>\n",
       "      <th></th>\n",
       "      <th></th>\n",
       "      <th></th>\n",
       "      <th></th>\n",
       "    </tr>\n",
       "  </thead>\n",
       "  <tbody>\n",
       "    <tr>\n",
       "      <th>21346</th>\n",
       "      <td>2015-12-31 20:51:07</td>\n",
       "      <td>December</td>\n",
       "      <td>Thursday</td>\n",
       "      <td>20</td>\n",
       "      <td>53</td>\n",
       "    </tr>\n",
       "    <tr>\n",
       "      <th>21347</th>\n",
       "      <td>2015-12-31 21:14:37</td>\n",
       "      <td>December</td>\n",
       "      <td>Thursday</td>\n",
       "      <td>21</td>\n",
       "      <td>53</td>\n",
       "    </tr>\n",
       "    <tr>\n",
       "      <th>21348</th>\n",
       "      <td>2015-12-31 21:23:10</td>\n",
       "      <td>December</td>\n",
       "      <td>Thursday</td>\n",
       "      <td>21</td>\n",
       "      <td>53</td>\n",
       "    </tr>\n",
       "    <tr>\n",
       "      <th>21349</th>\n",
       "      <td>2015-12-31 22:09:54</td>\n",
       "      <td>December</td>\n",
       "      <td>Thursday</td>\n",
       "      <td>22</td>\n",
       "      <td>53</td>\n",
       "    </tr>\n",
       "    <tr>\n",
       "      <th>21350</th>\n",
       "      <td>2015-12-31 23:02:05</td>\n",
       "      <td>December</td>\n",
       "      <td>Thursday</td>\n",
       "      <td>23</td>\n",
       "      <td>53</td>\n",
       "    </tr>\n",
       "  </tbody>\n",
       "</table>\n",
       "</div>"
      ],
      "text/plain": [
       "                   date_time     month       day  hour  week\n",
       "order_id                                                    \n",
       "21346    2015-12-31 20:51:07  December  Thursday    20    53\n",
       "21347    2015-12-31 21:14:37  December  Thursday    21    53\n",
       "21348    2015-12-31 21:23:10  December  Thursday    21    53\n",
       "21349    2015-12-31 22:09:54  December  Thursday    22    53\n",
       "21350    2015-12-31 23:02:05  December  Thursday    23    53"
      ]
     },
     "execution_count": 15,
     "metadata": {},
     "output_type": "execute_result"
    }
   ],
   "source": [
    "'''https://pandas.pydata.org/pandas-docs/stable/reference/api/pandas.Series.dt.date.html\n",
    "https://pandas.pydata.org/pandas-docs/stable/reference/api/pandas.Series.dt.day_name.html#pandas.Series.dt.day_name'''\n",
    "\n",
    "orders['month'] = orders['date_time'].dt.month_name()\n",
    "orders['day'] = orders['date_time'].dt.day_name()\n",
    "orders['hour'] = orders['date_time'].dt.hour\n",
    "orders['week'] = orders['date_time'].dt.isocalendar().week\n",
    "orders.tail()"
   ]
  },
  {
   "cell_type": "code",
   "execution_count": 19,
   "id": "b9389fff",
   "metadata": {},
   "outputs": [
    {
     "name": "stdout",
     "output_type": "stream",
     "text": [
      "<class 'pandas.core.frame.DataFrame'>\n",
      "Int64Index: 21350 entries, 1 to 21350\n",
      "Data columns (total 5 columns):\n",
      " #   Column     Non-Null Count  Dtype         \n",
      "---  ------     --------------  -----         \n",
      " 0   date_time  21350 non-null  datetime64[ns]\n",
      " 1   month      21350 non-null  object        \n",
      " 2   day        21350 non-null  object        \n",
      " 3   hour       21350 non-null  int64         \n",
      " 4   week       21350 non-null  UInt32        \n",
      "dtypes: UInt32(1), datetime64[ns](1), int64(1), object(2)\n",
      "memory usage: 3.2 MB\n"
     ]
    }
   ],
   "source": [
    "orders.info(memory_usage='deep')"
   ]
  },
  {
   "cell_type": "markdown",
   "id": "deede5a7",
   "metadata": {},
   "source": [
    "- Dataframe is utilizing 3.2 MB of memory."
   ]
  },
  {
   "cell_type": "code",
   "execution_count": 21,
   "id": "e66057a6",
   "metadata": {},
   "outputs": [
    {
     "data": {
      "text/plain": [
       "Index         170800\n",
       "date_time     170800\n",
       "month        1347224\n",
       "day          1369889\n",
       "hour          170800\n",
       "week          106750\n",
       "dtype: int64"
      ]
     },
     "execution_count": 21,
     "metadata": {},
     "output_type": "execute_result"
    }
   ],
   "source": [
    "orders.memory_usage(deep = True)"
   ]
  },
  {
   "cell_type": "markdown",
   "id": "9f7c71e9",
   "metadata": {},
   "source": [
    "- It's the \"month\" and \"day\" columns utilizing the most memory."
   ]
  },
  {
   "cell_type": "code",
   "execution_count": 22,
   "id": "25d51a06",
   "metadata": {},
   "outputs": [
    {
     "data": {
      "text/plain": [
       "date_time    21350\n",
       "month           12\n",
       "day              7\n",
       "hour            15\n",
       "week            53\n",
       "dtype: int64"
      ]
     },
     "execution_count": 22,
     "metadata": {},
     "output_type": "execute_result"
    }
   ],
   "source": [
    "orders.nunique()"
   ]
  },
  {
   "cell_type": "markdown",
   "id": "e8e54dd9",
   "metadata": {},
   "source": [
    "- The \"month\" and \"day\" columns have few unique values. Converting to a categorical data type will improve performance."
   ]
  },
  {
   "cell_type": "code",
   "execution_count": 25,
   "id": "a4b9c45b",
   "metadata": {},
   "outputs": [],
   "source": [
    "#https://pandas.pydata.org/docs/reference/api/pandas.Categorical.html\n",
    "\n",
    "orders['month'] = pd.Categorical(\n",
    "    values = orders['month'], \n",
    "    categories = ['January', 'February', 'March', 'April', 'May', 'June', 'July', 'August', 'September', 'October', 'November', 'December'],\n",
    "    ordered = True\n",
    ")"
   ]
  },
  {
   "cell_type": "code",
   "execution_count": 26,
   "id": "f96d11b8",
   "metadata": {},
   "outputs": [],
   "source": [
    "orders['day'] = pd.Categorical(\n",
    "    values = orders['day'],\n",
    "    categories = ['Monday', 'Tuesday', 'Wednesday', 'Thursday', 'Friday', 'Saturday', 'Sunday'],\n",
    "    ordered = True\n",
    ")"
   ]
  },
  {
   "cell_type": "code",
   "execution_count": 27,
   "id": "9f1126b8",
   "metadata": {},
   "outputs": [
    {
     "name": "stdout",
     "output_type": "stream",
     "text": [
      "<class 'pandas.core.frame.DataFrame'>\n",
      "Int64Index: 21350 entries, 1 to 21350\n",
      "Data columns (total 5 columns):\n",
      " #   Column     Non-Null Count  Dtype         \n",
      "---  ------     --------------  -----         \n",
      " 0   date_time  21350 non-null  datetime64[ns]\n",
      " 1   month      21350 non-null  category      \n",
      " 2   day        21350 non-null  category      \n",
      " 3   hour       21350 non-null  int64         \n",
      " 4   week       21350 non-null  UInt32        \n",
      "dtypes: UInt32(1), category(2), datetime64[ns](1), int64(1)\n",
      "memory usage: 648.1 KB\n"
     ]
    }
   ],
   "source": [
    "orders.info(memory_usage='deep')"
   ]
  },
  {
   "cell_type": "markdown",
   "id": "448e225b",
   "metadata": {},
   "source": [
    "- 648.1 KB is the improvement! "
   ]
  },
  {
   "cell_type": "markdown",
   "id": "f97f36f2",
   "metadata": {},
   "source": [
    "#### Orders Dataframe\n",
    "|Table |Column |Data Type |Description |Key|\n",
    "|-------|---------|-----------|-----------|---|\n",
    "|orders|order_id|int64|Numerical designation for each individual order.|X|\n",
    "|orders|date_time|datetime64[ns]|The date and time an orders is placed. Prior to cooking and serving.||\n",
    "|orders|month|category|Months by name, Julian calendar, January - December.||\n",
    "|orders|day|category|Days of the week by name, Monday - Sunday.||\n",
    "|orders|hour|int64|24-Hour Clock.||\n",
    "|orders|week|UInt32|52 weeks in the year.||"
   ]
  },
  {
   "cell_type": "markdown",
   "id": "3881e041",
   "metadata": {},
   "source": [
    "### Pizzas CSV"
   ]
  },
  {
   "cell_type": "code",
   "execution_count": 33,
   "id": "e8b20f12",
   "metadata": {},
   "outputs": [
    {
     "name": "stdout",
     "output_type": "stream",
     "text": [
      "<class 'pandas.core.frame.DataFrame'>\n",
      "Index: 96 entries, bbq_ckn_s to veggie_veg_l\n",
      "Data columns (total 3 columns):\n",
      " #   Column         Non-Null Count  Dtype  \n",
      "---  ------         --------------  -----  \n",
      " 0   pizza_type_id  96 non-null     object \n",
      " 1   size           96 non-null     object \n",
      " 2   price          96 non-null     float64\n",
      "dtypes: float64(1), object(2)\n",
      "memory usage: 3.0+ KB\n"
     ]
    }
   ],
   "source": [
    "pizzas.info()"
   ]
  },
  {
   "cell_type": "markdown",
   "id": "b50ac09d",
   "metadata": {},
   "source": [
    "- Pizza Dataframe has 96 entries.\n",
    "- There are no null values in this Dataframe."
   ]
  },
  {
   "cell_type": "code",
   "execution_count": 34,
   "id": "6103a11b",
   "metadata": {},
   "outputs": [
    {
     "data": {
      "text/plain": [
       "0"
      ]
     },
     "execution_count": 34,
     "metadata": {},
     "output_type": "execute_result"
    }
   ],
   "source": [
    "pizzas.duplicated().sum()"
   ]
  },
  {
   "cell_type": "markdown",
   "id": "89425446",
   "metadata": {},
   "source": [
    "- There are no duplicated entries in this Dataframe."
   ]
  },
  {
   "cell_type": "code",
   "execution_count": 35,
   "id": "657d8de9",
   "metadata": {},
   "outputs": [
    {
     "data": {
      "text/plain": [
       "pizza_type_id    32\n",
       "size              5\n",
       "price            27\n",
       "dtype: int64"
      ]
     },
     "execution_count": 35,
     "metadata": {},
     "output_type": "execute_result"
    }
   ],
   "source": [
    "pizzas.nunique()"
   ]
  },
  {
   "cell_type": "markdown",
   "id": "56f2dc3c",
   "metadata": {},
   "source": [
    "- Size column is a good candidate for a categorical data type."
   ]
  },
  {
   "cell_type": "code",
   "execution_count": 37,
   "id": "9c1bd87f",
   "metadata": {},
   "outputs": [
    {
     "data": {
      "text/plain": [
       "array(['S', 'M', 'L', 'XL', 'XXL'], dtype=object)"
      ]
     },
     "execution_count": 37,
     "metadata": {},
     "output_type": "execute_result"
    }
   ],
   "source": [
    "pizzas['size'].unique()"
   ]
  },
  {
   "cell_type": "code",
   "execution_count": 38,
   "id": "23c45c17",
   "metadata": {},
   "outputs": [],
   "source": [
    "pizzas['size'] = pd.Categorical(\n",
    "    values = pizzas['size'],\n",
    "    categories = ['S', 'M', 'L', 'XL', 'XXL'],\n",
    "    ordered = True\n",
    ")"
   ]
  },
  {
   "cell_type": "code",
   "execution_count": 40,
   "id": "3e1b632f",
   "metadata": {},
   "outputs": [
    {
     "name": "stdout",
     "output_type": "stream",
     "text": [
      "<class 'pandas.core.frame.DataFrame'>\n",
      "Index: 96 entries, bbq_ckn_s to veggie_veg_l\n",
      "Data columns (total 3 columns):\n",
      " #   Column         Non-Null Count  Dtype   \n",
      "---  ------         --------------  -----   \n",
      " 0   pizza_type_id  96 non-null     object  \n",
      " 1   size           96 non-null     category\n",
      " 2   price          96 non-null     float64 \n",
      "dtypes: category(1), float64(1), object(1)\n",
      "memory usage: 2.6+ KB\n"
     ]
    }
   ],
   "source": [
    "pizzas.info()"
   ]
  },
  {
   "cell_type": "markdown",
   "id": "799056f9",
   "metadata": {},
   "source": [
    "#### Pizzas Dataframe\n",
    "|Table |Column |Data Type |Description |Key|\n",
    "|-------|---------|-----------|-----------|---|\n",
    "|pizzas|pizza_id|object|Camelcase pizza name and size combined.|X|\n",
    "|pizzas|pizza_type_id|object|Pizza name only.||\n",
    "|pizzas|size|category|Size of the pizza only.||\n",
    "|pizzas|price|float64|Price of the pizza based on name and size.||"
   ]
  },
  {
   "cell_type": "markdown",
   "id": "84ae5542",
   "metadata": {},
   "source": [
    "### Pizza Types CSV"
   ]
  },
  {
   "cell_type": "code",
   "execution_count": 43,
   "id": "65b71deb",
   "metadata": {},
   "outputs": [
    {
     "name": "stdout",
     "output_type": "stream",
     "text": [
      "<class 'pandas.core.frame.DataFrame'>\n",
      "Index: 32 entries, bbq_ckn to veggie_veg\n",
      "Data columns (total 3 columns):\n",
      " #   Column       Non-Null Count  Dtype \n",
      "---  ------       --------------  ----- \n",
      " 0   name         32 non-null     object\n",
      " 1   category     32 non-null     object\n",
      " 2   ingredients  32 non-null     object\n",
      "dtypes: object(3)\n",
      "memory usage: 1.0+ KB\n"
     ]
    }
   ],
   "source": [
    "pizza_types.info()"
   ]
  },
  {
   "cell_type": "markdown",
   "id": "13274e5e",
   "metadata": {},
   "source": [
    "- There are 32 entries in the Pizza Types Dataframe.\n",
    "- There are no null values in this Dataframe."
   ]
  },
  {
   "cell_type": "code",
   "execution_count": 44,
   "id": "eb70b270",
   "metadata": {},
   "outputs": [
    {
     "data": {
      "text/plain": [
       "0"
      ]
     },
     "execution_count": 44,
     "metadata": {},
     "output_type": "execute_result"
    }
   ],
   "source": [
    "pizza_types.duplicated().sum()"
   ]
  },
  {
   "cell_type": "markdown",
   "id": "41143894",
   "metadata": {},
   "source": [
    "- There are no duplicated entries in this Dataframe."
   ]
  },
  {
   "cell_type": "code",
   "execution_count": 45,
   "id": "988cb973",
   "metadata": {},
   "outputs": [
    {
     "data": {
      "text/plain": [
       "name           32\n",
       "category        4\n",
       "ingredients    32\n",
       "dtype: int64"
      ]
     },
     "execution_count": 45,
     "metadata": {},
     "output_type": "execute_result"
    }
   ],
   "source": [
    "pizza_types.nunique()"
   ]
  },
  {
   "cell_type": "markdown",
   "id": "c7855750",
   "metadata": {},
   "source": [
    "- 'Category' column is a candidate for the categorical type.\n",
    "    - 'Category' also consists of nominal data, as they're label objects with no hierarchy."
   ]
  },
  {
   "cell_type": "code",
   "execution_count": 48,
   "id": "55a509c7",
   "metadata": {},
   "outputs": [],
   "source": [
    "pizza_types['category'] = pd.Categorical(\n",
    "    values = pizza_types['category']\n",
    ")"
   ]
  },
  {
   "cell_type": "code",
   "execution_count": 49,
   "id": "669f0590",
   "metadata": {},
   "outputs": [
    {
     "data": {
      "text/plain": [
       "array(['The Barbecue Chicken Pizza', 'The California Chicken Pizza',\n",
       "       'The Chicken Alfredo Pizza', 'The Chicken Pesto Pizza',\n",
       "       'The Southwest Chicken Pizza', 'The Thai Chicken Pizza',\n",
       "       'The Big Meat Pizza', 'The Classic Deluxe Pizza',\n",
       "       'The Hawaiian Pizza', 'The Italian Capocollo Pizza',\n",
       "       'The Napolitana Pizza',\n",
       "       'The Pepperoni, Mushroom, and Peppers Pizza',\n",
       "       'The Pepperoni Pizza', 'The Greek Pizza', 'The Brie Carre Pizza',\n",
       "       'The Calabrese Pizza', 'The Italian Supreme Pizza',\n",
       "       'The Pepper Salami Pizza', 'The Prosciutto and Arugula Pizza',\n",
       "       'The Sicilian Pizza', 'The Soppressata Pizza',\n",
       "       'The Spicy Italian Pizza', 'The Spinach Supreme Pizza',\n",
       "       'The Five Cheese Pizza', 'The Four Cheese Pizza',\n",
       "       'The Green Garden Pizza', 'The Italian Vegetables Pizza',\n",
       "       'The Mediterranean Pizza', 'The Mexicana Pizza',\n",
       "       'The Spinach Pesto Pizza', 'The Spinach and Feta Pizza',\n",
       "       'The Vegetables + Vegetables Pizza'], dtype=object)"
      ]
     },
     "execution_count": 49,
     "metadata": {},
     "output_type": "execute_result"
    }
   ],
   "source": [
    "pizza_types['name'].unique()"
   ]
  },
  {
   "cell_type": "markdown",
   "id": "9a45f982",
   "metadata": {},
   "source": [
    "- The word 'Pizza' is redundant. "
   ]
  },
  {
   "cell_type": "code",
   "execution_count": 50,
   "id": "019d41d6",
   "metadata": {},
   "outputs": [
    {
     "data": {
      "text/plain": [
       "array(['The Barbecue Chicken ', 'The California Chicken ',\n",
       "       'The Chicken Alfredo ', 'The Chicken Pesto ',\n",
       "       'The Southwest Chicken ', 'The Thai Chicken ', 'The Big Meat ',\n",
       "       'The Classic Deluxe ', 'The Hawaiian ', 'The Italian Capocollo ',\n",
       "       'The Napolitana ', 'The Pepperoni, Mushroom, and Peppers ',\n",
       "       'The Pepperoni ', 'The Greek ', 'The Brie Carre ',\n",
       "       'The Calabrese ', 'The Italian Supreme ', 'The Pepper Salami ',\n",
       "       'The Prosciutto and Arugula ', 'The Sicilian ', 'The Soppressata ',\n",
       "       'The Spicy Italian ', 'The Spinach Supreme ', 'The Five Cheese ',\n",
       "       'The Four Cheese ', 'The Green Garden ', 'The Italian Vegetables ',\n",
       "       'The Mediterranean ', 'The Mexicana ', 'The Spinach Pesto ',\n",
       "       'The Spinach and Feta ', 'The Vegetables + Vegetables '],\n",
       "      dtype=object)"
      ]
     },
     "execution_count": 50,
     "metadata": {},
     "output_type": "execute_result"
    }
   ],
   "source": [
    "pizza_types['name'] = pizza_types['name'].str.replace(pat = 'Pizza', repl = '')\n",
    "pizza_types['name'].unique()"
   ]
  },
  {
   "cell_type": "markdown",
   "id": "3d420fd8",
   "metadata": {},
   "source": [
    "## The vis_pizza Dataframe\n",
    "- Combining all 4 Dataframes for visualization."
   ]
  },
  {
   "cell_type": "code",
   "execution_count": 53,
   "id": "da756cb9",
   "metadata": {},
   "outputs": [
    {
     "data": {
      "text/html": [
       "<div>\n",
       "<style scoped>\n",
       "    .dataframe tbody tr th:only-of-type {\n",
       "        vertical-align: middle;\n",
       "    }\n",
       "\n",
       "    .dataframe tbody tr th {\n",
       "        vertical-align: top;\n",
       "    }\n",
       "\n",
       "    .dataframe thead th {\n",
       "        text-align: right;\n",
       "    }\n",
       "</style>\n",
       "<table border=\"1\" class=\"dataframe\">\n",
       "  <thead>\n",
       "    <tr style=\"text-align: right;\">\n",
       "      <th></th>\n",
       "      <th>order_id</th>\n",
       "      <th>pizza_id</th>\n",
       "      <th>quantity</th>\n",
       "      <th>date_time</th>\n",
       "      <th>month</th>\n",
       "      <th>day</th>\n",
       "      <th>hour</th>\n",
       "      <th>week</th>\n",
       "      <th>pizza_type_id</th>\n",
       "      <th>size</th>\n",
       "      <th>price</th>\n",
       "      <th>name</th>\n",
       "      <th>category</th>\n",
       "      <th>ingredients</th>\n",
       "    </tr>\n",
       "  </thead>\n",
       "  <tbody>\n",
       "    <tr>\n",
       "      <th>48615</th>\n",
       "      <td>21348</td>\n",
       "      <td>ckn_alfredo_m</td>\n",
       "      <td>1</td>\n",
       "      <td>2015-12-31 21:23:10</td>\n",
       "      <td>December</td>\n",
       "      <td>Thursday</td>\n",
       "      <td>21</td>\n",
       "      <td>53</td>\n",
       "      <td>ckn_alfredo</td>\n",
       "      <td>M</td>\n",
       "      <td>16.75</td>\n",
       "      <td>The Chicken Alfredo Pizza</td>\n",
       "      <td>Chicken</td>\n",
       "      <td>Chicken, Red Onions, Red Peppers, Mushrooms, A...</td>\n",
       "    </tr>\n",
       "    <tr>\n",
       "      <th>48616</th>\n",
       "      <td>21348</td>\n",
       "      <td>four_cheese_l</td>\n",
       "      <td>1</td>\n",
       "      <td>2015-12-31 21:23:10</td>\n",
       "      <td>December</td>\n",
       "      <td>Thursday</td>\n",
       "      <td>21</td>\n",
       "      <td>53</td>\n",
       "      <td>four_cheese</td>\n",
       "      <td>L</td>\n",
       "      <td>17.95</td>\n",
       "      <td>The Four Cheese Pizza</td>\n",
       "      <td>Veggie</td>\n",
       "      <td>Ricotta Cheese, Gorgonzola Piccante Cheese, Mo...</td>\n",
       "    </tr>\n",
       "    <tr>\n",
       "      <th>48617</th>\n",
       "      <td>21348</td>\n",
       "      <td>napolitana_s</td>\n",
       "      <td>1</td>\n",
       "      <td>2015-12-31 21:23:10</td>\n",
       "      <td>December</td>\n",
       "      <td>Thursday</td>\n",
       "      <td>21</td>\n",
       "      <td>53</td>\n",
       "      <td>napolitana</td>\n",
       "      <td>S</td>\n",
       "      <td>12.00</td>\n",
       "      <td>The Napolitana Pizza</td>\n",
       "      <td>Classic</td>\n",
       "      <td>Tomatoes, Anchovies, Green Olives, Red Onions,...</td>\n",
       "    </tr>\n",
       "    <tr>\n",
       "      <th>48618</th>\n",
       "      <td>21349</td>\n",
       "      <td>mexicana_l</td>\n",
       "      <td>1</td>\n",
       "      <td>2015-12-31 22:09:54</td>\n",
       "      <td>December</td>\n",
       "      <td>Thursday</td>\n",
       "      <td>22</td>\n",
       "      <td>53</td>\n",
       "      <td>mexicana</td>\n",
       "      <td>L</td>\n",
       "      <td>20.25</td>\n",
       "      <td>The Mexicana Pizza</td>\n",
       "      <td>Veggie</td>\n",
       "      <td>Tomatoes, Red Peppers, Jalapeno Peppers, Red O...</td>\n",
       "    </tr>\n",
       "    <tr>\n",
       "      <th>48619</th>\n",
       "      <td>21350</td>\n",
       "      <td>bbq_ckn_s</td>\n",
       "      <td>1</td>\n",
       "      <td>2015-12-31 23:02:05</td>\n",
       "      <td>December</td>\n",
       "      <td>Thursday</td>\n",
       "      <td>23</td>\n",
       "      <td>53</td>\n",
       "      <td>bbq_ckn</td>\n",
       "      <td>S</td>\n",
       "      <td>12.75</td>\n",
       "      <td>The Barbecue Chicken Pizza</td>\n",
       "      <td>Chicken</td>\n",
       "      <td>Barbecued Chicken, Red Peppers, Green Peppers,...</td>\n",
       "    </tr>\n",
       "  </tbody>\n",
       "</table>\n",
       "</div>"
      ],
      "text/plain": [
       "       order_id       pizza_id  quantity           date_time     month  \\\n",
       "48615     21348  ckn_alfredo_m         1 2015-12-31 21:23:10  December   \n",
       "48616     21348  four_cheese_l         1 2015-12-31 21:23:10  December   \n",
       "48617     21348   napolitana_s         1 2015-12-31 21:23:10  December   \n",
       "48618     21349     mexicana_l         1 2015-12-31 22:09:54  December   \n",
       "48619     21350      bbq_ckn_s         1 2015-12-31 23:02:05  December   \n",
       "\n",
       "            day  hour  week pizza_type_id size  price  \\\n",
       "48615  Thursday    21    53   ckn_alfredo    M  16.75   \n",
       "48616  Thursday    21    53   four_cheese    L  17.95   \n",
       "48617  Thursday    21    53    napolitana    S  12.00   \n",
       "48618  Thursday    22    53      mexicana    L  20.25   \n",
       "48619  Thursday    23    53       bbq_ckn    S  12.75   \n",
       "\n",
       "                             name category  \\\n",
       "48615   The Chicken Alfredo Pizza  Chicken   \n",
       "48616       The Four Cheese Pizza   Veggie   \n",
       "48617        The Napolitana Pizza  Classic   \n",
       "48618          The Mexicana Pizza   Veggie   \n",
       "48619  The Barbecue Chicken Pizza  Chicken   \n",
       "\n",
       "                                             ingredients  \n",
       "48615  Chicken, Red Onions, Red Peppers, Mushrooms, A...  \n",
       "48616  Ricotta Cheese, Gorgonzola Piccante Cheese, Mo...  \n",
       "48617  Tomatoes, Anchovies, Green Olives, Red Onions,...  \n",
       "48618  Tomatoes, Red Peppers, Jalapeno Peppers, Red O...  \n",
       "48619  Barbecued Chicken, Red Peppers, Green Peppers,...  "
      ]
     },
     "execution_count": 53,
     "metadata": {},
     "output_type": "execute_result"
    }
   ],
   "source": [
    "# Orders DF matches Order_details DF on 'order_id' column.\n",
    "vis_pizza = order_details.merge(right = orders, how = 'inner', on = 'order_id')\n",
    "# Adding Pizzas DF, key is 'pizza_id' from Order_details DF.\n",
    "vis_pizza = vis_pizza.merge(right = pizzas, how = 'left', on = 'pizza_id')\n",
    "# Adding Pizza_types DF matching 'pizza_type_id' from Pizzas DF.\n",
    "vis_pizza = vis_pizza.merge(right = pizza_types, how = 'left', on = 'pizza_type_id')\n",
    "vis_pizza.tail()"
   ]
  },
  {
   "cell_type": "code",
   "execution_count": 54,
   "id": "e2187e6c",
   "metadata": {},
   "outputs": [],
   "source": [
    "vis_pizza.index.names = ['entry']"
   ]
  },
  {
   "cell_type": "markdown",
   "id": "b90edb83",
   "metadata": {},
   "source": [
    "__Question: What's our average order value? Do we have any bestsellers? How much money did we make this year? Can we identify any seasonality in the sales?__\n",
    "- We need to create a revenue column that calculates total dollars for each entry."
   ]
  },
  {
   "cell_type": "code",
   "execution_count": 55,
   "id": "bda96b2e",
   "metadata": {},
   "outputs": [],
   "source": [
    "vis_pizza['revenue'] = vis_pizza['quantity']*vis_pizza['price']"
   ]
  },
  {
   "cell_type": "code",
   "execution_count": 56,
   "id": "1be1e028",
   "metadata": {},
   "outputs": [
    {
     "data": {
      "text/html": [
       "<div>\n",
       "<style scoped>\n",
       "    .dataframe tbody tr th:only-of-type {\n",
       "        vertical-align: middle;\n",
       "    }\n",
       "\n",
       "    .dataframe tbody tr th {\n",
       "        vertical-align: top;\n",
       "    }\n",
       "\n",
       "    .dataframe thead th {\n",
       "        text-align: right;\n",
       "    }\n",
       "</style>\n",
       "<table border=\"1\" class=\"dataframe\">\n",
       "  <thead>\n",
       "    <tr style=\"text-align: right;\">\n",
       "      <th></th>\n",
       "      <th>order_id</th>\n",
       "      <th>pizza_id</th>\n",
       "      <th>quantity</th>\n",
       "      <th>date_time</th>\n",
       "      <th>month</th>\n",
       "      <th>day</th>\n",
       "      <th>hour</th>\n",
       "      <th>week</th>\n",
       "      <th>pizza_type_id</th>\n",
       "      <th>size</th>\n",
       "      <th>price</th>\n",
       "      <th>name</th>\n",
       "      <th>category</th>\n",
       "      <th>ingredients</th>\n",
       "      <th>revenue</th>\n",
       "    </tr>\n",
       "    <tr>\n",
       "      <th>entry</th>\n",
       "      <th></th>\n",
       "      <th></th>\n",
       "      <th></th>\n",
       "      <th></th>\n",
       "      <th></th>\n",
       "      <th></th>\n",
       "      <th></th>\n",
       "      <th></th>\n",
       "      <th></th>\n",
       "      <th></th>\n",
       "      <th></th>\n",
       "      <th></th>\n",
       "      <th></th>\n",
       "      <th></th>\n",
       "      <th></th>\n",
       "    </tr>\n",
       "  </thead>\n",
       "  <tbody>\n",
       "    <tr>\n",
       "      <th>48615</th>\n",
       "      <td>21348</td>\n",
       "      <td>ckn_alfredo_m</td>\n",
       "      <td>1</td>\n",
       "      <td>2015-12-31 21:23:10</td>\n",
       "      <td>December</td>\n",
       "      <td>Thursday</td>\n",
       "      <td>21</td>\n",
       "      <td>53</td>\n",
       "      <td>ckn_alfredo</td>\n",
       "      <td>M</td>\n",
       "      <td>16.75</td>\n",
       "      <td>The Chicken Alfredo Pizza</td>\n",
       "      <td>Chicken</td>\n",
       "      <td>Chicken, Red Onions, Red Peppers, Mushrooms, A...</td>\n",
       "      <td>16.75</td>\n",
       "    </tr>\n",
       "    <tr>\n",
       "      <th>48616</th>\n",
       "      <td>21348</td>\n",
       "      <td>four_cheese_l</td>\n",
       "      <td>1</td>\n",
       "      <td>2015-12-31 21:23:10</td>\n",
       "      <td>December</td>\n",
       "      <td>Thursday</td>\n",
       "      <td>21</td>\n",
       "      <td>53</td>\n",
       "      <td>four_cheese</td>\n",
       "      <td>L</td>\n",
       "      <td>17.95</td>\n",
       "      <td>The Four Cheese Pizza</td>\n",
       "      <td>Veggie</td>\n",
       "      <td>Ricotta Cheese, Gorgonzola Piccante Cheese, Mo...</td>\n",
       "      <td>17.95</td>\n",
       "    </tr>\n",
       "    <tr>\n",
       "      <th>48617</th>\n",
       "      <td>21348</td>\n",
       "      <td>napolitana_s</td>\n",
       "      <td>1</td>\n",
       "      <td>2015-12-31 21:23:10</td>\n",
       "      <td>December</td>\n",
       "      <td>Thursday</td>\n",
       "      <td>21</td>\n",
       "      <td>53</td>\n",
       "      <td>napolitana</td>\n",
       "      <td>S</td>\n",
       "      <td>12.00</td>\n",
       "      <td>The Napolitana Pizza</td>\n",
       "      <td>Classic</td>\n",
       "      <td>Tomatoes, Anchovies, Green Olives, Red Onions,...</td>\n",
       "      <td>12.00</td>\n",
       "    </tr>\n",
       "    <tr>\n",
       "      <th>48618</th>\n",
       "      <td>21349</td>\n",
       "      <td>mexicana_l</td>\n",
       "      <td>1</td>\n",
       "      <td>2015-12-31 22:09:54</td>\n",
       "      <td>December</td>\n",
       "      <td>Thursday</td>\n",
       "      <td>22</td>\n",
       "      <td>53</td>\n",
       "      <td>mexicana</td>\n",
       "      <td>L</td>\n",
       "      <td>20.25</td>\n",
       "      <td>The Mexicana Pizza</td>\n",
       "      <td>Veggie</td>\n",
       "      <td>Tomatoes, Red Peppers, Jalapeno Peppers, Red O...</td>\n",
       "      <td>20.25</td>\n",
       "    </tr>\n",
       "    <tr>\n",
       "      <th>48619</th>\n",
       "      <td>21350</td>\n",
       "      <td>bbq_ckn_s</td>\n",
       "      <td>1</td>\n",
       "      <td>2015-12-31 23:02:05</td>\n",
       "      <td>December</td>\n",
       "      <td>Thursday</td>\n",
       "      <td>23</td>\n",
       "      <td>53</td>\n",
       "      <td>bbq_ckn</td>\n",
       "      <td>S</td>\n",
       "      <td>12.75</td>\n",
       "      <td>The Barbecue Chicken Pizza</td>\n",
       "      <td>Chicken</td>\n",
       "      <td>Barbecued Chicken, Red Peppers, Green Peppers,...</td>\n",
       "      <td>12.75</td>\n",
       "    </tr>\n",
       "  </tbody>\n",
       "</table>\n",
       "</div>"
      ],
      "text/plain": [
       "       order_id       pizza_id  quantity           date_time     month  \\\n",
       "entry                                                                    \n",
       "48615     21348  ckn_alfredo_m         1 2015-12-31 21:23:10  December   \n",
       "48616     21348  four_cheese_l         1 2015-12-31 21:23:10  December   \n",
       "48617     21348   napolitana_s         1 2015-12-31 21:23:10  December   \n",
       "48618     21349     mexicana_l         1 2015-12-31 22:09:54  December   \n",
       "48619     21350      bbq_ckn_s         1 2015-12-31 23:02:05  December   \n",
       "\n",
       "            day  hour  week pizza_type_id size  price  \\\n",
       "entry                                                   \n",
       "48615  Thursday    21    53   ckn_alfredo    M  16.75   \n",
       "48616  Thursday    21    53   four_cheese    L  17.95   \n",
       "48617  Thursday    21    53    napolitana    S  12.00   \n",
       "48618  Thursday    22    53      mexicana    L  20.25   \n",
       "48619  Thursday    23    53       bbq_ckn    S  12.75   \n",
       "\n",
       "                             name category  \\\n",
       "entry                                        \n",
       "48615   The Chicken Alfredo Pizza  Chicken   \n",
       "48616       The Four Cheese Pizza   Veggie   \n",
       "48617        The Napolitana Pizza  Classic   \n",
       "48618          The Mexicana Pizza   Veggie   \n",
       "48619  The Barbecue Chicken Pizza  Chicken   \n",
       "\n",
       "                                             ingredients  revenue  \n",
       "entry                                                              \n",
       "48615  Chicken, Red Onions, Red Peppers, Mushrooms, A...    16.75  \n",
       "48616  Ricotta Cheese, Gorgonzola Piccante Cheese, Mo...    17.95  \n",
       "48617  Tomatoes, Anchovies, Green Olives, Red Onions,...    12.00  \n",
       "48618  Tomatoes, Red Peppers, Jalapeno Peppers, Red O...    20.25  \n",
       "48619  Barbecued Chicken, Red Peppers, Green Peppers,...    12.75  "
      ]
     },
     "execution_count": 56,
     "metadata": {},
     "output_type": "execute_result"
    }
   ],
   "source": [
    "vis_pizza.tail()"
   ]
  },
  {
   "cell_type": "markdown",
   "id": "fdd3b3b0",
   "metadata": {},
   "source": [
    "## Answering Questions\n",
    "### 1. How many customers do we have each day? Are there any peak hours?"
   ]
  },
  {
   "cell_type": "code",
   "execution_count": 68,
   "id": "8720dd0d",
   "metadata": {},
   "outputs": [],
   "source": [
    "import matplotlib.pyplot as plt\n",
    "import seaborn as sns\n",
    "\n",
    "busy_days = vis_pizza.groupby(by='day', as_index = False)['quantity'].sum()"
   ]
  },
  {
   "cell_type": "code",
   "execution_count": 71,
   "id": "9d7d6c10",
   "metadata": {},
   "outputs": [],
   "source": [
    "color_graph = '#EB8C34'"
   ]
  },
  {
   "cell_type": "code",
   "execution_count": 74,
   "id": "79e6450d",
   "metadata": {},
   "outputs": [
    {
     "data": {
      "image/png": "[encoded data removed]",
      "text/plain": [
       "<Figure size 750x500 with 1 Axes>"
      ]
     },
     "metadata": {},
     "output_type": "display_data"
    }
   ],
   "source": [
    "days_g = sns.catplot(data = busy_days, x = 'quantity', y = 'day', kind = 'bar', color = color_graph, aspect = 1.5)\n",
    "days_g.set(title = 'Total number of pizzas ordered by day of the week')\n",
    "days_g.set(xlabel = 'Number of pizzas ordered', ylabel = 'Day of the week')\n",
    "plt.show()"
   ]
  },
  {
   "cell_type": "markdown",
   "id": "f5ebfa54",
   "metadata": {},
   "source": [
    "### Answer\n",
    "- The three __busiest days__ look to be __Thursday, Friday and Saturday__ based on the number of orders.\n"
   ]
  },
  {
   "cell_type": "code",
   "execution_count": 73,
   "id": "56833f22",
   "metadata": {
    "scrolled": true
   },
   "outputs": [],
   "source": [
    "busy_hours = vis_pizza.groupby(by='hour', as_index = False)['quantity'].sum()"
   ]
  },
  {
   "cell_type": "code",
   "execution_count": 75,
   "id": "0d8d055c",
   "metadata": {},
   "outputs": [
    {
     "data": {
      "image/png": "[encoded data removed]",
      "text/plain": [
       "<Figure size 750x500 with 1 Axes>"
      ]
     },
     "metadata": {},
     "output_type": "display_data"
    }
   ],
   "source": [
    "hours_g = sns.catplot(data = busy_hours, x = 'hour', y = 'quantity', kind = 'bar', color = color_graph, aspect = 1.5)\n",
    "hours_g.set(title = 'Total number of pizzas ordered by hour of the day')\n",
    "hours_g.set(xlabel = 'Hour of the day', ylabel = 'Number of pizzas ordered')\n",
    "plt.show()"
   ]
  },
  {
   "cell_type": "markdown",
   "id": "202af269",
   "metadata": {},
   "source": [
    "### Answer\n",
    "- The __busiest hours__ of the day are __between 12:00 and 14:00__ and __between 17:00 and 19:00__."
   ]
  },
  {
   "cell_type": "markdown",
   "id": "52ac72dc",
   "metadata": {},
   "source": [
    "### 2. How many pizzas are typically in an order? Do we have any bestsellers?"
   ]
  },
  {
   "cell_type": "code",
   "execution_count": 81,
   "id": "85a729f9",
   "metadata": {},
   "outputs": [],
   "source": [
    "#avg quantity per order\n",
    "#quantity of pizza id/comparison"
   ]
  },
  {
   "cell_type": "markdown",
   "id": "ef09fa0c",
   "metadata": {},
   "source": [
    "### 3. How much money did we make this year? Can we identify any seasonality in the sales?"
   ]
  },
  {
   "cell_type": "code",
   "execution_count": 83,
   "id": "2f6b49e2",
   "metadata": {},
   "outputs": [],
   "source": [
    "#sum of the revenue\n",
    "#Seperate the monthly sales into season categories"
   ]
  },
  {
   "cell_type": "markdown",
   "id": "d56edc37",
   "metadata": {},
   "source": [
    "### 4. Are there any pizzas we should take off the menu, or any promotions we could leverage?"
   ]
  },
  {
   "cell_type": "code",
   "execution_count": null,
   "id": "2f5838de",
   "metadata": {},
   "outputs": [],
   "source": [
    "#"
   ]
  },
  {
   "cell_type": "markdown",
   "id": "295c3642",
   "metadata": {},
   "source": []
  },
  {
   "cell_type": "code",
   "execution_count": null,
   "id": "3d3d882d",
   "metadata": {},
   "outputs": [],
   "source": []
  },
  {
   "cell_type": "markdown",
   "id": "e297bb33",
   "metadata": {},
   "source": [
    "### 5. How many pizzas are we making during peak periods?"
   ]
  },
  {
   "cell_type": "code",
   "execution_count": null,
   "id": "5d416420",
   "metadata": {},
   "outputs": [],
   "source": []
  },
  {
   "cell_type": "markdown",
   "id": "9b9c1e44",
   "metadata": {},
   "source": []
  },
  {
   "cell_type": "code",
   "execution_count": null,
   "id": "5d3dc4e4",
   "metadata": {},
   "outputs": [],
   "source": []
  },
  {
   "cell_type": "markdown",
   "id": "b13c2fbc",
   "metadata": {},
   "source": [
    "### 6. What's our average order value?"
   ]
  },
  {
   "cell_type": "code",
   "execution_count": null,
   "id": "dc51933d",
   "metadata": {},
   "outputs": [],
   "source": []
  },
  {
   "cell_type": "markdown",
   "id": "47127aa7",
   "metadata": {},
   "source": [
    "### 7. How well are we utilizing our seating capacity? (we have 15 tables and 60 seats)"
   ]
  },
  {
   "cell_type": "code",
   "execution_count": null,
   "id": "db02954c",
   "metadata": {},
   "outputs": [],
   "source": []
  }
 ],
 "metadata": {
  "kernelspec": {
   "display_name": "Python 3 (ipykernel)",
   "language": "python",
   "name": "python3"
  },
  "language_info": {
   "codemirror_mode": {
    "name": "ipython",
    "version": 3
   },
   "file_extension": ".py",
   "mimetype": "text/x-python",
   "name": "python",
   "nbconvert_exporter": "python",
   "pygments_lexer": "ipython3",
   "version": "3.7.13"
  }
 },
 "nbformat": 4,
 "nbformat_minor": 5
}
