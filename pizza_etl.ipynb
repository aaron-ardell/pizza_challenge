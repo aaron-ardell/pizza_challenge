{
 "cells": [
  {
   "cell_type": "markdown",
   "id": "4b5e00a0",
   "metadata": {},
   "source": [
    "# Plato's Pizza Analysis"
   ]
  },
  {
   "cell_type": "markdown",
   "id": "889a135c",
   "metadata": {},
   "source": [
    "#### Questions to answer:\n",
    "1. How many customers do we have each day? Are there any peak hours?\n",
    "2. How many pizzas are typically in an order? Do we have any bestsellers?\n",
    "3. How much money did we make this year? Can we identify any seasonality in the sales?\n",
    "4. Are there any pizzas we should take off the menu, or any promotions we could leverage?\n",
    "5. What's our average order value?\n",
    "6. How well are we utilizing our seating capacity? (we have 15 tables and 60 seats)"
   ]
  },
  {
   "cell_type": "markdown",
   "id": "bdeeb483",
   "metadata": {},
   "source": [
    "#### Data Origin\n",
    "https://mavenanalytics.io/data-playground?search=pizza\n",
    "#### Original CSV's\n",
    "- orders.csv\n",
    "- order_details.csv\n",
    "- pizzas.csv\n",
    "- pizza_types.csv"
   ]
  },
  {
   "cell_type": "markdown",
   "id": "c878df28",
   "metadata": {},
   "source": [
    "### Importing Data Sets"
   ]
  },
  {
   "cell_type": "code",
   "execution_count": 3,
   "id": "0dbeba02",
   "metadata": {},
   "outputs": [
    {
     "data": {
      "text/html": [
       "<div>\n",
       "<style scoped>\n",
       "    .dataframe tbody tr th:only-of-type {\n",
       "        vertical-align: middle;\n",
       "    }\n",
       "\n",
       "    .dataframe tbody tr th {\n",
       "        vertical-align: top;\n",
       "    }\n",
       "\n",
       "    .dataframe thead th {\n",
       "        text-align: right;\n",
       "    }\n",
       "</style>\n",
       "<table border=\"1\" class=\"dataframe\">\n",
       "  <thead>\n",
       "    <tr style=\"text-align: right;\">\n",
       "      <th></th>\n",
       "      <th>order_id</th>\n",
       "      <th>pizza_id</th>\n",
       "      <th>quantity</th>\n",
       "    </tr>\n",
       "    <tr>\n",
       "      <th>order_details_id</th>\n",
       "      <th></th>\n",
       "      <th></th>\n",
       "      <th></th>\n",
       "    </tr>\n",
       "  </thead>\n",
       "  <tbody>\n",
       "    <tr>\n",
       "      <th>48616</th>\n",
       "      <td>21348</td>\n",
       "      <td>ckn_alfredo_m</td>\n",
       "      <td>1</td>\n",
       "    </tr>\n",
       "    <tr>\n",
       "      <th>48617</th>\n",
       "      <td>21348</td>\n",
       "      <td>four_cheese_l</td>\n",
       "      <td>1</td>\n",
       "    </tr>\n",
       "    <tr>\n",
       "      <th>48618</th>\n",
       "      <td>21348</td>\n",
       "      <td>napolitana_s</td>\n",
       "      <td>1</td>\n",
       "    </tr>\n",
       "    <tr>\n",
       "      <th>48619</th>\n",
       "      <td>21349</td>\n",
       "      <td>mexicana_l</td>\n",
       "      <td>1</td>\n",
       "    </tr>\n",
       "    <tr>\n",
       "      <th>48620</th>\n",
       "      <td>21350</td>\n",
       "      <td>bbq_ckn_s</td>\n",
       "      <td>1</td>\n",
       "    </tr>\n",
       "  </tbody>\n",
       "</table>\n",
       "</div>"
      ],
      "text/plain": [
       "                  order_id       pizza_id  quantity\n",
       "order_details_id                                   \n",
       "48616                21348  ckn_alfredo_m         1\n",
       "48617                21348  four_cheese_l         1\n",
       "48618                21348   napolitana_s         1\n",
       "48619                21349     mexicana_l         1\n",
       "48620                21350      bbq_ckn_s         1"
      ]
     },
     "execution_count": 3,
     "metadata": {},
     "output_type": "execute_result"
    }
   ],
   "source": [
    "# Order Details CSV\n",
    "# Importing pandas, reading csv, creating dataframe, printing last frames.\n",
    "import pandas as pd\n",
    "order_details = pd.read_csv('order_details.csv', index_col='order_details_id')\n",
    "order_details.tail(5)"
   ]
  },
  {
   "cell_type": "code",
   "execution_count": 4,
   "id": "267828ca",
   "metadata": {},
   "outputs": [
    {
     "data": {
      "text/html": [
       "<div>\n",
       "<style scoped>\n",
       "    .dataframe tbody tr th:only-of-type {\n",
       "        vertical-align: middle;\n",
       "    }\n",
       "\n",
       "    .dataframe tbody tr th {\n",
       "        vertical-align: top;\n",
       "    }\n",
       "\n",
       "    .dataframe thead th {\n",
       "        text-align: right;\n",
       "    }\n",
       "</style>\n",
       "<table border=\"1\" class=\"dataframe\">\n",
       "  <thead>\n",
       "    <tr style=\"text-align: right;\">\n",
       "      <th></th>\n",
       "      <th>date_time</th>\n",
       "    </tr>\n",
       "    <tr>\n",
       "      <th>order_id</th>\n",
       "      <th></th>\n",
       "    </tr>\n",
       "  </thead>\n",
       "  <tbody>\n",
       "    <tr>\n",
       "      <th>21346</th>\n",
       "      <td>2015-12-31 20:51:07</td>\n",
       "    </tr>\n",
       "    <tr>\n",
       "      <th>21347</th>\n",
       "      <td>2015-12-31 21:14:37</td>\n",
       "    </tr>\n",
       "    <tr>\n",
       "      <th>21348</th>\n",
       "      <td>2015-12-31 21:23:10</td>\n",
       "    </tr>\n",
       "    <tr>\n",
       "      <th>21349</th>\n",
       "      <td>2015-12-31 22:09:54</td>\n",
       "    </tr>\n",
       "    <tr>\n",
       "      <th>21350</th>\n",
       "      <td>2015-12-31 23:02:05</td>\n",
       "    </tr>\n",
       "  </tbody>\n",
       "</table>\n",
       "</div>"
      ],
      "text/plain": [
       "                   date_time\n",
       "order_id                    \n",
       "21346    2015-12-31 20:51:07\n",
       "21347    2015-12-31 21:14:37\n",
       "21348    2015-12-31 21:23:10\n",
       "21349    2015-12-31 22:09:54\n",
       "21350    2015-12-31 23:02:05"
      ]
     },
     "execution_count": 4,
     "metadata": {},
     "output_type": "execute_result"
    }
   ],
   "source": [
    "#Orders CSV\n",
    "# Reading csv, creating dataframe, printing last frames.\n",
    "# Date and time columns separated, pulling them together with proper format.\n",
    "orders = pd.read_csv('orders.csv', index_col='order_id', parse_dates = [['date', 'time']])\n",
    "orders.tail()"
   ]
  },
  {
   "cell_type": "code",
   "execution_count": 5,
   "id": "4cbf68a8",
   "metadata": {},
   "outputs": [
    {
     "data": {
      "text/html": [
       "<div>\n",
       "<style scoped>\n",
       "    .dataframe tbody tr th:only-of-type {\n",
       "        vertical-align: middle;\n",
       "    }\n",
       "\n",
       "    .dataframe tbody tr th {\n",
       "        vertical-align: top;\n",
       "    }\n",
       "\n",
       "    .dataframe thead th {\n",
       "        text-align: right;\n",
       "    }\n",
       "</style>\n",
       "<table border=\"1\" class=\"dataframe\">\n",
       "  <thead>\n",
       "    <tr style=\"text-align: right;\">\n",
       "      <th></th>\n",
       "      <th>pizza_type_id</th>\n",
       "      <th>size</th>\n",
       "      <th>price</th>\n",
       "    </tr>\n",
       "    <tr>\n",
       "      <th>pizza_id</th>\n",
       "      <th></th>\n",
       "      <th></th>\n",
       "      <th></th>\n",
       "    </tr>\n",
       "  </thead>\n",
       "  <tbody>\n",
       "    <tr>\n",
       "      <th>spinach_fet_m</th>\n",
       "      <td>spinach_fet</td>\n",
       "      <td>M</td>\n",
       "      <td>16.00</td>\n",
       "    </tr>\n",
       "    <tr>\n",
       "      <th>spinach_fet_l</th>\n",
       "      <td>spinach_fet</td>\n",
       "      <td>L</td>\n",
       "      <td>20.25</td>\n",
       "    </tr>\n",
       "    <tr>\n",
       "      <th>veggie_veg_s</th>\n",
       "      <td>veggie_veg</td>\n",
       "      <td>S</td>\n",
       "      <td>12.00</td>\n",
       "    </tr>\n",
       "    <tr>\n",
       "      <th>veggie_veg_m</th>\n",
       "      <td>veggie_veg</td>\n",
       "      <td>M</td>\n",
       "      <td>16.00</td>\n",
       "    </tr>\n",
       "    <tr>\n",
       "      <th>veggie_veg_l</th>\n",
       "      <td>veggie_veg</td>\n",
       "      <td>L</td>\n",
       "      <td>20.25</td>\n",
       "    </tr>\n",
       "  </tbody>\n",
       "</table>\n",
       "</div>"
      ],
      "text/plain": [
       "              pizza_type_id size  price\n",
       "pizza_id                               \n",
       "spinach_fet_m   spinach_fet    M  16.00\n",
       "spinach_fet_l   spinach_fet    L  20.25\n",
       "veggie_veg_s     veggie_veg    S  12.00\n",
       "veggie_veg_m     veggie_veg    M  16.00\n",
       "veggie_veg_l     veggie_veg    L  20.25"
      ]
     },
     "execution_count": 5,
     "metadata": {},
     "output_type": "execute_result"
    }
   ],
   "source": [
    "# Pizzas CSV\n",
    "# Loading csv, creating dataframe, printing last frames.\n",
    "pizzas = pd.read_csv('pizzas.csv', index_col='pizza_id')\n",
    "pizzas.tail()"
   ]
  },
  {
   "cell_type": "code",
   "execution_count": 6,
   "id": "ac03ae05",
   "metadata": {},
   "outputs": [
    {
     "data": {
      "text/html": [
       "<div>\n",
       "<style scoped>\n",
       "    .dataframe tbody tr th:only-of-type {\n",
       "        vertical-align: middle;\n",
       "    }\n",
       "\n",
       "    .dataframe tbody tr th {\n",
       "        vertical-align: top;\n",
       "    }\n",
       "\n",
       "    .dataframe thead th {\n",
       "        text-align: right;\n",
       "    }\n",
       "</style>\n",
       "<table border=\"1\" class=\"dataframe\">\n",
       "  <thead>\n",
       "    <tr style=\"text-align: right;\">\n",
       "      <th></th>\n",
       "      <th>name</th>\n",
       "      <th>category</th>\n",
       "      <th>ingredients</th>\n",
       "    </tr>\n",
       "    <tr>\n",
       "      <th>pizza_type_id</th>\n",
       "      <th></th>\n",
       "      <th></th>\n",
       "      <th></th>\n",
       "    </tr>\n",
       "  </thead>\n",
       "  <tbody>\n",
       "    <tr>\n",
       "      <th>mediterraneo</th>\n",
       "      <td>The Mediterranean Pizza</td>\n",
       "      <td>Veggie</td>\n",
       "      <td>Spinach, Artichokes, Kalamata Olives, Sun-drie...</td>\n",
       "    </tr>\n",
       "    <tr>\n",
       "      <th>mexicana</th>\n",
       "      <td>The Mexicana Pizza</td>\n",
       "      <td>Veggie</td>\n",
       "      <td>Tomatoes, Red Peppers, Jalapeno Peppers, Red O...</td>\n",
       "    </tr>\n",
       "    <tr>\n",
       "      <th>spin_pesto</th>\n",
       "      <td>The Spinach Pesto Pizza</td>\n",
       "      <td>Veggie</td>\n",
       "      <td>Spinach, Artichokes, Tomatoes, Sun-dried Tomat...</td>\n",
       "    </tr>\n",
       "    <tr>\n",
       "      <th>spinach_fet</th>\n",
       "      <td>The Spinach and Feta Pizza</td>\n",
       "      <td>Veggie</td>\n",
       "      <td>Spinach, Mushrooms, Red Onions, Feta Cheese, G...</td>\n",
       "    </tr>\n",
       "    <tr>\n",
       "      <th>veggie_veg</th>\n",
       "      <td>The Vegetables + Vegetables Pizza</td>\n",
       "      <td>Veggie</td>\n",
       "      <td>Mushrooms, Tomatoes, Red Peppers, Green Pepper...</td>\n",
       "    </tr>\n",
       "  </tbody>\n",
       "</table>\n",
       "</div>"
      ],
      "text/plain": [
       "                                            name category  \\\n",
       "pizza_type_id                                               \n",
       "mediterraneo             The Mediterranean Pizza   Veggie   \n",
       "mexicana                      The Mexicana Pizza   Veggie   \n",
       "spin_pesto               The Spinach Pesto Pizza   Veggie   \n",
       "spinach_fet           The Spinach and Feta Pizza   Veggie   \n",
       "veggie_veg     The Vegetables + Vegetables Pizza   Veggie   \n",
       "\n",
       "                                                     ingredients  \n",
       "pizza_type_id                                                     \n",
       "mediterraneo   Spinach, Artichokes, Kalamata Olives, Sun-drie...  \n",
       "mexicana       Tomatoes, Red Peppers, Jalapeno Peppers, Red O...  \n",
       "spin_pesto     Spinach, Artichokes, Tomatoes, Sun-dried Tomat...  \n",
       "spinach_fet    Spinach, Mushrooms, Red Onions, Feta Cheese, G...  \n",
       "veggie_veg     Mushrooms, Tomatoes, Red Peppers, Green Pepper...  "
      ]
     },
     "execution_count": 6,
     "metadata": {},
     "output_type": "execute_result"
    }
   ],
   "source": [
    "#Pizza_type CSV\n",
    "# Reading CSV, creating dataframe no index, printing\n",
    "pizza_types = pd.read_csv('pizza_types.csv', index_col='pizza_type_id', encoding='unicode_escape')\n",
    "pizza_types.tail()"
   ]
  },
  {
   "cell_type": "markdown",
   "id": "92a5dfe5",
   "metadata": {},
   "source": [
    "## Exploratory Analysis\n",
    "### Order Details Dataframe"
   ]
  },
  {
   "cell_type": "code",
   "execution_count": 7,
   "id": "ed4ed6cd",
   "metadata": {},
   "outputs": [
    {
     "name": "stdout",
     "output_type": "stream",
     "text": [
      "<class 'pandas.core.frame.DataFrame'>\n",
      "Int64Index: 48620 entries, 1 to 48620\n",
      "Data columns (total 3 columns):\n",
      " #   Column    Non-Null Count  Dtype \n",
      "---  ------    --------------  ----- \n",
      " 0   order_id  48620 non-null  int64 \n",
      " 1   pizza_id  48620 non-null  object\n",
      " 2   quantity  48620 non-null  int64 \n",
      "dtypes: int64(2), object(1)\n",
      "memory usage: 1.5+ MB\n"
     ]
    }
   ],
   "source": [
    "order_details.info()"
   ]
  },
  {
   "cell_type": "markdown",
   "id": "a9a69618",
   "metadata": {},
   "source": [
    "- The Order Details Dataframe has 48620 entries.\n",
    "- There are no null values in this Dataframe."
   ]
  },
  {
   "cell_type": "code",
   "execution_count": 8,
   "id": "be8e5bf8",
   "metadata": {},
   "outputs": [
    {
     "data": {
      "text/plain": [
       "0"
      ]
     },
     "execution_count": 8,
     "metadata": {},
     "output_type": "execute_result"
    }
   ],
   "source": [
    "order_details.duplicated().sum()"
   ]
  },
  {
   "cell_type": "markdown",
   "id": "750e50e5",
   "metadata": {},
   "source": [
    "- There is no duplicate entries in this Dataframe."
   ]
  },
  {
   "cell_type": "code",
   "execution_count": 9,
   "id": "658d0ebe",
   "metadata": {},
   "outputs": [
    {
     "data": {
      "text/plain": [
       "order_id    21350\n",
       "pizza_id       91\n",
       "quantity        4\n",
       "dtype: int64"
      ]
     },
     "execution_count": 9,
     "metadata": {},
     "output_type": "execute_result"
    }
   ],
   "source": [
    "order_details.nunique()"
   ]
  },
  {
   "cell_type": "code",
   "execution_count": 10,
   "id": "58978ef5",
   "metadata": {},
   "outputs": [
    {
     "ename": "SyntaxError",
     "evalue": "invalid syntax (2699646967.py, line 1)",
     "output_type": "error",
     "traceback": [
      "\u001b[1;36m  File \u001b[1;32m\"C:\\Users\\aaron\\AppData\\Local\\Temp\\ipykernel_20772\\2699646967.py\"\u001b[1;36m, line \u001b[1;32m1\u001b[0m\n\u001b[1;33m    - Too many unique entries in the object column to categorize.\u001b[0m\n\u001b[1;37m             ^\u001b[0m\n\u001b[1;31mSyntaxError\u001b[0m\u001b[1;31m:\u001b[0m invalid syntax\n"
     ]
    }
   ],
   "source": [
    "- Too many unique entries in the object column to categorize."
   ]
  },
  {
   "cell_type": "markdown",
   "id": "80bc9505",
   "metadata": {},
   "source": [
    "#### Order Details Dataframe\n",
    "|Table |Column |Data Type |Description |Key|\n",
    "|-------|---------|-----------|-----------|---|\n",
    "|Order Details|order_details_id|int64|Numerical designation for each unique pizza per order.|X|\n",
    "|Order Details|order_id|int64|Numerical designation for each order, which may contain multiple pizzas.||\n",
    "|Order Details|pizza_id|object|Snakecase combination of pizza name and size designation(S,M, or L).||\n",
    "|Order Details|quantity|int64|Sum of how many of a particular pizza per order.||"
   ]
  },
  {
   "cell_type": "markdown",
   "id": "2a914570",
   "metadata": {},
   "source": [
    "### Orders Dataframe"
   ]
  },
  {
   "cell_type": "code",
   "execution_count": 11,
   "id": "af5e3f59",
   "metadata": {},
   "outputs": [
    {
     "name": "stdout",
     "output_type": "stream",
     "text": [
      "<class 'pandas.core.frame.DataFrame'>\n",
      "Int64Index: 21350 entries, 1 to 21350\n",
      "Data columns (total 1 columns):\n",
      " #   Column     Non-Null Count  Dtype         \n",
      "---  ------     --------------  -----         \n",
      " 0   date_time  21350 non-null  datetime64[ns]\n",
      "dtypes: datetime64[ns](1)\n",
      "memory usage: 333.6 KB\n"
     ]
    }
   ],
   "source": [
    "orders.info()"
   ]
  },
  {
   "cell_type": "markdown",
   "id": "bcc84b58",
   "metadata": {},
   "source": [
    "- The Orders Dataframe has 21350 entries.\n",
    "- There are no null values in the Dataframe."
   ]
  },
  {
   "cell_type": "code",
   "execution_count": 12,
   "id": "c6fae1f4",
   "metadata": {},
   "outputs": [
    {
     "data": {
      "text/plain": [
       "0"
      ]
     },
     "execution_count": 12,
     "metadata": {},
     "output_type": "execute_result"
    }
   ],
   "source": [
    "orders.duplicated().sum()"
   ]
  },
  {
   "cell_type": "markdown",
   "id": "15b87613",
   "metadata": {},
   "source": [
    "- There are no duplicated entries in this Dataframe. "
   ]
  },
  {
   "cell_type": "markdown",
   "id": "8478ab08",
   "metadata": {},
   "source": [
    "__Question: How many customers do we have each day? Are there any peak hours?__\n",
    "- We will need to categorize the dates by days of the week. We will also need hours alone for calculation.\n",
    "\n",
    "__Question: How much money did we make this year? Can we identify any seasonality in the sales?__\n",
    "- We will also need to categorize the month.\n"
   ]
  },
  {
   "cell_type": "code",
   "execution_count": 13,
   "id": "0df05540",
   "metadata": {},
   "outputs": [
    {
     "data": {
      "text/html": [
       "<div>\n",
       "<style scoped>\n",
       "    .dataframe tbody tr th:only-of-type {\n",
       "        vertical-align: middle;\n",
       "    }\n",
       "\n",
       "    .dataframe tbody tr th {\n",
       "        vertical-align: top;\n",
       "    }\n",
       "\n",
       "    .dataframe thead th {\n",
       "        text-align: right;\n",
       "    }\n",
       "</style>\n",
       "<table border=\"1\" class=\"dataframe\">\n",
       "  <thead>\n",
       "    <tr style=\"text-align: right;\">\n",
       "      <th></th>\n",
       "      <th>date_time</th>\n",
       "      <th>month</th>\n",
       "      <th>day</th>\n",
       "      <th>hour</th>\n",
       "      <th>week</th>\n",
       "    </tr>\n",
       "    <tr>\n",
       "      <th>order_id</th>\n",
       "      <th></th>\n",
       "      <th></th>\n",
       "      <th></th>\n",
       "      <th></th>\n",
       "      <th></th>\n",
       "    </tr>\n",
       "  </thead>\n",
       "  <tbody>\n",
       "    <tr>\n",
       "      <th>21346</th>\n",
       "      <td>2015-12-31 20:51:07</td>\n",
       "      <td>December</td>\n",
       "      <td>Thursday</td>\n",
       "      <td>20</td>\n",
       "      <td>53</td>\n",
       "    </tr>\n",
       "    <tr>\n",
       "      <th>21347</th>\n",
       "      <td>2015-12-31 21:14:37</td>\n",
       "      <td>December</td>\n",
       "      <td>Thursday</td>\n",
       "      <td>21</td>\n",
       "      <td>53</td>\n",
       "    </tr>\n",
       "    <tr>\n",
       "      <th>21348</th>\n",
       "      <td>2015-12-31 21:23:10</td>\n",
       "      <td>December</td>\n",
       "      <td>Thursday</td>\n",
       "      <td>21</td>\n",
       "      <td>53</td>\n",
       "    </tr>\n",
       "    <tr>\n",
       "      <th>21349</th>\n",
       "      <td>2015-12-31 22:09:54</td>\n",
       "      <td>December</td>\n",
       "      <td>Thursday</td>\n",
       "      <td>22</td>\n",
       "      <td>53</td>\n",
       "    </tr>\n",
       "    <tr>\n",
       "      <th>21350</th>\n",
       "      <td>2015-12-31 23:02:05</td>\n",
       "      <td>December</td>\n",
       "      <td>Thursday</td>\n",
       "      <td>23</td>\n",
       "      <td>53</td>\n",
       "    </tr>\n",
       "  </tbody>\n",
       "</table>\n",
       "</div>"
      ],
      "text/plain": [
       "                   date_time     month       day  hour  week\n",
       "order_id                                                    \n",
       "21346    2015-12-31 20:51:07  December  Thursday    20    53\n",
       "21347    2015-12-31 21:14:37  December  Thursday    21    53\n",
       "21348    2015-12-31 21:23:10  December  Thursday    21    53\n",
       "21349    2015-12-31 22:09:54  December  Thursday    22    53\n",
       "21350    2015-12-31 23:02:05  December  Thursday    23    53"
      ]
     },
     "execution_count": 13,
     "metadata": {},
     "output_type": "execute_result"
    }
   ],
   "source": [
    "'''https://pandas.pydata.org/pandas-docs/stable/reference/api/pandas.Series.dt.date.html\n",
    "https://pandas.pydata.org/pandas-docs/stable/reference/api/pandas.Series.dt.day_name.html#pandas.Series.dt.day_name'''\n",
    "\n",
    "orders['month'] = orders['date_time'].dt.month_name()\n",
    "orders['day'] = orders['date_time'].dt.day_name()\n",
    "orders['hour'] = orders['date_time'].dt.hour\n",
    "orders['week'] = orders['date_time'].dt.isocalendar().week\n",
    "orders.tail()"
   ]
  },
  {
   "cell_type": "code",
   "execution_count": 14,
   "id": "59988330",
   "metadata": {},
   "outputs": [
    {
     "name": "stdout",
     "output_type": "stream",
     "text": [
      "<class 'pandas.core.frame.DataFrame'>\n",
      "Int64Index: 21350 entries, 1 to 21350\n",
      "Data columns (total 5 columns):\n",
      " #   Column     Non-Null Count  Dtype         \n",
      "---  ------     --------------  -----         \n",
      " 0   date_time  21350 non-null  datetime64[ns]\n",
      " 1   month      21350 non-null  object        \n",
      " 2   day        21350 non-null  object        \n",
      " 3   hour       21350 non-null  int64         \n",
      " 4   week       21350 non-null  UInt32        \n",
      "dtypes: UInt32(1), datetime64[ns](1), int64(1), object(2)\n",
      "memory usage: 3.2 MB\n"
     ]
    }
   ],
   "source": [
    "orders.info(memory_usage='deep')"
   ]
  },
  {
   "cell_type": "markdown",
   "id": "3ad63cfa",
   "metadata": {},
   "source": [
    "- Dataframe is utilizing 3.2 MB of memory."
   ]
  },
  {
   "cell_type": "code",
   "execution_count": 15,
   "id": "6c64252a",
   "metadata": {},
   "outputs": [
    {
     "data": {
      "text/plain": [
       "Index         170800\n",
       "date_time     170800\n",
       "month        1347224\n",
       "day          1369889\n",
       "hour          170800\n",
       "week          106750\n",
       "dtype: int64"
      ]
     },
     "execution_count": 15,
     "metadata": {},
     "output_type": "execute_result"
    }
   ],
   "source": [
    "orders.memory_usage(deep = True)"
   ]
  },
  {
   "cell_type": "markdown",
   "id": "f9db721f",
   "metadata": {},
   "source": [
    "- It's the \"month\" and \"day\" columns utilizing the most memory."
   ]
  },
  {
   "cell_type": "code",
   "execution_count": 16,
   "id": "819c7536",
   "metadata": {},
   "outputs": [
    {
     "data": {
      "text/plain": [
       "date_time    21350\n",
       "month           12\n",
       "day              7\n",
       "hour            15\n",
       "week            53\n",
       "dtype: int64"
      ]
     },
     "execution_count": 16,
     "metadata": {},
     "output_type": "execute_result"
    }
   ],
   "source": [
    "orders.nunique()"
   ]
  },
  {
   "cell_type": "markdown",
   "id": "948401c6",
   "metadata": {},
   "source": [
    "- The \"month\" and \"day\" columns have few unique values. Converting to a categorical data type will improve performance."
   ]
  },
  {
   "cell_type": "code",
   "execution_count": 17,
   "id": "42868828",
   "metadata": {},
   "outputs": [],
   "source": [
    "#https://pandas.pydata.org/docs/reference/api/pandas.Categorical.html\n",
    "\n",
    "orders['month'] = pd.Categorical(\n",
    "    values = orders['month'], \n",
    "    categories = ['January', 'February', 'March', 'April', 'May', 'June', 'July', 'August', 'September', 'October', 'November', 'December'],\n",
    "    ordered = True\n",
    ")"
   ]
  },
  {
   "cell_type": "code",
   "execution_count": 18,
   "id": "06d1e58c",
   "metadata": {},
   "outputs": [],
   "source": [
    "orders['day'] = pd.Categorical(\n",
    "    values = orders['day'],\n",
    "    categories = ['Monday', 'Tuesday', 'Wednesday', 'Thursday', 'Friday', 'Saturday', 'Sunday'],\n",
    "    ordered = True\n",
    ")"
   ]
  },
  {
   "cell_type": "code",
   "execution_count": 19,
   "id": "52698f5b",
   "metadata": {},
   "outputs": [
    {
     "name": "stdout",
     "output_type": "stream",
     "text": [
      "<class 'pandas.core.frame.DataFrame'>\n",
      "Int64Index: 21350 entries, 1 to 21350\n",
      "Data columns (total 5 columns):\n",
      " #   Column     Non-Null Count  Dtype         \n",
      "---  ------     --------------  -----         \n",
      " 0   date_time  21350 non-null  datetime64[ns]\n",
      " 1   month      21350 non-null  category      \n",
      " 2   day        21350 non-null  category      \n",
      " 3   hour       21350 non-null  int64         \n",
      " 4   week       21350 non-null  UInt32        \n",
      "dtypes: UInt32(1), category(2), datetime64[ns](1), int64(1)\n",
      "memory usage: 648.1 KB\n"
     ]
    }
   ],
   "source": [
    "orders.info(memory_usage='deep')"
   ]
  },
  {
   "cell_type": "markdown",
   "id": "b3858b21",
   "metadata": {},
   "source": [
    "- 648.1 KB is the improvement! "
   ]
  },
  {
   "cell_type": "markdown",
   "id": "bef23592",
   "metadata": {},
   "source": [
    "#### Orders Dataframe\n",
    "|Table |Column |Data Type |Description |Key|\n",
    "|-------|---------|-----------|-----------|---|\n",
    "|orders|order_id|int64|Numerical designation for each individual order.|X|\n",
    "|orders|date_time|datetime64[ns]|The date and time an orders is placed. Prior to cooking and serving.||\n",
    "|orders|month|category|Months by name, Julian calendar, January - December.||\n",
    "|orders|day|category|Days of the week by name, Monday - Sunday.||\n",
    "|orders|hour|int64|24-Hour Clock.||\n",
    "|orders|week|UInt32|52 weeks in the year.||"
   ]
  },
  {
   "cell_type": "markdown",
   "id": "e6562e46",
   "metadata": {},
   "source": [
    "### Pizzas CSV"
   ]
  },
  {
   "cell_type": "code",
   "execution_count": 20,
   "id": "b33e877a",
   "metadata": {},
   "outputs": [
    {
     "name": "stdout",
     "output_type": "stream",
     "text": [
      "<class 'pandas.core.frame.DataFrame'>\n",
      "Index: 96 entries, bbq_ckn_s to veggie_veg_l\n",
      "Data columns (total 3 columns):\n",
      " #   Column         Non-Null Count  Dtype  \n",
      "---  ------         --------------  -----  \n",
      " 0   pizza_type_id  96 non-null     object \n",
      " 1   size           96 non-null     object \n",
      " 2   price          96 non-null     float64\n",
      "dtypes: float64(1), object(2)\n",
      "memory usage: 3.0+ KB\n"
     ]
    }
   ],
   "source": [
    "pizzas.info()"
   ]
  },
  {
   "cell_type": "markdown",
   "id": "fd10f31e",
   "metadata": {},
   "source": [
    "- Pizza Dataframe has 96 entries.\n",
    "- There are no null values in this Dataframe."
   ]
  },
  {
   "cell_type": "code",
   "execution_count": 21,
   "id": "6103a11b",
   "metadata": {},
   "outputs": [
    {
     "data": {
      "text/plain": [
       "0"
      ]
     },
     "execution_count": 21,
     "metadata": {},
     "output_type": "execute_result"
    }
   ],
   "source": [
    "pizzas.duplicated().sum()"
   ]
  },
  {
   "cell_type": "markdown",
   "id": "d69052bf",
   "metadata": {},
   "source": [
    "- There are no duplicated entries in this Dataframe."
   ]
  },
  {
   "cell_type": "code",
   "execution_count": 22,
   "id": "657d8de9",
   "metadata": {},
   "outputs": [
    {
     "data": {
      "text/plain": [
       "pizza_type_id    32\n",
       "size              5\n",
       "price            27\n",
       "dtype: int64"
      ]
     },
     "execution_count": 22,
     "metadata": {},
     "output_type": "execute_result"
    }
   ],
   "source": [
    "pizzas.nunique()"
   ]
  },
  {
   "cell_type": "markdown",
   "id": "3ce458c3",
   "metadata": {},
   "source": [
    "- Size column is a good candidate for a categorical data type."
   ]
  },
  {
   "cell_type": "code",
   "execution_count": 23,
   "id": "cb90e4ca",
   "metadata": {},
   "outputs": [
    {
     "data": {
      "text/plain": [
       "array(['S', 'M', 'L', 'XL', 'XXL'], dtype=object)"
      ]
     },
     "execution_count": 23,
     "metadata": {},
     "output_type": "execute_result"
    }
   ],
   "source": [
    "pizzas['size'].unique()"
   ]
  },
  {
   "cell_type": "code",
   "execution_count": 24,
   "id": "23c45c17",
   "metadata": {},
   "outputs": [],
   "source": [
    "pizzas['size'] = pd.Categorical(\n",
    "    values = pizzas['size'],\n",
    "    categories = ['S', 'M', 'L', 'XL', 'XXL'],\n",
    "    ordered = True\n",
    ")"
   ]
  },
  {
   "cell_type": "code",
   "execution_count": 25,
   "id": "3e1b632f",
   "metadata": {},
   "outputs": [
    {
     "name": "stdout",
     "output_type": "stream",
     "text": [
      "<class 'pandas.core.frame.DataFrame'>\n",
      "Index: 96 entries, bbq_ckn_s to veggie_veg_l\n",
      "Data columns (total 3 columns):\n",
      " #   Column         Non-Null Count  Dtype   \n",
      "---  ------         --------------  -----   \n",
      " 0   pizza_type_id  96 non-null     object  \n",
      " 1   size           96 non-null     category\n",
      " 2   price          96 non-null     float64 \n",
      "dtypes: category(1), float64(1), object(1)\n",
      "memory usage: 2.6+ KB\n"
     ]
    }
   ],
   "source": [
    "pizzas.info()"
   ]
  },
  {
   "cell_type": "markdown",
   "id": "3173cbdb",
   "metadata": {},
   "source": [
    "#### Pizzas Dataframe\n",
    "|Table |Column |Data Type |Description |Key|\n",
    "|-------|---------|-----------|-----------|---|\n",
    "|pizzas|pizza_id|object|Camelcase pizza name and size combined.|X|\n",
    "|pizzas|pizza_type_id|object|Pizza name only.||\n",
    "|pizzas|size|category|Size of the pizza only.||\n",
    "|pizzas|price|float64|Price of the pizza based on name and size.||"
   ]
  },
  {
   "cell_type": "markdown",
   "id": "79b0cf37",
   "metadata": {},
   "source": [
    "### Pizza Types CSV"
   ]
  },
  {
   "cell_type": "code",
   "execution_count": 26,
   "id": "6fe68435",
   "metadata": {},
   "outputs": [
    {
     "name": "stdout",
     "output_type": "stream",
     "text": [
      "<class 'pandas.core.frame.DataFrame'>\n",
      "Index: 32 entries, bbq_ckn to veggie_veg\n",
      "Data columns (total 3 columns):\n",
      " #   Column       Non-Null Count  Dtype \n",
      "---  ------       --------------  ----- \n",
      " 0   name         32 non-null     object\n",
      " 1   category     32 non-null     object\n",
      " 2   ingredients  32 non-null     object\n",
      "dtypes: object(3)\n",
      "memory usage: 1.0+ KB\n"
     ]
    }
   ],
   "source": [
    "pizza_types.info()"
   ]
  },
  {
   "cell_type": "markdown",
   "id": "30ceb5f0",
   "metadata": {},
   "source": [
    "- There are 32 entries in the Pizza Types Dataframe.\n",
    "- There are no null values in this Dataframe."
   ]
  },
  {
   "cell_type": "code",
   "execution_count": 27,
   "id": "eb70b270",
   "metadata": {},
   "outputs": [
    {
     "data": {
      "text/plain": [
       "0"
      ]
     },
     "execution_count": 27,
     "metadata": {},
     "output_type": "execute_result"
    }
   ],
   "source": [
    "pizza_types.duplicated().sum()"
   ]
  },
  {
   "cell_type": "markdown",
   "id": "112b81ce",
   "metadata": {},
   "source": [
    "- There are no duplicated entries in this Dataframe."
   ]
  },
  {
   "cell_type": "code",
   "execution_count": 28,
   "id": "f5297afa",
   "metadata": {},
   "outputs": [
    {
     "data": {
      "text/plain": [
       "name           32\n",
       "category        4\n",
       "ingredients    32\n",
       "dtype: int64"
      ]
     },
     "execution_count": 28,
     "metadata": {},
     "output_type": "execute_result"
    }
   ],
   "source": [
    "pizza_types.nunique()"
   ]
  },
  {
   "cell_type": "markdown",
   "id": "5fe57925",
   "metadata": {},
   "source": [
    "- 'Category' column is a candidate for the categorical type.\n",
    "    - 'Category' also consists of nominal data, as they're label objects with no hierarchy."
   ]
  },
  {
   "cell_type": "code",
   "execution_count": 29,
   "id": "55a509c7",
   "metadata": {},
   "outputs": [],
   "source": [
    "pizza_types['category'] = pd.Categorical(\n",
    "    values = pizza_types['category']\n",
    ")"
   ]
  },
  {
   "cell_type": "code",
   "execution_count": 30,
   "id": "669f0590",
   "metadata": {},
   "outputs": [
    {
     "data": {
      "text/plain": [
       "array(['The Barbecue Chicken Pizza', 'The California Chicken Pizza',\n",
       "       'The Chicken Alfredo Pizza', 'The Chicken Pesto Pizza',\n",
       "       'The Southwest Chicken Pizza', 'The Thai Chicken Pizza',\n",
       "       'The Big Meat Pizza', 'The Classic Deluxe Pizza',\n",
       "       'The Hawaiian Pizza', 'The Italian Capocollo Pizza',\n",
       "       'The Napolitana Pizza',\n",
       "       'The Pepperoni, Mushroom, and Peppers Pizza',\n",
       "       'The Pepperoni Pizza', 'The Greek Pizza', 'The Brie Carre Pizza',\n",
       "       'The Calabrese Pizza', 'The Italian Supreme Pizza',\n",
       "       'The Pepper Salami Pizza', 'The Prosciutto and Arugula Pizza',\n",
       "       'The Sicilian Pizza', 'The Soppressata Pizza',\n",
       "       'The Spicy Italian Pizza', 'The Spinach Supreme Pizza',\n",
       "       'The Five Cheese Pizza', 'The Four Cheese Pizza',\n",
       "       'The Green Garden Pizza', 'The Italian Vegetables Pizza',\n",
       "       'The Mediterranean Pizza', 'The Mexicana Pizza',\n",
       "       'The Spinach Pesto Pizza', 'The Spinach and Feta Pizza',\n",
       "       'The Vegetables + Vegetables Pizza'], dtype=object)"
      ]
     },
     "execution_count": 30,
     "metadata": {},
     "output_type": "execute_result"
    }
   ],
   "source": [
    "pizza_types['name'].unique()"
   ]
  },
  {
   "cell_type": "markdown",
   "id": "7c67b7ed",
   "metadata": {},
   "source": [
    "- The word 'Pizza' is redundant. "
   ]
  },
  {
   "cell_type": "code",
   "execution_count": 31,
   "id": "c38eeb76",
   "metadata": {},
   "outputs": [
    {
     "data": {
      "text/plain": [
       "array(['The Barbecue Chicken ', 'The California Chicken ',\n",
       "       'The Chicken Alfredo ', 'The Chicken Pesto ',\n",
       "       'The Southwest Chicken ', 'The Thai Chicken ', 'The Big Meat ',\n",
       "       'The Classic Deluxe ', 'The Hawaiian ', 'The Italian Capocollo ',\n",
       "       'The Napolitana ', 'The Pepperoni, Mushroom, and Peppers ',\n",
       "       'The Pepperoni ', 'The Greek ', 'The Brie Carre ',\n",
       "       'The Calabrese ', 'The Italian Supreme ', 'The Pepper Salami ',\n",
       "       'The Prosciutto and Arugula ', 'The Sicilian ', 'The Soppressata ',\n",
       "       'The Spicy Italian ', 'The Spinach Supreme ', 'The Five Cheese ',\n",
       "       'The Four Cheese ', 'The Green Garden ', 'The Italian Vegetables ',\n",
       "       'The Mediterranean ', 'The Mexicana ', 'The Spinach Pesto ',\n",
       "       'The Spinach and Feta ', 'The Vegetables + Vegetables '],\n",
       "      dtype=object)"
      ]
     },
     "execution_count": 31,
     "metadata": {},
     "output_type": "execute_result"
    }
   ],
   "source": [
    "pizza_types['name'] = pizza_types['name'].str.replace(pat = 'Pizza', repl = '')\n",
    "pizza_types['name'].unique()"
   ]
  },
  {
   "cell_type": "markdown",
   "id": "18621083",
   "metadata": {},
   "source": [
    "## The vis_pizza Dataframe\n",
    "- Combining all 4 Dataframes for visualization."
   ]
  },
  {
   "cell_type": "code",
   "execution_count": 32,
   "id": "da756cb9",
   "metadata": {},
   "outputs": [
    {
     "data": {
      "text/html": [
       "<div>\n",
       "<style scoped>\n",
       "    .dataframe tbody tr th:only-of-type {\n",
       "        vertical-align: middle;\n",
       "    }\n",
       "\n",
       "    .dataframe tbody tr th {\n",
       "        vertical-align: top;\n",
       "    }\n",
       "\n",
       "    .dataframe thead th {\n",
       "        text-align: right;\n",
       "    }\n",
       "</style>\n",
       "<table border=\"1\" class=\"dataframe\">\n",
       "  <thead>\n",
       "    <tr style=\"text-align: right;\">\n",
       "      <th></th>\n",
       "      <th>order_id</th>\n",
       "      <th>pizza_id</th>\n",
       "      <th>quantity</th>\n",
       "      <th>date_time</th>\n",
       "      <th>month</th>\n",
       "      <th>day</th>\n",
       "      <th>hour</th>\n",
       "      <th>week</th>\n",
       "      <th>pizza_type_id</th>\n",
       "      <th>size</th>\n",
       "      <th>price</th>\n",
       "      <th>name</th>\n",
       "      <th>category</th>\n",
       "      <th>ingredients</th>\n",
       "    </tr>\n",
       "  </thead>\n",
       "  <tbody>\n",
       "    <tr>\n",
       "      <th>48615</th>\n",
       "      <td>21348</td>\n",
       "      <td>ckn_alfredo_m</td>\n",
       "      <td>1</td>\n",
       "      <td>2015-12-31 21:23:10</td>\n",
       "      <td>December</td>\n",
       "      <td>Thursday</td>\n",
       "      <td>21</td>\n",
       "      <td>53</td>\n",
       "      <td>ckn_alfredo</td>\n",
       "      <td>M</td>\n",
       "      <td>16.75</td>\n",
       "      <td>The Chicken Alfredo</td>\n",
       "      <td>Chicken</td>\n",
       "      <td>Chicken, Red Onions, Red Peppers, Mushrooms, A...</td>\n",
       "    </tr>\n",
       "    <tr>\n",
       "      <th>48616</th>\n",
       "      <td>21348</td>\n",
       "      <td>four_cheese_l</td>\n",
       "      <td>1</td>\n",
       "      <td>2015-12-31 21:23:10</td>\n",
       "      <td>December</td>\n",
       "      <td>Thursday</td>\n",
       "      <td>21</td>\n",
       "      <td>53</td>\n",
       "      <td>four_cheese</td>\n",
       "      <td>L</td>\n",
       "      <td>17.95</td>\n",
       "      <td>The Four Cheese</td>\n",
       "      <td>Veggie</td>\n",
       "      <td>Ricotta Cheese, Gorgonzola Piccante Cheese, Mo...</td>\n",
       "    </tr>\n",
       "    <tr>\n",
       "      <th>48617</th>\n",
       "      <td>21348</td>\n",
       "      <td>napolitana_s</td>\n",
       "      <td>1</td>\n",
       "      <td>2015-12-31 21:23:10</td>\n",
       "      <td>December</td>\n",
       "      <td>Thursday</td>\n",
       "      <td>21</td>\n",
       "      <td>53</td>\n",
       "      <td>napolitana</td>\n",
       "      <td>S</td>\n",
       "      <td>12.00</td>\n",
       "      <td>The Napolitana</td>\n",
       "      <td>Classic</td>\n",
       "      <td>Tomatoes, Anchovies, Green Olives, Red Onions,...</td>\n",
       "    </tr>\n",
       "    <tr>\n",
       "      <th>48618</th>\n",
       "      <td>21349</td>\n",
       "      <td>mexicana_l</td>\n",
       "      <td>1</td>\n",
       "      <td>2015-12-31 22:09:54</td>\n",
       "      <td>December</td>\n",
       "      <td>Thursday</td>\n",
       "      <td>22</td>\n",
       "      <td>53</td>\n",
       "      <td>mexicana</td>\n",
       "      <td>L</td>\n",
       "      <td>20.25</td>\n",
       "      <td>The Mexicana</td>\n",
       "      <td>Veggie</td>\n",
       "      <td>Tomatoes, Red Peppers, Jalapeno Peppers, Red O...</td>\n",
       "    </tr>\n",
       "    <tr>\n",
       "      <th>48619</th>\n",
       "      <td>21350</td>\n",
       "      <td>bbq_ckn_s</td>\n",
       "      <td>1</td>\n",
       "      <td>2015-12-31 23:02:05</td>\n",
       "      <td>December</td>\n",
       "      <td>Thursday</td>\n",
       "      <td>23</td>\n",
       "      <td>53</td>\n",
       "      <td>bbq_ckn</td>\n",
       "      <td>S</td>\n",
       "      <td>12.75</td>\n",
       "      <td>The Barbecue Chicken</td>\n",
       "      <td>Chicken</td>\n",
       "      <td>Barbecued Chicken, Red Peppers, Green Peppers,...</td>\n",
       "    </tr>\n",
       "  </tbody>\n",
       "</table>\n",
       "</div>"
      ],
      "text/plain": [
       "       order_id       pizza_id  quantity           date_time     month  \\\n",
       "48615     21348  ckn_alfredo_m         1 2015-12-31 21:23:10  December   \n",
       "48616     21348  four_cheese_l         1 2015-12-31 21:23:10  December   \n",
       "48617     21348   napolitana_s         1 2015-12-31 21:23:10  December   \n",
       "48618     21349     mexicana_l         1 2015-12-31 22:09:54  December   \n",
       "48619     21350      bbq_ckn_s         1 2015-12-31 23:02:05  December   \n",
       "\n",
       "            day  hour  week pizza_type_id size  price                   name  \\\n",
       "48615  Thursday    21    53   ckn_alfredo    M  16.75   The Chicken Alfredo    \n",
       "48616  Thursday    21    53   four_cheese    L  17.95       The Four Cheese    \n",
       "48617  Thursday    21    53    napolitana    S  12.00        The Napolitana    \n",
       "48618  Thursday    22    53      mexicana    L  20.25          The Mexicana    \n",
       "48619  Thursday    23    53       bbq_ckn    S  12.75  The Barbecue Chicken    \n",
       "\n",
       "      category                                        ingredients  \n",
       "48615  Chicken  Chicken, Red Onions, Red Peppers, Mushrooms, A...  \n",
       "48616   Veggie  Ricotta Cheese, Gorgonzola Piccante Cheese, Mo...  \n",
       "48617  Classic  Tomatoes, Anchovies, Green Olives, Red Onions,...  \n",
       "48618   Veggie  Tomatoes, Red Peppers, Jalapeno Peppers, Red O...  \n",
       "48619  Chicken  Barbecued Chicken, Red Peppers, Green Peppers,...  "
      ]
     },
     "execution_count": 32,
     "metadata": {},
     "output_type": "execute_result"
    }
   ],
   "source": [
    "# Orders DF matches Order_details DF on 'order_id' column.\n",
    "vis_pizza = order_details.merge(right = orders, how = 'inner', on = 'order_id')\n",
    "# Adding Pizzas DF, key is 'pizza_id' from Order_details DF.\n",
    "vis_pizza = vis_pizza.merge(right = pizzas, how = 'left', on = 'pizza_id')\n",
    "# Adding Pizza_types DF matching 'pizza_type_id' from Pizzas DF.\n",
    "vis_pizza = vis_pizza.merge(right = pizza_types, how = 'left', on = 'pizza_type_id')\n",
    "vis_pizza.tail()"
   ]
  },
  {
   "cell_type": "code",
   "execution_count": 33,
   "id": "e2187e6c",
   "metadata": {},
   "outputs": [],
   "source": [
    "vis_pizza.index.names = ['entry']"
   ]
  },
  {
   "cell_type": "markdown",
   "id": "fe61e05a",
   "metadata": {},
   "source": [
    "__Question: What's our average order value? Do we have any bestsellers? How much money did we make this year? Can we identify any seasonality in the sales?__\n",
    "- We need to create a revenue column that calculates total dollars for each entry."
   ]
  },
  {
   "cell_type": "code",
   "execution_count": 34,
   "id": "bda96b2e",
   "metadata": {},
   "outputs": [],
   "source": [
    "vis_pizza['revenue'] = vis_pizza['quantity']*vis_pizza['price']"
   ]
  },
  {
   "cell_type": "code",
   "execution_count": 35,
   "id": "1be1e028",
   "metadata": {},
   "outputs": [
    {
     "data": {
      "text/html": [
       "<div>\n",
       "<style scoped>\n",
       "    .dataframe tbody tr th:only-of-type {\n",
       "        vertical-align: middle;\n",
       "    }\n",
       "\n",
       "    .dataframe tbody tr th {\n",
       "        vertical-align: top;\n",
       "    }\n",
       "\n",
       "    .dataframe thead th {\n",
       "        text-align: right;\n",
       "    }\n",
       "</style>\n",
       "<table border=\"1\" class=\"dataframe\">\n",
       "  <thead>\n",
       "    <tr style=\"text-align: right;\">\n",
       "      <th></th>\n",
       "      <th>order_id</th>\n",
       "      <th>pizza_id</th>\n",
       "      <th>quantity</th>\n",
       "      <th>date_time</th>\n",
       "      <th>month</th>\n",
       "      <th>day</th>\n",
       "      <th>hour</th>\n",
       "      <th>week</th>\n",
       "      <th>pizza_type_id</th>\n",
       "      <th>size</th>\n",
       "      <th>price</th>\n",
       "      <th>name</th>\n",
       "      <th>category</th>\n",
       "      <th>ingredients</th>\n",
       "      <th>revenue</th>\n",
       "    </tr>\n",
       "    <tr>\n",
       "      <th>entry</th>\n",
       "      <th></th>\n",
       "      <th></th>\n",
       "      <th></th>\n",
       "      <th></th>\n",
       "      <th></th>\n",
       "      <th></th>\n",
       "      <th></th>\n",
       "      <th></th>\n",
       "      <th></th>\n",
       "      <th></th>\n",
       "      <th></th>\n",
       "      <th></th>\n",
       "      <th></th>\n",
       "      <th></th>\n",
       "      <th></th>\n",
       "    </tr>\n",
       "  </thead>\n",
       "  <tbody>\n",
       "    <tr>\n",
       "      <th>48615</th>\n",
       "      <td>21348</td>\n",
       "      <td>ckn_alfredo_m</td>\n",
       "      <td>1</td>\n",
       "      <td>2015-12-31 21:23:10</td>\n",
       "      <td>December</td>\n",
       "      <td>Thursday</td>\n",
       "      <td>21</td>\n",
       "      <td>53</td>\n",
       "      <td>ckn_alfredo</td>\n",
       "      <td>M</td>\n",
       "      <td>16.75</td>\n",
       "      <td>The Chicken Alfredo</td>\n",
       "      <td>Chicken</td>\n",
       "      <td>Chicken, Red Onions, Red Peppers, Mushrooms, A...</td>\n",
       "      <td>16.75</td>\n",
       "    </tr>\n",
       "    <tr>\n",
       "      <th>48616</th>\n",
       "      <td>21348</td>\n",
       "      <td>four_cheese_l</td>\n",
       "      <td>1</td>\n",
       "      <td>2015-12-31 21:23:10</td>\n",
       "      <td>December</td>\n",
       "      <td>Thursday</td>\n",
       "      <td>21</td>\n",
       "      <td>53</td>\n",
       "      <td>four_cheese</td>\n",
       "      <td>L</td>\n",
       "      <td>17.95</td>\n",
       "      <td>The Four Cheese</td>\n",
       "      <td>Veggie</td>\n",
       "      <td>Ricotta Cheese, Gorgonzola Piccante Cheese, Mo...</td>\n",
       "      <td>17.95</td>\n",
       "    </tr>\n",
       "    <tr>\n",
       "      <th>48617</th>\n",
       "      <td>21348</td>\n",
       "      <td>napolitana_s</td>\n",
       "      <td>1</td>\n",
       "      <td>2015-12-31 21:23:10</td>\n",
       "      <td>December</td>\n",
       "      <td>Thursday</td>\n",
       "      <td>21</td>\n",
       "      <td>53</td>\n",
       "      <td>napolitana</td>\n",
       "      <td>S</td>\n",
       "      <td>12.00</td>\n",
       "      <td>The Napolitana</td>\n",
       "      <td>Classic</td>\n",
       "      <td>Tomatoes, Anchovies, Green Olives, Red Onions,...</td>\n",
       "      <td>12.00</td>\n",
       "    </tr>\n",
       "    <tr>\n",
       "      <th>48618</th>\n",
       "      <td>21349</td>\n",
       "      <td>mexicana_l</td>\n",
       "      <td>1</td>\n",
       "      <td>2015-12-31 22:09:54</td>\n",
       "      <td>December</td>\n",
       "      <td>Thursday</td>\n",
       "      <td>22</td>\n",
       "      <td>53</td>\n",
       "      <td>mexicana</td>\n",
       "      <td>L</td>\n",
       "      <td>20.25</td>\n",
       "      <td>The Mexicana</td>\n",
       "      <td>Veggie</td>\n",
       "      <td>Tomatoes, Red Peppers, Jalapeno Peppers, Red O...</td>\n",
       "      <td>20.25</td>\n",
       "    </tr>\n",
       "    <tr>\n",
       "      <th>48619</th>\n",
       "      <td>21350</td>\n",
       "      <td>bbq_ckn_s</td>\n",
       "      <td>1</td>\n",
       "      <td>2015-12-31 23:02:05</td>\n",
       "      <td>December</td>\n",
       "      <td>Thursday</td>\n",
       "      <td>23</td>\n",
       "      <td>53</td>\n",
       "      <td>bbq_ckn</td>\n",
       "      <td>S</td>\n",
       "      <td>12.75</td>\n",
       "      <td>The Barbecue Chicken</td>\n",
       "      <td>Chicken</td>\n",
       "      <td>Barbecued Chicken, Red Peppers, Green Peppers,...</td>\n",
       "      <td>12.75</td>\n",
       "    </tr>\n",
       "  </tbody>\n",
       "</table>\n",
       "</div>"
      ],
      "text/plain": [
       "       order_id       pizza_id  quantity           date_time     month  \\\n",
       "entry                                                                    \n",
       "48615     21348  ckn_alfredo_m         1 2015-12-31 21:23:10  December   \n",
       "48616     21348  four_cheese_l         1 2015-12-31 21:23:10  December   \n",
       "48617     21348   napolitana_s         1 2015-12-31 21:23:10  December   \n",
       "48618     21349     mexicana_l         1 2015-12-31 22:09:54  December   \n",
       "48619     21350      bbq_ckn_s         1 2015-12-31 23:02:05  December   \n",
       "\n",
       "            day  hour  week pizza_type_id size  price                   name  \\\n",
       "entry                                                                          \n",
       "48615  Thursday    21    53   ckn_alfredo    M  16.75   The Chicken Alfredo    \n",
       "48616  Thursday    21    53   four_cheese    L  17.95       The Four Cheese    \n",
       "48617  Thursday    21    53    napolitana    S  12.00        The Napolitana    \n",
       "48618  Thursday    22    53      mexicana    L  20.25          The Mexicana    \n",
       "48619  Thursday    23    53       bbq_ckn    S  12.75  The Barbecue Chicken    \n",
       "\n",
       "      category                                        ingredients  revenue  \n",
       "entry                                                                       \n",
       "48615  Chicken  Chicken, Red Onions, Red Peppers, Mushrooms, A...    16.75  \n",
       "48616   Veggie  Ricotta Cheese, Gorgonzola Piccante Cheese, Mo...    17.95  \n",
       "48617  Classic  Tomatoes, Anchovies, Green Olives, Red Onions,...    12.00  \n",
       "48618   Veggie  Tomatoes, Red Peppers, Jalapeno Peppers, Red O...    20.25  \n",
       "48619  Chicken  Barbecued Chicken, Red Peppers, Green Peppers,...    12.75  "
      ]
     },
     "execution_count": 35,
     "metadata": {},
     "output_type": "execute_result"
    }
   ],
   "source": [
    "vis_pizza.tail()"
   ]
  },
  {
   "cell_type": "markdown",
   "id": "fdd3b3b0",
   "metadata": {},
   "source": [
    "## Answering Questions\n",
    "### 1. How many customers do we have each day? Are there any peak hours?"
   ]
  },
  {
   "cell_type": "code",
   "execution_count": 36,
   "id": "8720dd0d",
   "metadata": {},
   "outputs": [],
   "source": [
    "import matplotlib.pyplot as plt\n",
    "import seaborn as sns\n",
    "\n",
    "busy_days = vis_pizza.groupby(by='day', as_index = False)['quantity'].sum()"
   ]
  },
  {
   "cell_type": "code",
   "execution_count": 37,
   "id": "9d7d6c10",
   "metadata": {},
   "outputs": [],
   "source": [
    "color_graph = '#EB8C34'"
   ]
  },
  {
   "cell_type": "code",
   "execution_count": 38,
   "id": "79e6450d",
   "metadata": {},
   "outputs": [
    {
     "data": {
      "image/png": "[encoded data removed]",
      "text/plain": [
       "<Figure size 750x500 with 1 Axes>"
      ]
     },
     "metadata": {},
     "output_type": "display_data"
    }
   ],
   "source": [
    "days_g = sns.catplot(data = busy_days, x = 'quantity', y = 'day', kind = 'bar', color = color_graph, aspect = 1.5)\n",
    "days_g.set(title = 'Total number of pizzas ordered by day of the week')\n",
    "days_g.set(xlabel = 'Number of pizzas ordered', ylabel = 'Day of the week')\n",
    "plt.show()"
   ]
  },
  {
   "cell_type": "markdown",
   "id": "ae6a76ed",
   "metadata": {},
   "source": [
    "### Answer\n",
    "- The three __busiest days__ look to be __Thursday, Friday and Saturday__ based on the number of orders.\n"
   ]
  },
  {
   "cell_type": "code",
   "execution_count": 39,
   "id": "56833f22",
   "metadata": {
    "scrolled": true
   },
   "outputs": [],
   "source": [
    "busy_hours = vis_pizza.groupby(by='hour', as_index = False)['quantity'].sum()"
   ]
  },
  {
   "cell_type": "code",
   "execution_count": 40,
   "id": "0d8d055c",
   "metadata": {},
   "outputs": [
    {
     "data": {
      "image/png": "[encoded data removed]",
      "text/plain": [
       "<Figure size 750x500 with 1 Axes>"
      ]
     },
     "metadata": {},
     "output_type": "display_data"
    }
   ],
   "source": [
    "hours_g = sns.catplot(data = busy_hours, x = 'hour', y = 'quantity', kind = 'bar', color = color_graph, aspect = 1.5)\n",
    "hours_g.set(title = 'Total number of pizzas ordered by hour of the day')\n",
    "hours_g.set(xlabel = 'Hour of the day', ylabel = 'Number of pizzas ordered')\n",
    "plt.show()"
   ]
  },
  {
   "cell_type": "markdown",
   "id": "dc51fdb4",
   "metadata": {},
   "source": [
    "### Answer\n",
    "- The __busiest hours__ of the day are __between 12:00 and 14:00__ and __between 17:00 and 19:00__."
   ]
  },
  {
   "cell_type": "markdown",
   "id": "0891c17c",
   "metadata": {},
   "source": [
    "### 2. How many pizzas are typically in an order? Do we have any bestsellers?"
   ]
  },
  {
   "cell_type": "code",
   "execution_count": 41,
   "id": "d85fb770",
   "metadata": {},
   "outputs": [
    {
     "data": {
      "text/plain": [
       "2.321967213114754"
      ]
     },
     "execution_count": 41,
     "metadata": {},
     "output_type": "execute_result"
    }
   ],
   "source": [
    "#groupby orders then get quantity average\n",
    "order_quantity_df = vis_pizza.groupby(by = 'order_id', as_index=False)['quantity'].sum().sort_values(by = 'quantity')\n",
    "order_quantity_df['quantity'].mean(axis=0)"
   ]
  },
  {
   "cell_type": "markdown",
   "id": "0d4ba62d",
   "metadata": {},
   "source": [
    "- There is an average of 2.32 pizzas per order.\n",
    "\n",
    "### Answer:\n",
    "- There is an average of 2 pizzas per order."
   ]
  },
  {
   "cell_type": "code",
   "execution_count": 42,
   "id": "7128763c",
   "metadata": {},
   "outputs": [],
   "source": [
    "#groupby by pizza names by revenue\n",
    "revenue_by_name = vis_pizza.groupby(by='name', as_index = False)['revenue'].sum().sort_values(by = 'revenue')"
   ]
  },
  {
   "cell_type": "code",
   "execution_count": 43,
   "id": "05688535",
   "metadata": {},
   "outputs": [
    {
     "data": {
      "text/plain": [
       "32"
      ]
     },
     "execution_count": 43,
     "metadata": {},
     "output_type": "execute_result"
    }
   ],
   "source": [
    "len(revenue_by_name['name'].unique())"
   ]
  },
  {
   "cell_type": "code",
   "execution_count": 44,
   "id": "94b74e4f",
   "metadata": {},
   "outputs": [
    {
     "data": {
      "image/png": "[encoded data removed]",
      "text/plain": [
       "<Figure size 750x500 with 1 Axes>"
      ]
     },
     "metadata": {},
     "output_type": "display_data"
    }
   ],
   "source": [
    "revenue_g = sns.catplot(data = revenue_by_name, x = 'revenue', y = 'name', kind = 'bar', color = color_graph, aspect = 1.5)\n",
    "revenue_g.set(title = 'Pizzas by revenue')\n",
    "revenue_g.set(xlabel = 'Revenue in $us', ylabel = 'Name of pizza')\n",
    "plt.show()"
   ]
  },
  {
   "cell_type": "markdown",
   "id": "03af93ab",
   "metadata": {},
   "source": [
    "- There is a noticable increase in the revenue of the top 4 sellers."
   ]
  },
  {
   "cell_type": "code",
   "execution_count": 45,
   "id": "33a3f8a4",
   "metadata": {},
   "outputs": [],
   "source": [
    "#Using the nlargest to pull the top 4 sellers.\n",
    "best_4_selling = revenue_by_name.nlargest(4, columns = 'revenue')"
   ]
  },
  {
   "cell_type": "code",
   "execution_count": 46,
   "id": "c11b58e9",
   "metadata": {},
   "outputs": [
    {
     "data": {
      "image/png": "[encoded data removed]",
      "text/plain": [
       "<Figure size 750x500 with 1 Axes>"
      ]
     },
     "metadata": {},
     "output_type": "display_data"
    }
   ],
   "source": [
    "best_g = sns.catplot(data = best_4_selling, x = 'revenue', y = 'name', kind = 'bar', color = color_graph, aspect = 1.5)\n",
    "best_g.set(title = 'Best selling pizzas')\n",
    "best_g.set(xlabel = 'Revenue in $us', ylabel = 'Pizza names')\n",
    "plt.show()"
   ]
  },
  {
   "cell_type": "markdown",
   "id": "f448f364",
   "metadata": {},
   "source": [
    "### Answer:\n",
    "- The four best selling pizzas are:\n",
    "    - The Thai Chicken Pizza\n",
    "    - The Barbecue Chicken Pizza\n",
    "    - The California Chicken Pizza\n",
    "    - The Classic Deluxe Pizza"
   ]
  },
  {
   "cell_type": "markdown",
   "id": "24cd9fad",
   "metadata": {},
   "source": [
    "### 3. How much money did we make this year? Can we identify any seasonality in the sales?"
   ]
  },
  {
   "cell_type": "code",
   "execution_count": 47,
   "id": "4f289cf0",
   "metadata": {},
   "outputs": [
    {
     "data": {
      "text/plain": [
       "817860.05"
      ]
     },
     "execution_count": 47,
     "metadata": {},
     "output_type": "execute_result"
    }
   ],
   "source": [
    "#All dataframe entries are dated for the same calendar year.\n",
    "vis_pizza['revenue'].sum(axis = 0)"
   ]
  },
  {
   "cell_type": "markdown",
   "id": "b7a92787",
   "metadata": {},
   "source": [
    "### Answer:\n",
    "- Plato's Pizzaria made __$817,860.05 in sales this year.__"
   ]
  },
  {
   "cell_type": "code",
   "execution_count": 61,
   "id": "e62a340a",
   "metadata": {},
   "outputs": [],
   "source": [
    "# Create a function to determine the season.\n",
    "def find_season(month):\n",
    "    season_month = {\n",
    "        'December':'Winter', 'January':'Winter', 'February':'Winter', 'March':'Spring', 'April':'Spring', 'May':'Spring', 'June':'Summer', 'July':'Summer', 'August':'Summer', 'September':'Autumn', 'October':'Autumn', 'November':'Autumn'\n",
    "    }\n",
    "    return season_month.get(month)"
   ]
  },
  {
   "cell_type": "code",
   "execution_count": 62,
   "id": "c1401881",
   "metadata": {},
   "outputs": [],
   "source": [
    "# loop through month column, create season list, create new column for seasons.\n",
    "season_list = []\n",
    "for month in vis_pizza['month']:\n",
    "    season = find_season(month)\n",
    "    season_list.append(season)\n",
    "    \n",
    "vis_pizza['season'] = season_list"
   ]
  },
  {
   "cell_type": "code",
   "execution_count": 63,
   "id": "85443562",
   "metadata": {},
   "outputs": [
    {
     "data": {
      "text/html": [
       "<div>\n",
       "<style scoped>\n",
       "    .dataframe tbody tr th:only-of-type {\n",
       "        vertical-align: middle;\n",
       "    }\n",
       "\n",
       "    .dataframe tbody tr th {\n",
       "        vertical-align: top;\n",
       "    }\n",
       "\n",
       "    .dataframe thead th {\n",
       "        text-align: right;\n",
       "    }\n",
       "</style>\n",
       "<table border=\"1\" class=\"dataframe\">\n",
       "  <thead>\n",
       "    <tr style=\"text-align: right;\">\n",
       "      <th></th>\n",
       "      <th>order_id</th>\n",
       "      <th>pizza_id</th>\n",
       "      <th>quantity</th>\n",
       "      <th>date_time</th>\n",
       "      <th>month</th>\n",
       "      <th>day</th>\n",
       "      <th>hour</th>\n",
       "      <th>week</th>\n",
       "      <th>pizza_type_id</th>\n",
       "      <th>size</th>\n",
       "      <th>price</th>\n",
       "      <th>name</th>\n",
       "      <th>category</th>\n",
       "      <th>ingredients</th>\n",
       "      <th>revenue</th>\n",
       "      <th>season</th>\n",
       "    </tr>\n",
       "    <tr>\n",
       "      <th>entry</th>\n",
       "      <th></th>\n",
       "      <th></th>\n",
       "      <th></th>\n",
       "      <th></th>\n",
       "      <th></th>\n",
       "      <th></th>\n",
       "      <th></th>\n",
       "      <th></th>\n",
       "      <th></th>\n",
       "      <th></th>\n",
       "      <th></th>\n",
       "      <th></th>\n",
       "      <th></th>\n",
       "      <th></th>\n",
       "      <th></th>\n",
       "      <th></th>\n",
       "    </tr>\n",
       "  </thead>\n",
       "  <tbody>\n",
       "    <tr>\n",
       "      <th>0</th>\n",
       "      <td>1</td>\n",
       "      <td>hawaiian_m</td>\n",
       "      <td>1</td>\n",
       "      <td>2015-01-01 11:38:36</td>\n",
       "      <td>January</td>\n",
       "      <td>Thursday</td>\n",
       "      <td>11</td>\n",
       "      <td>1</td>\n",
       "      <td>hawaiian</td>\n",
       "      <td>M</td>\n",
       "      <td>13.25</td>\n",
       "      <td>The Hawaiian</td>\n",
       "      <td>Classic</td>\n",
       "      <td>Sliced Ham, Pineapple, Mozzarella Cheese</td>\n",
       "      <td>13.25</td>\n",
       "      <td>Winter</td>\n",
       "    </tr>\n",
       "    <tr>\n",
       "      <th>1</th>\n",
       "      <td>2</td>\n",
       "      <td>classic_dlx_m</td>\n",
       "      <td>1</td>\n",
       "      <td>2015-01-01 11:57:40</td>\n",
       "      <td>January</td>\n",
       "      <td>Thursday</td>\n",
       "      <td>11</td>\n",
       "      <td>1</td>\n",
       "      <td>classic_dlx</td>\n",
       "      <td>M</td>\n",
       "      <td>16.00</td>\n",
       "      <td>The Classic Deluxe</td>\n",
       "      <td>Classic</td>\n",
       "      <td>Pepperoni, Mushrooms, Red Onions, Red Peppers,...</td>\n",
       "      <td>16.00</td>\n",
       "      <td>Winter</td>\n",
       "    </tr>\n",
       "    <tr>\n",
       "      <th>2</th>\n",
       "      <td>2</td>\n",
       "      <td>five_cheese_l</td>\n",
       "      <td>1</td>\n",
       "      <td>2015-01-01 11:57:40</td>\n",
       "      <td>January</td>\n",
       "      <td>Thursday</td>\n",
       "      <td>11</td>\n",
       "      <td>1</td>\n",
       "      <td>five_cheese</td>\n",
       "      <td>L</td>\n",
       "      <td>18.50</td>\n",
       "      <td>The Five Cheese</td>\n",
       "      <td>Veggie</td>\n",
       "      <td>Mozzarella Cheese, Provolone Cheese, Smoked Go...</td>\n",
       "      <td>18.50</td>\n",
       "      <td>Winter</td>\n",
       "    </tr>\n",
       "    <tr>\n",
       "      <th>3</th>\n",
       "      <td>2</td>\n",
       "      <td>ital_supr_l</td>\n",
       "      <td>1</td>\n",
       "      <td>2015-01-01 11:57:40</td>\n",
       "      <td>January</td>\n",
       "      <td>Thursday</td>\n",
       "      <td>11</td>\n",
       "      <td>1</td>\n",
       "      <td>ital_supr</td>\n",
       "      <td>L</td>\n",
       "      <td>20.75</td>\n",
       "      <td>The Italian Supreme</td>\n",
       "      <td>Supreme</td>\n",
       "      <td>Calabrese Salami, Capocollo, Tomatoes, Red Oni...</td>\n",
       "      <td>20.75</td>\n",
       "      <td>Winter</td>\n",
       "    </tr>\n",
       "    <tr>\n",
       "      <th>4</th>\n",
       "      <td>2</td>\n",
       "      <td>mexicana_m</td>\n",
       "      <td>1</td>\n",
       "      <td>2015-01-01 11:57:40</td>\n",
       "      <td>January</td>\n",
       "      <td>Thursday</td>\n",
       "      <td>11</td>\n",
       "      <td>1</td>\n",
       "      <td>mexicana</td>\n",
       "      <td>M</td>\n",
       "      <td>16.00</td>\n",
       "      <td>The Mexicana</td>\n",
       "      <td>Veggie</td>\n",
       "      <td>Tomatoes, Red Peppers, Jalapeno Peppers, Red O...</td>\n",
       "      <td>16.00</td>\n",
       "      <td>Winter</td>\n",
       "    </tr>\n",
       "  </tbody>\n",
       "</table>\n",
       "</div>"
      ],
      "text/plain": [
       "       order_id       pizza_id  quantity           date_time    month  \\\n",
       "entry                                                                   \n",
       "0             1     hawaiian_m         1 2015-01-01 11:38:36  January   \n",
       "1             2  classic_dlx_m         1 2015-01-01 11:57:40  January   \n",
       "2             2  five_cheese_l         1 2015-01-01 11:57:40  January   \n",
       "3             2    ital_supr_l         1 2015-01-01 11:57:40  January   \n",
       "4             2     mexicana_m         1 2015-01-01 11:57:40  January   \n",
       "\n",
       "            day  hour  week pizza_type_id size  price                  name  \\\n",
       "entry                                                                         \n",
       "0      Thursday    11     1      hawaiian    M  13.25         The Hawaiian    \n",
       "1      Thursday    11     1   classic_dlx    M  16.00   The Classic Deluxe    \n",
       "2      Thursday    11     1   five_cheese    L  18.50      The Five Cheese    \n",
       "3      Thursday    11     1     ital_supr    L  20.75  The Italian Supreme    \n",
       "4      Thursday    11     1      mexicana    M  16.00         The Mexicana    \n",
       "\n",
       "      category                                        ingredients  revenue  \\\n",
       "entry                                                                        \n",
       "0      Classic           Sliced Ham, Pineapple, Mozzarella Cheese    13.25   \n",
       "1      Classic  Pepperoni, Mushrooms, Red Onions, Red Peppers,...    16.00   \n",
       "2       Veggie  Mozzarella Cheese, Provolone Cheese, Smoked Go...    18.50   \n",
       "3      Supreme  Calabrese Salami, Capocollo, Tomatoes, Red Oni...    20.75   \n",
       "4       Veggie  Tomatoes, Red Peppers, Jalapeno Peppers, Red O...    16.00   \n",
       "\n",
       "       season  \n",
       "entry          \n",
       "0      Winter  \n",
       "1      Winter  \n",
       "2      Winter  \n",
       "3      Winter  \n",
       "4      Winter  "
      ]
     },
     "execution_count": 63,
     "metadata": {},
     "output_type": "execute_result"
    }
   ],
   "source": [
    "vis_pizza.head()"
   ]
  },
  {
   "cell_type": "code",
   "execution_count": 68,
   "id": "ceac1fc8",
   "metadata": {},
   "outputs": [],
   "source": [
    "season_selling = vis_pizza.groupby(by='season', as_index = False)['revenue'].sum().sort_values(by = 'revenue')"
   ]
  },
  {
   "cell_type": "code",
   "execution_count": 70,
   "id": "2d85ef2f",
   "metadata": {},
   "outputs": [
    {
     "data": {
      "image/png": "[encoded data removed]",
      "text/plain": [
       "<Figure size 750x500 with 1 Axes>"
      ]
     },
     "metadata": {},
     "output_type": "display_data"
    }
   ],
   "source": [
    "season_g = sns.catplot(data = season_selling, x = 'revenue', y = 'season', kind = 'bar', color = color_graph, aspect = 1.5)\n",
    "season_g.set(title = 'Seasonality of Sales')\n",
    "season_g.set(xlabel = 'Revenue in $us', ylabel = 'Seasons')\n",
    "plt.show()"
   ]
  },
  {
   "cell_type": "markdown",
   "id": "8110defe",
   "metadata": {},
   "source": [
    "### Answer:\n",
    "- Spring is the highest selling season. However, there is an insignifigant fluxuation between sales and seasonality."
   ]
  },
  {
   "cell_type": "markdown",
   "id": "c05d5c9e",
   "metadata": {},
   "source": [
    "### 4. Are there any pizzas we should take off the menu, or any promotions we could leverage?"
   ]
  },
  {
   "cell_type": "code",
   "execution_count": null,
   "id": "e9dfff2b",
   "metadata": {},
   "outputs": [],
   "source": []
  },
  {
   "cell_type": "code",
   "execution_count": null,
   "id": "d9650714",
   "metadata": {},
   "outputs": [],
   "source": []
  },
  {
   "cell_type": "code",
   "execution_count": null,
   "id": "c6e63aba",
   "metadata": {},
   "outputs": [],
   "source": []
  },
  {
   "cell_type": "markdown",
   "id": "cc3275ea",
   "metadata": {},
   "source": [
    "From question 2, the revenue_g graph:\n",
    "- There is a clear drop off in revenue between the 11th position(The Pepperoni, Mushroom and Peppers Pizza) and the 12th position(The Big Meat Pizza).\n",
    "- Analyzing the 3rd weakest performing(11 lowest selling positions)."
   ]
  },
  {
   "cell_type": "code",
   "execution_count": null,
   "id": "32f6a1b4",
   "metadata": {},
   "outputs": [],
   "source": [
    "#Use nsmallest to pull names from ascending value by revenue\n",
    "#https://pandas.pydata.org/docs/reference/api/pandas.DataFrame.nsmallest.html\n",
    "worst_11_selling = revenue_by_name.nsmallest(11, columns = 'revenue') "
   ]
  },
  {
   "cell_type": "code",
   "execution_count": null,
   "id": "838ff244",
   "metadata": {},
   "outputs": [],
   "source": [
    "print(worst_11_selling)"
   ]
  },
  {
   "cell_type": "code",
   "execution_count": null,
   "id": "105d709f",
   "metadata": {},
   "outputs": [],
   "source": [
    "worst_g = sns.catplot(data = worst_11_selling, x = 'revenue', y = 'name', kind = 'bar', color = color_graph, aspect = 1.5)\n",
    "worst_g.set(title = 'The bottom 11 selling pizzas')\n",
    "worst_g.set(xlabel = 'Revenue in $us', ylabel = 'Name of pizza')\n",
    "plt.show()"
   ]
  },
  {
   "cell_type": "markdown",
   "id": "37b045c9",
   "metadata": {},
   "source": [
    "- The two worst performing pizzas are __the Brie Carre Pizza and the Green Garden Pizza.__"
   ]
  },
  {
   "cell_type": "markdown",
   "id": "a102fe7e",
   "metadata": {},
   "source": [
    "### 5. How many pizzas are we making during peak periods?"
   ]
  },
  {
   "cell_type": "code",
   "execution_count": null,
   "id": "d3bb5c85",
   "metadata": {},
   "outputs": [],
   "source": []
  },
  {
   "cell_type": "markdown",
   "id": "b3e8e08a",
   "metadata": {},
   "source": []
  },
  {
   "cell_type": "code",
   "execution_count": null,
   "id": "dbcb809a",
   "metadata": {},
   "outputs": [],
   "source": []
  },
  {
   "cell_type": "markdown",
   "id": "45b827f1",
   "metadata": {},
   "source": [
    "### 6. What's our average order value?"
   ]
  },
  {
   "cell_type": "code",
   "execution_count": null,
   "id": "b3ccb61e",
   "metadata": {},
   "outputs": [],
   "source": [
    "#Calculate order totals, avg by quantity of orders"
   ]
  },
  {
   "cell_type": "markdown",
   "id": "d31af7ec",
   "metadata": {},
   "source": [
    "### 7. How well are we utilizing our seating capacity? (we have 15 tables and 60 seats)"
   ]
  },
  {
   "cell_type": "code",
   "execution_count": null,
   "id": "6fb5718f",
   "metadata": {},
   "outputs": [],
   "source": [
    "#How many orders per hour, how quickly should we be turning over tables"
   ]
  }
 ],
 "metadata": {
  "kernelspec": {
   "display_name": "Python 3 (ipykernel)",
   "language": "python",
   "name": "python3"
  },
  "language_info": {
   "codemirror_mode": {
    "name": "ipython",
    "version": 3
   },
   "file_extension": ".py",
   "mimetype": "text/x-python",
   "name": "python",
   "nbconvert_exporter": "python",
   "pygments_lexer": "ipython3",
   "version": "3.7.13"
  }
 },
 "nbformat": 4,
 "nbformat_minor": 5
}
