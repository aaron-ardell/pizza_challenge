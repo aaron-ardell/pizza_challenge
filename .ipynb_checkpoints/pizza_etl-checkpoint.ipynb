{
 "cells": [
  {
   "cell_type": "markdown",
   "id": "4b5e00a0",
   "metadata": {},
   "source": [
    "# Maven Pizza Analysis"
   ]
  },
  {
   "cell_type": "markdown",
   "id": "77b299ca",
   "metadata": {},
   "source": [
    "## Data Dictionary\n"
   ]
  },
  {
   "cell_type": "markdown",
   "id": "37d5977e",
   "metadata": {},
   "source": [
    "### Order Details CSV"
   ]
  },
  {
   "cell_type": "markdown",
   "id": "d0fc1b15",
   "metadata": {},
   "source": [
    "### Importing Data Sets"
   ]
  },
  {
   "cell_type": "code",
   "execution_count": 2,
   "id": "1750c28b",
   "metadata": {},
   "outputs": [
    {
     "data": {
      "text/html": [
       "<div>\n",
       "<style scoped>\n",
       "    .dataframe tbody tr th:only-of-type {\n",
       "        vertical-align: middle;\n",
       "    }\n",
       "\n",
       "    .dataframe tbody tr th {\n",
       "        vertical-align: top;\n",
       "    }\n",
       "\n",
       "    .dataframe thead th {\n",
       "        text-align: right;\n",
       "    }\n",
       "</style>\n",
       "<table border=\"1\" class=\"dataframe\">\n",
       "  <thead>\n",
       "    <tr style=\"text-align: right;\">\n",
       "      <th></th>\n",
       "      <th>order_id</th>\n",
       "      <th>pizza_id</th>\n",
       "      <th>quantity</th>\n",
       "    </tr>\n",
       "    <tr>\n",
       "      <th>order_details_id</th>\n",
       "      <th></th>\n",
       "      <th></th>\n",
       "      <th></th>\n",
       "    </tr>\n",
       "  </thead>\n",
       "  <tbody>\n",
       "    <tr>\n",
       "      <th>48616</th>\n",
       "      <td>21348</td>\n",
       "      <td>ckn_alfredo_m</td>\n",
       "      <td>1</td>\n",
       "    </tr>\n",
       "    <tr>\n",
       "      <th>48617</th>\n",
       "      <td>21348</td>\n",
       "      <td>four_cheese_l</td>\n",
       "      <td>1</td>\n",
       "    </tr>\n",
       "    <tr>\n",
       "      <th>48618</th>\n",
       "      <td>21348</td>\n",
       "      <td>napolitana_s</td>\n",
       "      <td>1</td>\n",
       "    </tr>\n",
       "    <tr>\n",
       "      <th>48619</th>\n",
       "      <td>21349</td>\n",
       "      <td>mexicana_l</td>\n",
       "      <td>1</td>\n",
       "    </tr>\n",
       "    <tr>\n",
       "      <th>48620</th>\n",
       "      <td>21350</td>\n",
       "      <td>bbq_ckn_s</td>\n",
       "      <td>1</td>\n",
       "    </tr>\n",
       "  </tbody>\n",
       "</table>\n",
       "</div>"
      ],
      "text/plain": [
       "                  order_id       pizza_id  quantity\n",
       "order_details_id                                   \n",
       "48616                21348  ckn_alfredo_m         1\n",
       "48617                21348  four_cheese_l         1\n",
       "48618                21348   napolitana_s         1\n",
       "48619                21349     mexicana_l         1\n",
       "48620                21350      bbq_ckn_s         1"
      ]
     },
     "execution_count": 2,
     "metadata": {},
     "output_type": "execute_result"
    }
   ],
   "source": [
    "# Order Details CSV\n",
    "# Importing pandas, reading csv, creating dataframe, printing last frames.\n",
    "import pandas as pd\n",
    "order_details = pd.read_csv('order_details.csv', index_col='order_details_id')\n",
    "order_details.tail(5)"
   ]
  },
  {
   "cell_type": "code",
   "execution_count": 3,
   "id": "d49426d2",
   "metadata": {},
   "outputs": [
    {
     "data": {
      "text/html": [
       "<div>\n",
       "<style scoped>\n",
       "    .dataframe tbody tr th:only-of-type {\n",
       "        vertical-align: middle;\n",
       "    }\n",
       "\n",
       "    .dataframe tbody tr th {\n",
       "        vertical-align: top;\n",
       "    }\n",
       "\n",
       "    .dataframe thead th {\n",
       "        text-align: right;\n",
       "    }\n",
       "</style>\n",
       "<table border=\"1\" class=\"dataframe\">\n",
       "  <thead>\n",
       "    <tr style=\"text-align: right;\">\n",
       "      <th></th>\n",
       "      <th>date_time</th>\n",
       "    </tr>\n",
       "    <tr>\n",
       "      <th>order_id</th>\n",
       "      <th></th>\n",
       "    </tr>\n",
       "  </thead>\n",
       "  <tbody>\n",
       "    <tr>\n",
       "      <th>21346</th>\n",
       "      <td>2015-12-31 20:51:07</td>\n",
       "    </tr>\n",
       "    <tr>\n",
       "      <th>21347</th>\n",
       "      <td>2015-12-31 21:14:37</td>\n",
       "    </tr>\n",
       "    <tr>\n",
       "      <th>21348</th>\n",
       "      <td>2015-12-31 21:23:10</td>\n",
       "    </tr>\n",
       "    <tr>\n",
       "      <th>21349</th>\n",
       "      <td>2015-12-31 22:09:54</td>\n",
       "    </tr>\n",
       "    <tr>\n",
       "      <th>21350</th>\n",
       "      <td>2015-12-31 23:02:05</td>\n",
       "    </tr>\n",
       "  </tbody>\n",
       "</table>\n",
       "</div>"
      ],
      "text/plain": [
       "                   date_time\n",
       "order_id                    \n",
       "21346    2015-12-31 20:51:07\n",
       "21347    2015-12-31 21:14:37\n",
       "21348    2015-12-31 21:23:10\n",
       "21349    2015-12-31 22:09:54\n",
       "21350    2015-12-31 23:02:05"
      ]
     },
     "execution_count": 3,
     "metadata": {},
     "output_type": "execute_result"
    }
   ],
   "source": [
    "#Orders CSV\n",
    "# Reading csv, creating dataframe, printing last frames.\n",
    "# Date and time columns separated, pulling them together with proper format.\n",
    "orders = pd.read_csv('orders.csv', index_col='order_id', parse_dates = [['date', 'time']])\n",
    "orders.tail()"
   ]
  },
  {
   "cell_type": "code",
   "execution_count": 5,
   "id": "f62d0cb9",
   "metadata": {},
   "outputs": [
    {
     "data": {
      "text/html": [
       "<div>\n",
       "<style scoped>\n",
       "    .dataframe tbody tr th:only-of-type {\n",
       "        vertical-align: middle;\n",
       "    }\n",
       "\n",
       "    .dataframe tbody tr th {\n",
       "        vertical-align: top;\n",
       "    }\n",
       "\n",
       "    .dataframe thead th {\n",
       "        text-align: right;\n",
       "    }\n",
       "</style>\n",
       "<table border=\"1\" class=\"dataframe\">\n",
       "  <thead>\n",
       "    <tr style=\"text-align: right;\">\n",
       "      <th></th>\n",
       "      <th>pizza_type_id</th>\n",
       "      <th>size</th>\n",
       "      <th>price</th>\n",
       "    </tr>\n",
       "    <tr>\n",
       "      <th>pizza_id</th>\n",
       "      <th></th>\n",
       "      <th></th>\n",
       "      <th></th>\n",
       "    </tr>\n",
       "  </thead>\n",
       "  <tbody>\n",
       "    <tr>\n",
       "      <th>spinach_fet_m</th>\n",
       "      <td>spinach_fet</td>\n",
       "      <td>M</td>\n",
       "      <td>16.00</td>\n",
       "    </tr>\n",
       "    <tr>\n",
       "      <th>spinach_fet_l</th>\n",
       "      <td>spinach_fet</td>\n",
       "      <td>L</td>\n",
       "      <td>20.25</td>\n",
       "    </tr>\n",
       "    <tr>\n",
       "      <th>veggie_veg_s</th>\n",
       "      <td>veggie_veg</td>\n",
       "      <td>S</td>\n",
       "      <td>12.00</td>\n",
       "    </tr>\n",
       "    <tr>\n",
       "      <th>veggie_veg_m</th>\n",
       "      <td>veggie_veg</td>\n",
       "      <td>M</td>\n",
       "      <td>16.00</td>\n",
       "    </tr>\n",
       "    <tr>\n",
       "      <th>veggie_veg_l</th>\n",
       "      <td>veggie_veg</td>\n",
       "      <td>L</td>\n",
       "      <td>20.25</td>\n",
       "    </tr>\n",
       "  </tbody>\n",
       "</table>\n",
       "</div>"
      ],
      "text/plain": [
       "              pizza_type_id size  price\n",
       "pizza_id                               \n",
       "spinach_fet_m   spinach_fet    M  16.00\n",
       "spinach_fet_l   spinach_fet    L  20.25\n",
       "veggie_veg_s     veggie_veg    S  12.00\n",
       "veggie_veg_m     veggie_veg    M  16.00\n",
       "veggie_veg_l     veggie_veg    L  20.25"
      ]
     },
     "execution_count": 5,
     "metadata": {},
     "output_type": "execute_result"
    }
   ],
   "source": [
    "# Pizzas CSV\n",
    "# Loading csv, creating dataframe, printing last frames.\n",
    "pizzas = pd.read_csv('pizzas.csv', index_col='pizza_id')\n",
    "pizzas.tail()"
   ]
  },
  {
   "cell_type": "code",
   "execution_count": 6,
   "id": "efdf3398",
   "metadata": {},
   "outputs": [
    {
     "data": {
      "text/html": [
       "<div>\n",
       "<style scoped>\n",
       "    .dataframe tbody tr th:only-of-type {\n",
       "        vertical-align: middle;\n",
       "    }\n",
       "\n",
       "    .dataframe tbody tr th {\n",
       "        vertical-align: top;\n",
       "    }\n",
       "\n",
       "    .dataframe thead th {\n",
       "        text-align: right;\n",
       "    }\n",
       "</style>\n",
       "<table border=\"1\" class=\"dataframe\">\n",
       "  <thead>\n",
       "    <tr style=\"text-align: right;\">\n",
       "      <th></th>\n",
       "      <th>name</th>\n",
       "      <th>category</th>\n",
       "      <th>ingredients</th>\n",
       "    </tr>\n",
       "    <tr>\n",
       "      <th>pizza_type_id</th>\n",
       "      <th></th>\n",
       "      <th></th>\n",
       "      <th></th>\n",
       "    </tr>\n",
       "  </thead>\n",
       "  <tbody>\n",
       "    <tr>\n",
       "      <th>mediterraneo</th>\n",
       "      <td>The Mediterranean Pizza</td>\n",
       "      <td>Veggie</td>\n",
       "      <td>Spinach, Artichokes, Kalamata Olives, Sun-drie...</td>\n",
       "    </tr>\n",
       "    <tr>\n",
       "      <th>mexicana</th>\n",
       "      <td>The Mexicana Pizza</td>\n",
       "      <td>Veggie</td>\n",
       "      <td>Tomatoes, Red Peppers, Jalapeno Peppers, Red O...</td>\n",
       "    </tr>\n",
       "    <tr>\n",
       "      <th>spin_pesto</th>\n",
       "      <td>The Spinach Pesto Pizza</td>\n",
       "      <td>Veggie</td>\n",
       "      <td>Spinach, Artichokes, Tomatoes, Sun-dried Tomat...</td>\n",
       "    </tr>\n",
       "    <tr>\n",
       "      <th>spinach_fet</th>\n",
       "      <td>The Spinach and Feta Pizza</td>\n",
       "      <td>Veggie</td>\n",
       "      <td>Spinach, Mushrooms, Red Onions, Feta Cheese, G...</td>\n",
       "    </tr>\n",
       "    <tr>\n",
       "      <th>veggie_veg</th>\n",
       "      <td>The Vegetables + Vegetables Pizza</td>\n",
       "      <td>Veggie</td>\n",
       "      <td>Mushrooms, Tomatoes, Red Peppers, Green Pepper...</td>\n",
       "    </tr>\n",
       "  </tbody>\n",
       "</table>\n",
       "</div>"
      ],
      "text/plain": [
       "                                            name category  \\\n",
       "pizza_type_id                                               \n",
       "mediterraneo             The Mediterranean Pizza   Veggie   \n",
       "mexicana                      The Mexicana Pizza   Veggie   \n",
       "spin_pesto               The Spinach Pesto Pizza   Veggie   \n",
       "spinach_fet           The Spinach and Feta Pizza   Veggie   \n",
       "veggie_veg     The Vegetables + Vegetables Pizza   Veggie   \n",
       "\n",
       "                                                     ingredients  \n",
       "pizza_type_id                                                     \n",
       "mediterraneo   Spinach, Artichokes, Kalamata Olives, Sun-drie...  \n",
       "mexicana       Tomatoes, Red Peppers, Jalapeno Peppers, Red O...  \n",
       "spin_pesto     Spinach, Artichokes, Tomatoes, Sun-dried Tomat...  \n",
       "spinach_fet    Spinach, Mushrooms, Red Onions, Feta Cheese, G...  \n",
       "veggie_veg     Mushrooms, Tomatoes, Red Peppers, Green Pepper...  "
      ]
     },
     "execution_count": 6,
     "metadata": {},
     "output_type": "execute_result"
    }
   ],
   "source": [
    "#Pizza_type CSV\n",
    "# Reading CSV, creating dataframe no index, printing\n",
    "pizza_types = pd.read_csv('pizza_types.csv', index_col='pizza_type_id', encoding='unicode_escape')\n",
    "pizza_types.tail()"
   ]
  },
  {
   "cell_type": "markdown",
   "id": "08bee988",
   "metadata": {},
   "source": [
    "## Exploratory Analysis\n",
    "### Order Details Dataframe"
   ]
  },
  {
   "cell_type": "code",
   "execution_count": 28,
   "id": "c2f759ed",
   "metadata": {},
   "outputs": [
    {
     "name": "stdout",
     "output_type": "stream",
     "text": [
      "<class 'pandas.core.frame.DataFrame'>\n",
      "Int64Index: 48620 entries, 1 to 48620\n",
      "Data columns (total 3 columns):\n",
      " #   Column    Non-Null Count  Dtype \n",
      "---  ------    --------------  ----- \n",
      " 0   order_id  48620 non-null  int64 \n",
      " 1   pizza_id  48620 non-null  object\n",
      " 2   quantity  48620 non-null  int64 \n",
      "dtypes: int64(2), object(1)\n",
      "memory usage: 1.5+ MB\n"
     ]
    }
   ],
   "source": [
    "order_details.info()"
   ]
  },
  {
   "cell_type": "markdown",
   "id": "0dd7ceca",
   "metadata": {},
   "source": [
    "- The Order Details Dataframe has 48620 entries.\n",
    "- There are no null values in this Dataframe."
   ]
  },
  {
   "cell_type": "code",
   "execution_count": 29,
   "id": "008541e0",
   "metadata": {},
   "outputs": [
    {
     "data": {
      "text/plain": [
       "0"
      ]
     },
     "execution_count": 29,
     "metadata": {},
     "output_type": "execute_result"
    }
   ],
   "source": [
    "order_details.duplicated().sum()"
   ]
  },
  {
   "cell_type": "markdown",
   "id": "643f0530",
   "metadata": {},
   "source": [
    "- There is no duplicate entries in this Dataframe."
   ]
  },
  {
   "cell_type": "code",
   "execution_count": 30,
   "id": "a0493f82",
   "metadata": {},
   "outputs": [
    {
     "data": {
      "text/plain": [
       "order_id    21350\n",
       "pizza_id       91\n",
       "quantity        4\n",
       "dtype: int64"
      ]
     },
     "execution_count": 30,
     "metadata": {},
     "output_type": "execute_result"
    }
   ],
   "source": [
    "order_details.nunique()"
   ]
  },
  {
   "cell_type": "code",
   "execution_count": null,
   "id": "8700a21b",
   "metadata": {},
   "outputs": [],
   "source": [
    "- Too many unique entries in the object column to categorize."
   ]
  },
  {
   "cell_type": "markdown",
   "id": "d81f38c7",
   "metadata": {},
   "source": [
    "#### Order Details Dataframe\n",
    "|Table |Column |Data Type |Description |Key|\n",
    "|-------|---------|-----------|-----------|---|\n",
    "|Order Details|order_details_id|int64|Numerical designation for each unique pizza per order.|X|\n",
    "|Order Details|order_id|int64|Numerical designation for each order, which may contain multiple pizzas.||\n",
    "|Order Details|pizza_id|object|Snakecase combination of pizza name and size designation(S,M, or L).||\n",
    "|Order Details|quantity|int64|Sum of how many of a particular pizza per order.||"
   ]
  },
  {
   "cell_type": "markdown",
   "id": "f9d9dae7",
   "metadata": {},
   "source": [
    "### Orders Dataframe"
   ]
  },
  {
   "cell_type": "code",
   "execution_count": 7,
   "id": "b5ad25a8",
   "metadata": {},
   "outputs": [
    {
     "name": "stdout",
     "output_type": "stream",
     "text": [
      "<class 'pandas.core.frame.DataFrame'>\n",
      "Int64Index: 21350 entries, 1 to 21350\n",
      "Data columns (total 1 columns):\n",
      " #   Column     Non-Null Count  Dtype         \n",
      "---  ------     --------------  -----         \n",
      " 0   date_time  21350 non-null  datetime64[ns]\n",
      "dtypes: datetime64[ns](1)\n",
      "memory usage: 333.6 KB\n"
     ]
    }
   ],
   "source": [
    "orders.info()"
   ]
  },
  {
   "cell_type": "markdown",
   "id": "de43200b",
   "metadata": {},
   "source": [
    "- The Orders Dataframe has 21350 entries.\n",
    "- There are no null values in the Dataframe."
   ]
  },
  {
   "cell_type": "code",
   "execution_count": 11,
   "id": "763b518c",
   "metadata": {},
   "outputs": [
    {
     "data": {
      "text/plain": [
       "0"
      ]
     },
     "execution_count": 11,
     "metadata": {},
     "output_type": "execute_result"
    }
   ],
   "source": [
    "orders.duplicated().sum()"
   ]
  },
  {
   "cell_type": "markdown",
   "id": "0b62827e",
   "metadata": {},
   "source": [
    "- There are no duplicated entries in this Dataframe. "
   ]
  },
  {
   "cell_type": "code",
   "execution_count": 15,
   "id": "99ec4481",
   "metadata": {},
   "outputs": [
    {
     "data": {
      "text/html": [
       "<div>\n",
       "<style scoped>\n",
       "    .dataframe tbody tr th:only-of-type {\n",
       "        vertical-align: middle;\n",
       "    }\n",
       "\n",
       "    .dataframe tbody tr th {\n",
       "        vertical-align: top;\n",
       "    }\n",
       "\n",
       "    .dataframe thead th {\n",
       "        text-align: right;\n",
       "    }\n",
       "</style>\n",
       "<table border=\"1\" class=\"dataframe\">\n",
       "  <thead>\n",
       "    <tr style=\"text-align: right;\">\n",
       "      <th></th>\n",
       "      <th>date_time</th>\n",
       "      <th>month</th>\n",
       "      <th>day</th>\n",
       "      <th>hour</th>\n",
       "      <th>week</th>\n",
       "    </tr>\n",
       "    <tr>\n",
       "      <th>order_id</th>\n",
       "      <th></th>\n",
       "      <th></th>\n",
       "      <th></th>\n",
       "      <th></th>\n",
       "      <th></th>\n",
       "    </tr>\n",
       "  </thead>\n",
       "  <tbody>\n",
       "    <tr>\n",
       "      <th>21346</th>\n",
       "      <td>2015-12-31 20:51:07</td>\n",
       "      <td>December</td>\n",
       "      <td>Thursday</td>\n",
       "      <td>20</td>\n",
       "      <td>53</td>\n",
       "    </tr>\n",
       "    <tr>\n",
       "      <th>21347</th>\n",
       "      <td>2015-12-31 21:14:37</td>\n",
       "      <td>December</td>\n",
       "      <td>Thursday</td>\n",
       "      <td>21</td>\n",
       "      <td>53</td>\n",
       "    </tr>\n",
       "    <tr>\n",
       "      <th>21348</th>\n",
       "      <td>2015-12-31 21:23:10</td>\n",
       "      <td>December</td>\n",
       "      <td>Thursday</td>\n",
       "      <td>21</td>\n",
       "      <td>53</td>\n",
       "    </tr>\n",
       "    <tr>\n",
       "      <th>21349</th>\n",
       "      <td>2015-12-31 22:09:54</td>\n",
       "      <td>December</td>\n",
       "      <td>Thursday</td>\n",
       "      <td>22</td>\n",
       "      <td>53</td>\n",
       "    </tr>\n",
       "    <tr>\n",
       "      <th>21350</th>\n",
       "      <td>2015-12-31 23:02:05</td>\n",
       "      <td>December</td>\n",
       "      <td>Thursday</td>\n",
       "      <td>23</td>\n",
       "      <td>53</td>\n",
       "    </tr>\n",
       "  </tbody>\n",
       "</table>\n",
       "</div>"
      ],
      "text/plain": [
       "                   date_time     month       day  hour  week\n",
       "order_id                                                    \n",
       "21346    2015-12-31 20:51:07  December  Thursday    20    53\n",
       "21347    2015-12-31 21:14:37  December  Thursday    21    53\n",
       "21348    2015-12-31 21:23:10  December  Thursday    21    53\n",
       "21349    2015-12-31 22:09:54  December  Thursday    22    53\n",
       "21350    2015-12-31 23:02:05  December  Thursday    23    53"
      ]
     },
     "execution_count": 15,
     "metadata": {},
     "output_type": "execute_result"
    }
   ],
   "source": [
    "'''Question: How many customers do we have each day? Are there any peak hours?\n",
    "- We will need to categorize the dates by days of the week. We will also need hours alone for calculation.\n",
    "\n",
    "Question: How much money did we make this year? Can we identify any seasonality in the sales?\n",
    "- We will also need to categorize the month.\n",
    "\n",
    "https://pandas.pydata.org/pandas-docs/stable/reference/api/pandas.Series.dt.date.html\n",
    "https://pandas.pydata.org/pandas-docs/stable/reference/api/pandas.Series.dt.day_name.html#pandas.Series.dt.day_name'''\n",
    "\n",
    "orders['month'] = orders['date_time'].dt.month_name()\n",
    "orders['day'] = orders['date_time'].dt.day_name()\n",
    "orders['hour'] = orders['date_time'].dt.hour\n",
    "orders['week'] = orders['date_time'].dt.isocalendar().week\n",
    "orders.tail()"
   ]
  },
  {
   "cell_type": "code",
   "execution_count": 19,
   "id": "276bc413",
   "metadata": {},
   "outputs": [
    {
     "name": "stdout",
     "output_type": "stream",
     "text": [
      "<class 'pandas.core.frame.DataFrame'>\n",
      "Int64Index: 21350 entries, 1 to 21350\n",
      "Data columns (total 5 columns):\n",
      " #   Column     Non-Null Count  Dtype         \n",
      "---  ------     --------------  -----         \n",
      " 0   date_time  21350 non-null  datetime64[ns]\n",
      " 1   month      21350 non-null  object        \n",
      " 2   day        21350 non-null  object        \n",
      " 3   hour       21350 non-null  int64         \n",
      " 4   week       21350 non-null  UInt32        \n",
      "dtypes: UInt32(1), datetime64[ns](1), int64(1), object(2)\n",
      "memory usage: 3.2 MB\n"
     ]
    }
   ],
   "source": [
    "orders.info(memory_usage='deep')"
   ]
  },
  {
   "cell_type": "markdown",
   "id": "956f3a1a",
   "metadata": {},
   "source": [
    "- Dataframe is utilizing 3.2 MB of memory."
   ]
  },
  {
   "cell_type": "code",
   "execution_count": 21,
   "id": "02853149",
   "metadata": {},
   "outputs": [
    {
     "data": {
      "text/plain": [
       "Index         170800\n",
       "date_time     170800\n",
       "month        1347224\n",
       "day          1369889\n",
       "hour          170800\n",
       "week          106750\n",
       "dtype: int64"
      ]
     },
     "execution_count": 21,
     "metadata": {},
     "output_type": "execute_result"
    }
   ],
   "source": [
    "orders.memory_usage(deep = True)"
   ]
  },
  {
   "cell_type": "markdown",
   "id": "e5d3aa34",
   "metadata": {},
   "source": [
    "- It's the \"month\" and \"day\" columns utilizing the most memory."
   ]
  },
  {
   "cell_type": "code",
   "execution_count": 22,
   "id": "3059413a",
   "metadata": {},
   "outputs": [
    {
     "data": {
      "text/plain": [
       "date_time    21350\n",
       "month           12\n",
       "day              7\n",
       "hour            15\n",
       "week            53\n",
       "dtype: int64"
      ]
     },
     "execution_count": 22,
     "metadata": {},
     "output_type": "execute_result"
    }
   ],
   "source": [
    "orders.nunique()"
   ]
  },
  {
   "cell_type": "markdown",
   "id": "32f93f3a",
   "metadata": {},
   "source": [
    "- The \"month\" and \"day\" columns have few unique values. Converting to a categorical data type will improve performance."
   ]
  },
  {
   "cell_type": "code",
   "execution_count": 25,
   "id": "b59b59ff",
   "metadata": {},
   "outputs": [],
   "source": [
    "#https://pandas.pydata.org/docs/reference/api/pandas.Categorical.html\n",
    "\n",
    "orders['month'] = pd.Categorical(\n",
    "    values = orders['month'], \n",
    "    categories = ['January', 'February', 'March', 'April', 'May', 'June', 'July', 'August', 'September', 'October', 'November', 'December'],\n",
    "    ordered = True\n",
    ")"
   ]
  },
  {
   "cell_type": "code",
   "execution_count": 26,
   "id": "8bcc89d4",
   "metadata": {},
   "outputs": [],
   "source": [
    "orders['day'] = pd.Categorical(\n",
    "    values = orders['day'],\n",
    "    categories = ['Monday', 'Tuesday', 'Wednesday', 'Thursday', 'Friday', 'Saturday', 'Sunday'],\n",
    "    ordered = True\n",
    ")"
   ]
  },
  {
   "cell_type": "code",
   "execution_count": 27,
   "id": "e09c2e07",
   "metadata": {},
   "outputs": [
    {
     "name": "stdout",
     "output_type": "stream",
     "text": [
      "<class 'pandas.core.frame.DataFrame'>\n",
      "Int64Index: 21350 entries, 1 to 21350\n",
      "Data columns (total 5 columns):\n",
      " #   Column     Non-Null Count  Dtype         \n",
      "---  ------     --------------  -----         \n",
      " 0   date_time  21350 non-null  datetime64[ns]\n",
      " 1   month      21350 non-null  category      \n",
      " 2   day        21350 non-null  category      \n",
      " 3   hour       21350 non-null  int64         \n",
      " 4   week       21350 non-null  UInt32        \n",
      "dtypes: UInt32(1), category(2), datetime64[ns](1), int64(1)\n",
      "memory usage: 648.1 KB\n"
     ]
    }
   ],
   "source": [
    "orders.info(memory_usage='deep')"
   ]
  },
  {
   "cell_type": "markdown",
   "id": "f9162882",
   "metadata": {},
   "source": [
    "- 648.1 KB is the improvement! "
   ]
  },
  {
   "cell_type": "markdown",
   "id": "d69a54c1",
   "metadata": {},
   "source": [
    "#### Orders Dataframe\n",
    "|Table |Column |Data Type |Description |Key|\n",
    "|-------|---------|-----------|-----------|---|\n",
    "|orders|order_id|int64|Numerical designation for each individual order.|X|\n",
    "|orders|date_time|datetime64[ns]|The date and time an orders is placed. Prior to cooking and serving.||\n",
    "|orders|month|category|Months by name, Julian calendar, January - December.||\n",
    "|orders|day|category|Days of the week by name, Monday - Sunday.||\n",
    "|orders|hour|int64|24-Hour Clock.||\n",
    "|orders|week|UInt32|52 weeks in the year.||"
   ]
  },
  {
   "cell_type": "code",
   "execution_count": 32,
   "id": "8f54fbdf",
   "metadata": {},
   "outputs": [
    {
     "data": {
      "text/html": [
       "<div>\n",
       "<style scoped>\n",
       "    .dataframe tbody tr th:only-of-type {\n",
       "        vertical-align: middle;\n",
       "    }\n",
       "\n",
       "    .dataframe tbody tr th {\n",
       "        vertical-align: top;\n",
       "    }\n",
       "\n",
       "    .dataframe thead th {\n",
       "        text-align: right;\n",
       "    }\n",
       "</style>\n",
       "<table border=\"1\" class=\"dataframe\">\n",
       "  <thead>\n",
       "    <tr style=\"text-align: right;\">\n",
       "      <th></th>\n",
       "      <th>date_time</th>\n",
       "      <th>month</th>\n",
       "      <th>day</th>\n",
       "      <th>hour</th>\n",
       "      <th>week</th>\n",
       "    </tr>\n",
       "    <tr>\n",
       "      <th>order_id</th>\n",
       "      <th></th>\n",
       "      <th></th>\n",
       "      <th></th>\n",
       "      <th></th>\n",
       "      <th></th>\n",
       "    </tr>\n",
       "  </thead>\n",
       "  <tbody>\n",
       "    <tr>\n",
       "      <th>21346</th>\n",
       "      <td>2015-12-31 20:51:07</td>\n",
       "      <td>December</td>\n",
       "      <td>Thursday</td>\n",
       "      <td>20</td>\n",
       "      <td>53</td>\n",
       "    </tr>\n",
       "    <tr>\n",
       "      <th>21347</th>\n",
       "      <td>2015-12-31 21:14:37</td>\n",
       "      <td>December</td>\n",
       "      <td>Thursday</td>\n",
       "      <td>21</td>\n",
       "      <td>53</td>\n",
       "    </tr>\n",
       "    <tr>\n",
       "      <th>21348</th>\n",
       "      <td>2015-12-31 21:23:10</td>\n",
       "      <td>December</td>\n",
       "      <td>Thursday</td>\n",
       "      <td>21</td>\n",
       "      <td>53</td>\n",
       "    </tr>\n",
       "    <tr>\n",
       "      <th>21349</th>\n",
       "      <td>2015-12-31 22:09:54</td>\n",
       "      <td>December</td>\n",
       "      <td>Thursday</td>\n",
       "      <td>22</td>\n",
       "      <td>53</td>\n",
       "    </tr>\n",
       "    <tr>\n",
       "      <th>21350</th>\n",
       "      <td>2015-12-31 23:02:05</td>\n",
       "      <td>December</td>\n",
       "      <td>Thursday</td>\n",
       "      <td>23</td>\n",
       "      <td>53</td>\n",
       "    </tr>\n",
       "  </tbody>\n",
       "</table>\n",
       "</div>"
      ],
      "text/plain": [
       "                   date_time     month       day  hour  week\n",
       "order_id                                                    \n",
       "21346    2015-12-31 20:51:07  December  Thursday    20    53\n",
       "21347    2015-12-31 21:14:37  December  Thursday    21    53\n",
       "21348    2015-12-31 21:23:10  December  Thursday    21    53\n",
       "21349    2015-12-31 22:09:54  December  Thursday    22    53\n",
       "21350    2015-12-31 23:02:05  December  Thursday    23    53"
      ]
     },
     "execution_count": 32,
     "metadata": {},
     "output_type": "execute_result"
    }
   ],
   "source": [
    "orders.tail()"
   ]
  },
  {
   "cell_type": "markdown",
   "id": "066e5ff9",
   "metadata": {},
   "source": []
  },
  {
   "cell_type": "code",
   "execution_count": null,
   "id": "ded849ad",
   "metadata": {},
   "outputs": [],
   "source": []
  },
  {
   "cell_type": "code",
   "execution_count": 3,
   "id": "6103a11b",
   "metadata": {},
   "outputs": [
    {
     "data": {
      "text/plain": [
       "pandas.core.frame.DataFrame"
      ]
     },
     "execution_count": 3,
     "metadata": {},
     "output_type": "execute_result"
    }
   ],
   "source": []
  },
  {
   "cell_type": "code",
   "execution_count": 4,
   "id": "9ab24494",
   "metadata": {},
   "outputs": [
    {
     "data": {
      "text/plain": [
       "Index(['order_id', 'pizza_id', 'quantity'], dtype='object')"
      ]
     },
     "execution_count": 4,
     "metadata": {},
     "output_type": "execute_result"
    }
   ],
   "source": []
  },
  {
   "cell_type": "code",
   "execution_count": 5,
   "id": "657d8de9",
   "metadata": {},
   "outputs": [
    {
     "data": {
      "text/plain": [
       "order_id     int64\n",
       "pizza_id    object\n",
       "quantity     int64\n",
       "dtype: object"
      ]
     },
     "execution_count": 5,
     "metadata": {},
     "output_type": "execute_result"
    }
   ],
   "source": [
    "# Verifying the correct data types for each column.\n",
    "order_details.dtypes"
   ]
  },
  {
   "cell_type": "code",
   "execution_count": 6,
   "id": "9171fbed",
   "metadata": {},
   "outputs": [
    {
     "data": {
      "text/plain": [
       "0"
      ]
     },
     "execution_count": 6,
     "metadata": {},
     "output_type": "execute_result"
    }
   ],
   "source": [
    "# Checking for null values.\n",
    "order_details.isnull().sum().sum()"
   ]
  },
  {
   "cell_type": "markdown",
   "id": "57404ba9",
   "metadata": {},
   "source": [
    "### Orders CSV"
   ]
  },
  {
   "cell_type": "code",
   "execution_count": 7,
   "id": "23c45c17",
   "metadata": {},
   "outputs": [
    {
     "name": "stdout",
     "output_type": "stream",
     "text": [
      "                date      time\n",
      "order_id                      \n",
      "1         2015-01-01  11:38:36\n",
      "2         2015-01-01  11:57:40\n",
      "3         2015-01-01  12:12:28\n",
      "4         2015-01-01  12:16:31\n",
      "5         2015-01-01  12:21:30\n",
      "...              ...       ...\n",
      "21346     2015-12-31  20:51:07\n",
      "21347     2015-12-31  21:14:37\n",
      "21348     2015-12-31  21:23:10\n",
      "21349     2015-12-31  22:09:54\n",
      "21350     2015-12-31  23:02:05\n",
      "\n",
      "[21350 rows x 2 columns]\n"
     ]
    }
   ],
   "source": [
    "# Reading csv, creating dataframe, printing.\n",
    "orders = pd.read_csv('orders.csv', index_col=0)\n",
    "print(orders)"
   ]
  },
  {
   "cell_type": "code",
   "execution_count": 8,
   "id": "3e1b632f",
   "metadata": {},
   "outputs": [
    {
     "data": {
      "text/plain": [
       "pandas.core.frame.DataFrame"
      ]
     },
     "execution_count": 8,
     "metadata": {},
     "output_type": "execute_result"
    }
   ],
   "source": [
    "# Verfiying dataframe.\n",
    "type(orders)"
   ]
  },
  {
   "cell_type": "code",
   "execution_count": 9,
   "id": "d399225a",
   "metadata": {},
   "outputs": [
    {
     "data": {
      "text/plain": [
       "date    object\n",
       "time    object\n",
       "dtype: object"
      ]
     },
     "execution_count": 9,
     "metadata": {},
     "output_type": "execute_result"
    }
   ],
   "source": [
    "# Checking column datatypes.\n",
    "orders.dtypes"
   ]
  },
  {
   "cell_type": "markdown",
   "id": "09c2ba64",
   "metadata": {},
   "source": [
    "##### Date and Time columns are in the incorrect formats."
   ]
  },
  {
   "cell_type": "code",
   "execution_count": 10,
   "id": "a7190ea7",
   "metadata": {},
   "outputs": [
    {
     "data": {
      "text/plain": [
       "date    datetime64[ns]\n",
       "time            object\n",
       "dtype: object"
      ]
     },
     "execution_count": 10,
     "metadata": {},
     "output_type": "execute_result"
    }
   ],
   "source": [
    "# Converting date and time columns to datetime data types.\n",
    "orders['date'] = pd.to_datetime(orders['date'])\n",
    "orders['time'] = pd.to_datetime(orders['time']).dt.time\n",
    "orders.dtypes"
   ]
  },
  {
   "cell_type": "code",
   "execution_count": 11,
   "id": "eb70b270",
   "metadata": {},
   "outputs": [
    {
     "name": "stdout",
     "output_type": "stream",
     "text": [
      "               date      time\n",
      "order_id                     \n",
      "1        2015-01-01  11:38:36\n",
      "2        2015-01-01  11:57:40\n",
      "3        2015-01-01  12:12:28\n",
      "4        2015-01-01  12:16:31\n",
      "5        2015-01-01  12:21:30\n"
     ]
    }
   ],
   "source": [
    "print(orders.head(5))"
   ]
  },
  {
   "cell_type": "code",
   "execution_count": 12,
   "id": "85dd4203",
   "metadata": {},
   "outputs": [
    {
     "data": {
      "text/plain": [
       "0"
      ]
     },
     "execution_count": 12,
     "metadata": {},
     "output_type": "execute_result"
    }
   ],
   "source": [
    "# Checking for null values.\n",
    "orders.isnull().sum().sum()"
   ]
  },
  {
   "cell_type": "markdown",
   "id": "c211ff8f",
   "metadata": {},
   "source": [
    "### Pizzas CSV"
   ]
  },
  {
   "cell_type": "code",
   "execution_count": 13,
   "id": "a36f9964",
   "metadata": {},
   "outputs": [
    {
     "name": "stdout",
     "output_type": "stream",
     "text": [
      "         pizza_id pizza_type_id size  price\n",
      "0       bbq_ckn_s       bbq_ckn    S  12.75\n",
      "1       bbq_ckn_m       bbq_ckn    M  16.75\n",
      "2       bbq_ckn_l       bbq_ckn    L  20.75\n",
      "3      cali_ckn_s      cali_ckn    S  12.75\n",
      "4      cali_ckn_m      cali_ckn    M  16.75\n",
      "..            ...           ...  ...    ...\n",
      "91  spinach_fet_m   spinach_fet    M  16.00\n",
      "92  spinach_fet_l   spinach_fet    L  20.25\n",
      "93   veggie_veg_s    veggie_veg    S  12.00\n",
      "94   veggie_veg_m    veggie_veg    M  16.00\n",
      "95   veggie_veg_l    veggie_veg    L  20.25\n",
      "\n",
      "[96 rows x 4 columns]\n"
     ]
    }
   ],
   "source": [
    "# Loading csv, no index, creating dataframe, printing top and bottom.\n",
    "pizzas = pd.read_csv('pizzas.csv', index_col=None)\n",
    "print(pizzas)"
   ]
  },
  {
   "cell_type": "code",
   "execution_count": 14,
   "id": "55a509c7",
   "metadata": {},
   "outputs": [
    {
     "data": {
      "text/plain": [
       "pandas.core.frame.DataFrame"
      ]
     },
     "execution_count": 14,
     "metadata": {},
     "output_type": "execute_result"
    }
   ],
   "source": [
    "#Verifying dataframe\n",
    "type(pizzas)"
   ]
  },
  {
   "cell_type": "code",
   "execution_count": 15,
   "id": "669f0590",
   "metadata": {},
   "outputs": [
    {
     "data": {
      "text/plain": [
       "pizza_id          object\n",
       "pizza_type_id     object\n",
       "size              object\n",
       "price            float64\n",
       "dtype: object"
      ]
     },
     "execution_count": 15,
     "metadata": {},
     "output_type": "execute_result"
    }
   ],
   "source": [
    "#Verifying column data types\n",
    "pizzas.dtypes"
   ]
  },
  {
   "cell_type": "code",
   "execution_count": 16,
   "id": "e76d15f4",
   "metadata": {},
   "outputs": [
    {
     "data": {
      "text/plain": [
       "0"
      ]
     },
     "execution_count": 16,
     "metadata": {},
     "output_type": "execute_result"
    }
   ],
   "source": [
    "# Checking for na values\n",
    "pizzas.isnull().sum().sum()"
   ]
  },
  {
   "cell_type": "markdown",
   "id": "d7b9e407",
   "metadata": {},
   "source": [
    "### Pizza Type CSV"
   ]
  },
  {
   "cell_type": "code",
   "execution_count": 17,
   "id": "b2cd9159",
   "metadata": {},
   "outputs": [
    {
     "name": "stdout",
     "output_type": "stream",
     "text": [
      "                                       name category  \\\n",
      "pizza_type_id                                          \n",
      "bbq_ckn          The Barbecue Chicken Pizza  Chicken   \n",
      "cali_ckn       The California Chicken Pizza  Chicken   \n",
      "ckn_alfredo       The Chicken Alfredo Pizza  Chicken   \n",
      "ckn_pesto           The Chicken Pesto Pizza  Chicken   \n",
      "southw_ckn      The Southwest Chicken Pizza  Chicken   \n",
      "\n",
      "                                                     ingredients  \n",
      "pizza_type_id                                                     \n",
      "bbq_ckn        Barbecued Chicken, Red Peppers, Green Peppers,...  \n",
      "cali_ckn       Chicken, Artichoke, Spinach, Garlic, Jalapeno ...  \n",
      "ckn_alfredo    Chicken, Red Onions, Red Peppers, Mushrooms, A...  \n",
      "ckn_pesto      Chicken, Tomatoes, Red Peppers, Spinach, Garli...  \n",
      "southw_ckn     Chicken, Tomatoes, Red Peppers, Red Onions, Ja...  \n"
     ]
    }
   ],
   "source": [
    "# Reading CSV, creating dataframe no index, printing\n",
    "pizza_types = pd.read_csv('pizza_types.csv', index_col=0, encoding='unicode_escape')\n",
    "print(pizza_types.head(5))"
   ]
  },
  {
   "cell_type": "code",
   "execution_count": 18,
   "id": "da756cb9",
   "metadata": {},
   "outputs": [
    {
     "data": {
      "text/plain": [
       "pandas.core.frame.DataFrame"
      ]
     },
     "execution_count": 18,
     "metadata": {},
     "output_type": "execute_result"
    }
   ],
   "source": [
    "#Verifying Dataframe\n",
    "type(pizza_types)"
   ]
  },
  {
   "cell_type": "code",
   "execution_count": 19,
   "id": "e2187e6c",
   "metadata": {},
   "outputs": [
    {
     "data": {
      "text/plain": [
       "name           object\n",
       "category       object\n",
       "ingredients    object\n",
       "dtype: object"
      ]
     },
     "execution_count": 19,
     "metadata": {},
     "output_type": "execute_result"
    }
   ],
   "source": [
    "#Ensuring all the data types are strings(objects)\n",
    "pizza_types.dtypes"
   ]
  },
  {
   "cell_type": "code",
   "execution_count": 20,
   "id": "f9c06205",
   "metadata": {},
   "outputs": [
    {
     "data": {
      "text/plain": [
       "0"
      ]
     },
     "execution_count": 20,
     "metadata": {},
     "output_type": "execute_result"
    }
   ],
   "source": [
    "#Making sure there's no null values.\n",
    "pizza_types.isnull().sum().sum()"
   ]
  },
  {
   "cell_type": "code",
   "execution_count": 21,
   "id": "bda96b2e",
   "metadata": {},
   "outputs": [
    {
     "name": "stdout",
     "output_type": "stream",
     "text": [
      "                                       name category  \\\n",
      "pizza_type_id                                          \n",
      "bbq_ckn          The Barbecue Chicken Pizza  Chicken   \n",
      "cali_ckn       The California Chicken Pizza  Chicken   \n",
      "ckn_alfredo       The Chicken Alfredo Pizza  Chicken   \n",
      "ckn_pesto           The Chicken Pesto Pizza  Chicken   \n",
      "southw_ckn      The Southwest Chicken Pizza  Chicken   \n",
      "\n",
      "                                                     ingredients  \\\n",
      "pizza_type_id                                                      \n",
      "bbq_ckn        Barbecued Chicken, Red Peppers, Green Peppers,...   \n",
      "cali_ckn       Chicken, Artichoke, Spinach, Garlic, Jalapeno ...   \n",
      "ckn_alfredo    Chicken, Red Onions, Red Peppers, Mushrooms, A...   \n",
      "ckn_pesto      Chicken, Tomatoes, Red Peppers, Spinach, Garli...   \n",
      "southw_ckn     Chicken, Tomatoes, Red Peppers, Red Onions, Ja...   \n",
      "\n",
      "                           ing_1         ing_2           ing_3        ing_4  \\\n",
      "pizza_type_id                                                                 \n",
      "bbq_ckn        Barbecued Chicken   Red Peppers   Green Peppers     Tomatoes   \n",
      "cali_ckn                 Chicken     Artichoke         Spinach       Garlic   \n",
      "ckn_alfredo              Chicken    Red Onions     Red Peppers    Mushrooms   \n",
      "ckn_pesto                Chicken      Tomatoes     Red Peppers      Spinach   \n",
      "southw_ckn               Chicken      Tomatoes     Red Peppers   Red Onions   \n",
      "\n",
      "                           ing_5            ing_6          ing_7  \\\n",
      "pizza_type_id                                                      \n",
      "bbq_ckn               Red Onions   Barbecue Sauce           None   \n",
      "cali_ckn        Jalapeno Peppers   Fontina Cheese   Gouda Cheese   \n",
      "ckn_alfredo        Asiago Cheese    Alfredo Sauce           None   \n",
      "ckn_pesto                 Garlic      Pesto Sauce           None   \n",
      "southw_ckn      Jalapeno Peppers             Corn       Cilantro   \n",
      "\n",
      "                         ing_8  \n",
      "pizza_type_id                   \n",
      "bbq_ckn                   None  \n",
      "cali_ckn                  None  \n",
      "ckn_alfredo               None  \n",
      "ckn_pesto                 None  \n",
      "southw_ckn      Chipotle Sauce  \n"
     ]
    }
   ],
   "source": [
    "#Splitting the ingredients column into separate columns to aid in analysis\n",
    "pizza_types[['ing_1', 'ing_2', 'ing_3', 'ing_4', 'ing_5', 'ing_6', 'ing_7', 'ing_8']] = pizza_types['ingredients'].str.split(',', expand=True)\n",
    "print(pizza_types.head(5))"
   ]
  },
  {
   "cell_type": "code",
   "execution_count": 22,
   "id": "1be1e028",
   "metadata": {},
   "outputs": [
    {
     "name": "stdout",
     "output_type": "stream",
     "text": [
      "                                       name category              ing_1  \\\n",
      "pizza_type_id                                                             \n",
      "bbq_ckn          The Barbecue Chicken Pizza  Chicken  Barbecued Chicken   \n",
      "cali_ckn       The California Chicken Pizza  Chicken            Chicken   \n",
      "ckn_alfredo       The Chicken Alfredo Pizza  Chicken            Chicken   \n",
      "ckn_pesto           The Chicken Pesto Pizza  Chicken            Chicken   \n",
      "southw_ckn      The Southwest Chicken Pizza  Chicken            Chicken   \n",
      "\n",
      "                      ing_2           ing_3        ing_4              ing_5  \\\n",
      "pizza_type_id                                                                 \n",
      "bbq_ckn         Red Peppers   Green Peppers     Tomatoes         Red Onions   \n",
      "cali_ckn          Artichoke         Spinach       Garlic   Jalapeno Peppers   \n",
      "ckn_alfredo      Red Onions     Red Peppers    Mushrooms      Asiago Cheese   \n",
      "ckn_pesto          Tomatoes     Red Peppers      Spinach             Garlic   \n",
      "southw_ckn         Tomatoes     Red Peppers   Red Onions   Jalapeno Peppers   \n",
      "\n",
      "                         ing_6          ing_7            ing_8  \n",
      "pizza_type_id                                                   \n",
      "bbq_ckn         Barbecue Sauce           None             None  \n",
      "cali_ckn        Fontina Cheese   Gouda Cheese             None  \n",
      "ckn_alfredo      Alfredo Sauce           None             None  \n",
      "ckn_pesto          Pesto Sauce           None             None  \n",
      "southw_ckn                Corn       Cilantro   Chipotle Sauce  \n",
      "                                            name category      ing_1  \\\n",
      "pizza_type_id                                                          \n",
      "mediterraneo             The Mediterranean Pizza   Veggie    Spinach   \n",
      "mexicana                      The Mexicana Pizza   Veggie   Tomatoes   \n",
      "spin_pesto               The Spinach Pesto Pizza   Veggie    Spinach   \n",
      "spinach_fet           The Spinach and Feta Pizza   Veggie    Spinach   \n",
      "veggie_veg     The Vegetables + Vegetables Pizza   Veggie  Mushrooms   \n",
      "\n",
      "                      ing_2              ing_3                ing_4  \\\n",
      "pizza_type_id                                                         \n",
      "mediterraneo     Artichokes    Kalamata Olives   Sun-dried Tomatoes   \n",
      "mexicana        Red Peppers   Jalapeno Peppers           Red Onions   \n",
      "spin_pesto       Artichokes           Tomatoes   Sun-dried Tomatoes   \n",
      "spinach_fet       Mushrooms         Red Onions          Feta Cheese   \n",
      "veggie_veg         Tomatoes        Red Peppers        Green Peppers   \n",
      "\n",
      "                      ing_5           ing_6            ing_7    ing_8  \n",
      "pizza_type_id                                                          \n",
      "mediterraneo    Feta Cheese   Plum Tomatoes       Red Onions     None  \n",
      "mexicana           Cilantro            Corn   Chipotle Sauce   Garlic  \n",
      "spin_pesto           Garlic     Pesto Sauce             None     None  \n",
      "spinach_fet          Garlic            None             None     None  \n",
      "veggie_veg       Red Onions        Zucchini          Spinach   Garlic  \n"
     ]
    }
   ],
   "source": [
    "#Removing the ingredients column now that I have separated ingredient columns.\n",
    "pizza_types_exp = pizza_types.drop(['ingredients'], axis=1)\n",
    "print(pizza_types_exp.head(5))\n",
    "print(pizza_types_exp.tail(5))"
   ]
  },
  {
   "cell_type": "markdown",
   "id": "fdd3b3b0",
   "metadata": {},
   "source": [
    "### Joining Dataframes"
   ]
  },
  {
   "cell_type": "code",
   "execution_count": 23,
   "id": "8720dd0d",
   "metadata": {},
   "outputs": [
    {
     "name": "stdout",
     "output_type": "stream",
     "text": [
      "       order_id       pizza_id  quantity       date      time\n",
      "0             1     hawaiian_m         1 2015-01-01  11:38:36\n",
      "1             2  classic_dlx_m         1 2015-01-01  11:57:40\n",
      "2             2  five_cheese_l         1 2015-01-01  11:57:40\n",
      "3             2    ital_supr_l         1 2015-01-01  11:57:40\n",
      "4             2     mexicana_m         1 2015-01-01  11:57:40\n",
      "...         ...            ...       ...        ...       ...\n",
      "48615     21348  ckn_alfredo_m         1 2015-12-31  21:23:10\n",
      "48616     21348  four_cheese_l         1 2015-12-31  21:23:10\n",
      "48617     21348   napolitana_s         1 2015-12-31  21:23:10\n",
      "48618     21349     mexicana_l         1 2015-12-31  22:09:54\n",
      "48619     21350      bbq_ckn_s         1 2015-12-31  23:02:05\n",
      "\n",
      "[48620 rows x 5 columns]\n"
     ]
    }
   ],
   "source": [
    "#Joining the orders and order_details dataframes.\n",
    "orders_comb_df = pd.merge(order_details, orders, on='order_id')\n",
    "print(orders_comb_df)"
   ]
  },
  {
   "cell_type": "code",
   "execution_count": 24,
   "id": "9d7d6c10",
   "metadata": {},
   "outputs": [
    {
     "name": "stdout",
     "output_type": "stream",
     "text": [
      "         pizza_id pizza_type_id size  price  \\\n",
      "0       bbq_ckn_s       bbq_ckn    S  12.75   \n",
      "1       bbq_ckn_m       bbq_ckn    M  16.75   \n",
      "2       bbq_ckn_l       bbq_ckn    L  20.75   \n",
      "3      cali_ckn_s      cali_ckn    S  12.75   \n",
      "4      cali_ckn_m      cali_ckn    M  16.75   \n",
      "..            ...           ...  ...    ...   \n",
      "91  spinach_fet_m   spinach_fet    M  16.00   \n",
      "92  spinach_fet_l   spinach_fet    L  20.25   \n",
      "93   veggie_veg_s    veggie_veg    S  12.00   \n",
      "94   veggie_veg_m    veggie_veg    M  16.00   \n",
      "95   veggie_veg_l    veggie_veg    L  20.25   \n",
      "\n",
      "                                 name category              ing_1  \\\n",
      "0          The Barbecue Chicken Pizza  Chicken  Barbecued Chicken   \n",
      "1          The Barbecue Chicken Pizza  Chicken  Barbecued Chicken   \n",
      "2          The Barbecue Chicken Pizza  Chicken  Barbecued Chicken   \n",
      "3        The California Chicken Pizza  Chicken            Chicken   \n",
      "4        The California Chicken Pizza  Chicken            Chicken   \n",
      "..                                ...      ...                ...   \n",
      "91         The Spinach and Feta Pizza   Veggie            Spinach   \n",
      "92         The Spinach and Feta Pizza   Veggie            Spinach   \n",
      "93  The Vegetables + Vegetables Pizza   Veggie          Mushrooms   \n",
      "94  The Vegetables + Vegetables Pizza   Veggie          Mushrooms   \n",
      "95  The Vegetables + Vegetables Pizza   Veggie          Mushrooms   \n",
      "\n",
      "           ing_2           ing_3           ing_4              ing_5  \\\n",
      "0    Red Peppers   Green Peppers        Tomatoes         Red Onions   \n",
      "1    Red Peppers   Green Peppers        Tomatoes         Red Onions   \n",
      "2    Red Peppers   Green Peppers        Tomatoes         Red Onions   \n",
      "3      Artichoke         Spinach          Garlic   Jalapeno Peppers   \n",
      "4      Artichoke         Spinach          Garlic   Jalapeno Peppers   \n",
      "..           ...             ...             ...                ...   \n",
      "91     Mushrooms      Red Onions     Feta Cheese             Garlic   \n",
      "92     Mushrooms      Red Onions     Feta Cheese             Garlic   \n",
      "93      Tomatoes     Red Peppers   Green Peppers         Red Onions   \n",
      "94      Tomatoes     Red Peppers   Green Peppers         Red Onions   \n",
      "95      Tomatoes     Red Peppers   Green Peppers         Red Onions   \n",
      "\n",
      "              ing_6          ing_7    ing_8  \n",
      "0    Barbecue Sauce           None     None  \n",
      "1    Barbecue Sauce           None     None  \n",
      "2    Barbecue Sauce           None     None  \n",
      "3    Fontina Cheese   Gouda Cheese     None  \n",
      "4    Fontina Cheese   Gouda Cheese     None  \n",
      "..              ...            ...      ...  \n",
      "91             None           None     None  \n",
      "92             None           None     None  \n",
      "93         Zucchini        Spinach   Garlic  \n",
      "94         Zucchini        Spinach   Garlic  \n",
      "95         Zucchini        Spinach   Garlic  \n",
      "\n",
      "[96 rows x 14 columns]\n"
     ]
    }
   ],
   "source": [
    "#Joining the pizzas and pizza types Dataframes.\n",
    "pizzas_comb_df = pd.merge(pizzas, pizza_types_exp, on='pizza_type_id')\n",
    "print(pizzas_comb_df)"
   ]
  },
  {
   "cell_type": "code",
   "execution_count": 25,
   "id": "79e6450d",
   "metadata": {},
   "outputs": [
    {
     "data": {
      "text/plain": [
       "pizza_id          object\n",
       "pizza_type_id     object\n",
       "size              object\n",
       "price            float64\n",
       "name              object\n",
       "category          object\n",
       "ing_1             object\n",
       "ing_2             object\n",
       "ing_3             object\n",
       "ing_4             object\n",
       "ing_5             object\n",
       "ing_6             object\n",
       "ing_7             object\n",
       "ing_8             object\n",
       "dtype: object"
      ]
     },
     "execution_count": 25,
     "metadata": {},
     "output_type": "execute_result"
    }
   ],
   "source": [
    "pizzas_comb_df.dtypes"
   ]
  },
  {
   "cell_type": "code",
   "execution_count": 27,
   "id": "faef59dc",
   "metadata": {},
   "outputs": [
    {
     "name": "stdout",
     "output_type": "stream",
     "text": [
      "           pizza_id pizza_type_id size  price  \\\n",
      "0         bbq_ckn_s       bbq_ckn    S  12.75   \n",
      "1         bbq_ckn_s       bbq_ckn    S  12.75   \n",
      "2         bbq_ckn_s       bbq_ckn    S  12.75   \n",
      "3         bbq_ckn_s       bbq_ckn    S  12.75   \n",
      "4         bbq_ckn_s       bbq_ckn    S  12.75   \n",
      "...             ...           ...  ...    ...   \n",
      "48615  veggie_veg_l    veggie_veg    L  20.25   \n",
      "48616  veggie_veg_l    veggie_veg    L  20.25   \n",
      "48617  veggie_veg_l    veggie_veg    L  20.25   \n",
      "48618  veggie_veg_l    veggie_veg    L  20.25   \n",
      "48619  veggie_veg_l    veggie_veg    L  20.25   \n",
      "\n",
      "                                    name category              ing_1  \\\n",
      "0             The Barbecue Chicken Pizza  Chicken  Barbecued Chicken   \n",
      "1             The Barbecue Chicken Pizza  Chicken  Barbecued Chicken   \n",
      "2             The Barbecue Chicken Pizza  Chicken  Barbecued Chicken   \n",
      "3             The Barbecue Chicken Pizza  Chicken  Barbecued Chicken   \n",
      "4             The Barbecue Chicken Pizza  Chicken  Barbecued Chicken   \n",
      "...                                  ...      ...                ...   \n",
      "48615  The Vegetables + Vegetables Pizza   Veggie          Mushrooms   \n",
      "48616  The Vegetables + Vegetables Pizza   Veggie          Mushrooms   \n",
      "48617  The Vegetables + Vegetables Pizza   Veggie          Mushrooms   \n",
      "48618  The Vegetables + Vegetables Pizza   Veggie          Mushrooms   \n",
      "48619  The Vegetables + Vegetables Pizza   Veggie          Mushrooms   \n",
      "\n",
      "              ing_2           ing_3           ing_4        ing_5  \\\n",
      "0       Red Peppers   Green Peppers        Tomatoes   Red Onions   \n",
      "1       Red Peppers   Green Peppers        Tomatoes   Red Onions   \n",
      "2       Red Peppers   Green Peppers        Tomatoes   Red Onions   \n",
      "3       Red Peppers   Green Peppers        Tomatoes   Red Onions   \n",
      "4       Red Peppers   Green Peppers        Tomatoes   Red Onions   \n",
      "...             ...             ...             ...          ...   \n",
      "48615      Tomatoes     Red Peppers   Green Peppers   Red Onions   \n",
      "48616      Tomatoes     Red Peppers   Green Peppers   Red Onions   \n",
      "48617      Tomatoes     Red Peppers   Green Peppers   Red Onions   \n",
      "48618      Tomatoes     Red Peppers   Green Peppers   Red Onions   \n",
      "48619      Tomatoes     Red Peppers   Green Peppers   Red Onions   \n",
      "\n",
      "                 ing_6     ing_7    ing_8  order_id  quantity       date  \\\n",
      "0       Barbecue Sauce      None     None         6         1 2015-01-01   \n",
      "1       Barbecue Sauce      None     None       102         1 2015-01-02   \n",
      "2       Barbecue Sauce      None     None       124         1 2015-01-02   \n",
      "3       Barbecue Sauce      None     None       194         1 2015-01-03   \n",
      "4       Barbecue Sauce      None     None       208         1 2015-01-04   \n",
      "...                ...       ...      ...       ...       ...        ...   \n",
      "48615         Zucchini   Spinach   Garlic     21230         1 2015-12-29   \n",
      "48616         Zucchini   Spinach   Garlic     21278         1 2015-12-31   \n",
      "48617         Zucchini   Spinach   Garlic     21305         1 2015-12-31   \n",
      "48618         Zucchini   Spinach   Garlic     21317         1 2015-12-31   \n",
      "48619         Zucchini   Spinach   Garlic     21336         1 2015-12-31   \n",
      "\n",
      "           time  \n",
      "0      12:29:36  \n",
      "1      17:54:04  \n",
      "2      20:12:34  \n",
      "3      21:21:24  \n",
      "4      12:12:05  \n",
      "...         ...  \n",
      "48615  14:43:26  \n",
      "48616  11:22:31  \n",
      "48617  16:31:16  \n",
      "48618  18:01:42  \n",
      "48619  19:19:26  \n",
      "\n",
      "[48620 rows x 18 columns]\n"
     ]
    }
   ],
   "source": [
    "#Putting it into one dataframe for Tableau Public.\n",
    "combined_pizza_order_df = pd.merge(pizzas_comb_df, orders_comb_df, on='pizza_id')\n",
    "print(combined_pizza_order_df)"
   ]
  },
  {
   "cell_type": "code",
   "execution_count": 31,
   "id": "56833f22",
   "metadata": {
    "scrolled": true
   },
   "outputs": [
    {
     "data": {
      "text/plain": [
       "date             datetime64[ns]\n",
       "time                     object\n",
       "order_id                  int64\n",
       "quantity                  int64\n",
       "name                     object\n",
       "pizza_type_id            object\n",
       "size                     object\n",
       "price                   float64\n",
       "category                 object\n",
       "ing_1                    object\n",
       "ing_2                    object\n",
       "ing_3                    object\n",
       "ing_4                    object\n",
       "ing_5                    object\n",
       "ing_6                    object\n",
       "ing_7                    object\n",
       "ing_8                    object\n",
       "dtype: object"
      ]
     },
     "execution_count": 31,
     "metadata": {},
     "output_type": "execute_result"
    }
   ],
   "source": [
    "combined_pizza_order_df = combined_pizza_order_df[['date', 'time', 'order_id', 'quantity', 'name', 'pizza_type_id', 'size', 'price', 'category', 'ing_1', 'ing_2', 'ing_3', 'ing_4', 'ing_5', 'ing_6', 'ing_7', 'ing_8']]\n",
    "combined_pizza_order_df.dtypes"
   ]
  },
  {
   "cell_type": "code",
   "execution_count": 33,
   "id": "0d8d055c",
   "metadata": {},
   "outputs": [],
   "source": [
    "combined_pizza_order_df.to_csv('combined_pizza_order.csv', index=False)"
   ]
  },
  {
   "cell_type": "code",
   "execution_count": null,
   "id": "fcb907ad",
   "metadata": {},
   "outputs": [],
   "source": []
  }
 ],
 "metadata": {
  "kernelspec": {
   "display_name": "Python 3 (ipykernel)",
   "language": "python",
   "name": "python3"
  },
  "language_info": {
   "codemirror_mode": {
    "name": "ipython",
    "version": 3
   },
   "file_extension": ".py",
   "mimetype": "text/x-python",
   "name": "python",
   "nbconvert_exporter": "python",
   "pygments_lexer": "ipython3",
   "version": "3.7.13"
  }
 },
 "nbformat": 4,
 "nbformat_minor": 5
}
