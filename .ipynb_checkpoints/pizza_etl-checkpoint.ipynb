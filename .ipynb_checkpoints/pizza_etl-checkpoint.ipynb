{
 "cells": [
  {
   "cell_type": "markdown",
   "id": "4b5e00a0",
   "metadata": {},
   "source": [
    "# Pizza Analysis - ETL"
   ]
  },
  {
   "cell_type": "markdown",
   "id": "37d5977e",
   "metadata": {},
   "source": [
    "### Order Details CSV"
   ]
  },
  {
   "cell_type": "code",
   "execution_count": 72,
   "id": "ded849ad",
   "metadata": {},
   "outputs": [
    {
     "name": "stdout",
     "output_type": "stream",
     "text": [
      "                  order_id       pizza_id  quantity\n",
      "order_details_id                                   \n",
      "1                        1     hawaiian_m         1\n",
      "2                        2  classic_dlx_m         1\n",
      "3                        2  five_cheese_l         1\n",
      "4                        2    ital_supr_l         1\n",
      "5                        2     mexicana_m         1\n",
      "                  order_id       pizza_id  quantity\n",
      "order_details_id                                   \n",
      "48616                21348  ckn_alfredo_m         1\n",
      "48617                21348  four_cheese_l         1\n",
      "48618                21348   napolitana_s         1\n",
      "48619                21349     mexicana_l         1\n",
      "48620                21350      bbq_ckn_s         1\n"
     ]
    }
   ],
   "source": [
    "# Importing pandas, reading csv, creating dataframe, printing top and bottom.\n",
    "import pandas as pd\n",
    "order_details = pd.read_csv('order_details.csv', index_col='order_details_id')\n",
    "print(order_details.head(5))\n",
    "print(order_details.tail(5))"
   ]
  },
  {
   "cell_type": "code",
   "execution_count": 73,
   "id": "6103a11b",
   "metadata": {},
   "outputs": [
    {
     "data": {
      "text/plain": [
       "pandas.core.frame.DataFrame"
      ]
     },
     "execution_count": 73,
     "metadata": {},
     "output_type": "execute_result"
    }
   ],
   "source": [
    "#Verifying data type\n",
    "type(order_details)"
   ]
  },
  {
   "cell_type": "code",
   "execution_count": 74,
   "id": "9ab24494",
   "metadata": {},
   "outputs": [
    {
     "data": {
      "text/plain": [
       "Index(['order_id', 'pizza_id', 'quantity'], dtype='object')"
      ]
     },
     "execution_count": 74,
     "metadata": {},
     "output_type": "execute_result"
    }
   ],
   "source": [
    "# Getting the column names.\n",
    "order_details.columns"
   ]
  },
  {
   "cell_type": "code",
   "execution_count": 75,
   "id": "657d8de9",
   "metadata": {},
   "outputs": [
    {
     "data": {
      "text/plain": [
       "order_id     int64\n",
       "pizza_id    object\n",
       "quantity     int64\n",
       "dtype: object"
      ]
     },
     "execution_count": 75,
     "metadata": {},
     "output_type": "execute_result"
    }
   ],
   "source": [
    "# Verifying the correct data types for each column.\n",
    "order_details.dtypes"
   ]
  },
  {
   "cell_type": "code",
   "execution_count": 76,
   "id": "9171fbed",
   "metadata": {},
   "outputs": [
    {
     "data": {
      "text/plain": [
       "0"
      ]
     },
     "execution_count": 76,
     "metadata": {},
     "output_type": "execute_result"
    }
   ],
   "source": [
    "# Checking for null values.\n",
    "order_details.isnull().sum().sum()"
   ]
  },
  {
   "cell_type": "markdown",
   "id": "57404ba9",
   "metadata": {},
   "source": [
    "### Orders CSV"
   ]
  },
  {
   "cell_type": "code",
   "execution_count": 128,
   "id": "23c45c17",
   "metadata": {},
   "outputs": [
    {
     "name": "stdout",
     "output_type": "stream",
     "text": [
      "                date      time\n",
      "order_id                      \n",
      "1         2015-01-01  11:38:36\n",
      "2         2015-01-01  11:57:40\n",
      "3         2015-01-01  12:12:28\n",
      "4         2015-01-01  12:16:31\n",
      "5         2015-01-01  12:21:30\n",
      "...              ...       ...\n",
      "21346     2015-12-31  20:51:07\n",
      "21347     2015-12-31  21:14:37\n",
      "21348     2015-12-31  21:23:10\n",
      "21349     2015-12-31  22:09:54\n",
      "21350     2015-12-31  23:02:05\n",
      "\n",
      "[21350 rows x 2 columns]\n"
     ]
    }
   ],
   "source": [
    "# Reading csv, creating dataframe, printing.\n",
    "orders = pd.read_csv('orders.csv', index_col=0)\n",
    "print(orders)"
   ]
  },
  {
   "cell_type": "code",
   "execution_count": 129,
   "id": "3e1b632f",
   "metadata": {},
   "outputs": [
    {
     "data": {
      "text/plain": [
       "pandas.core.frame.DataFrame"
      ]
     },
     "execution_count": 129,
     "metadata": {},
     "output_type": "execute_result"
    }
   ],
   "source": [
    "# Verfiying dataframe.\n",
    "type(orders)"
   ]
  },
  {
   "cell_type": "code",
   "execution_count": 130,
   "id": "d399225a",
   "metadata": {},
   "outputs": [
    {
     "data": {
      "text/plain": [
       "date    object\n",
       "time    object\n",
       "dtype: object"
      ]
     },
     "execution_count": 130,
     "metadata": {},
     "output_type": "execute_result"
    }
   ],
   "source": [
    "# Checking column datatypes.\n",
    "orders.dtypes"
   ]
  },
  {
   "cell_type": "markdown",
   "id": "09c2ba64",
   "metadata": {},
   "source": [
    "##### Date and Time columns are in the incorrect formats."
   ]
  },
  {
   "cell_type": "code",
   "execution_count": 137,
   "id": "a7190ea7",
   "metadata": {},
   "outputs": [
    {
     "data": {
      "text/plain": [
       "date    datetime64[ns]\n",
       "time            object\n",
       "dtype: object"
      ]
     },
     "execution_count": 137,
     "metadata": {},
     "output_type": "execute_result"
    }
   ],
   "source": [
    "# Converting date and time columns to datetime data types.\n",
    "orders['date'] = pd.to_datetime(orders['date'])\n",
    "orders['time'] = pd.to_datetime(orders['time']).dt.time\n",
    "orders.dtypes"
   ]
  },
  {
   "cell_type": "code",
   "execution_count": 138,
   "id": "eb70b270",
   "metadata": {},
   "outputs": [
    {
     "name": "stdout",
     "output_type": "stream",
     "text": [
      "               date      time\n",
      "order_id                     \n",
      "1        2015-01-01  11:38:36\n",
      "2        2015-01-01  11:57:40\n",
      "3        2015-01-01  12:12:28\n",
      "4        2015-01-01  12:16:31\n",
      "5        2015-01-01  12:21:30\n"
     ]
    }
   ],
   "source": [
    "print(orders.head(5))"
   ]
  },
  {
   "cell_type": "code",
   "execution_count": 85,
   "id": "85dd4203",
   "metadata": {},
   "outputs": [
    {
     "data": {
      "text/plain": [
       "0"
      ]
     },
     "execution_count": 85,
     "metadata": {},
     "output_type": "execute_result"
    }
   ],
   "source": [
    "# Checking for null values.\n",
    "orders.isnull().sum().sum()"
   ]
  },
  {
   "cell_type": "markdown",
   "id": "c211ff8f",
   "metadata": {},
   "source": [
    "### Pizzas CSV"
   ]
  },
  {
   "cell_type": "code",
   "execution_count": 148,
   "id": "a36f9964",
   "metadata": {},
   "outputs": [
    {
     "name": "stdout",
     "output_type": "stream",
     "text": [
      "         pizza_id pizza_type_id size  price\n",
      "0       bbq_ckn_s       bbq_ckn    S  12.75\n",
      "1       bbq_ckn_m       bbq_ckn    M  16.75\n",
      "2       bbq_ckn_l       bbq_ckn    L  20.75\n",
      "3      cali_ckn_s      cali_ckn    S  12.75\n",
      "4      cali_ckn_m      cali_ckn    M  16.75\n",
      "..            ...           ...  ...    ...\n",
      "91  spinach_fet_m   spinach_fet    M  16.00\n",
      "92  spinach_fet_l   spinach_fet    L  20.25\n",
      "93   veggie_veg_s    veggie_veg    S  12.00\n",
      "94   veggie_veg_m    veggie_veg    M  16.00\n",
      "95   veggie_veg_l    veggie_veg    L  20.25\n",
      "\n",
      "[96 rows x 4 columns]\n"
     ]
    }
   ],
   "source": [
    "# Loading csv, no index, creating dataframe, printing top and bottom.\n",
    "pizzas = pd.read_csv('pizzas.csv', index_col=None)\n",
    "print(pizzas)"
   ]
  },
  {
   "cell_type": "code",
   "execution_count": 149,
   "id": "55a509c7",
   "metadata": {},
   "outputs": [
    {
     "data": {
      "text/plain": [
       "pandas.core.frame.DataFrame"
      ]
     },
     "execution_count": 149,
     "metadata": {},
     "output_type": "execute_result"
    }
   ],
   "source": [
    "#Verifying dataframe\n",
    "type(pizzas)"
   ]
  },
  {
   "cell_type": "code",
   "execution_count": 150,
   "id": "669f0590",
   "metadata": {},
   "outputs": [
    {
     "data": {
      "text/plain": [
       "pizza_id          object\n",
       "pizza_type_id     object\n",
       "size              object\n",
       "price            float64\n",
       "dtype: object"
      ]
     },
     "execution_count": 150,
     "metadata": {},
     "output_type": "execute_result"
    }
   ],
   "source": [
    "#Verifying column data types\n",
    "pizzas.dtypes"
   ]
  },
  {
   "cell_type": "code",
   "execution_count": 151,
   "id": "e76d15f4",
   "metadata": {},
   "outputs": [
    {
     "data": {
      "text/plain": [
       "0"
      ]
     },
     "execution_count": 151,
     "metadata": {},
     "output_type": "execute_result"
    }
   ],
   "source": [
    "# Checking for na values\n",
    "pizzas.isnull().sum().sum()"
   ]
  },
  {
   "cell_type": "markdown",
   "id": "d7b9e407",
   "metadata": {},
   "source": [
    "### Pizza Type CSV"
   ]
  },
  {
   "cell_type": "code",
   "execution_count": 107,
   "id": "b2cd9159",
   "metadata": {},
   "outputs": [
    {
     "name": "stdout",
     "output_type": "stream",
     "text": [
      "                                       name category  \\\n",
      "pizza_type_id                                          \n",
      "bbq_ckn          The Barbecue Chicken Pizza  Chicken   \n",
      "cali_ckn       The California Chicken Pizza  Chicken   \n",
      "ckn_alfredo       The Chicken Alfredo Pizza  Chicken   \n",
      "ckn_pesto           The Chicken Pesto Pizza  Chicken   \n",
      "southw_ckn      The Southwest Chicken Pizza  Chicken   \n",
      "\n",
      "                                                     ingredients  \n",
      "pizza_type_id                                                     \n",
      "bbq_ckn        Barbecued Chicken, Red Peppers, Green Peppers,...  \n",
      "cali_ckn       Chicken, Artichoke, Spinach, Garlic, Jalapeno ...  \n",
      "ckn_alfredo    Chicken, Red Onions, Red Peppers, Mushrooms, A...  \n",
      "ckn_pesto      Chicken, Tomatoes, Red Peppers, Spinach, Garli...  \n",
      "southw_ckn     Chicken, Tomatoes, Red Peppers, Red Onions, Ja...  \n"
     ]
    }
   ],
   "source": [
    "# Reading CSV, creating dataframe no index, printing\n",
    "pizza_types = pd.read_csv('pizza_types.csv', index_col=0, encoding='unicode_escape')\n",
    "print(pizza_types.head(5))"
   ]
  },
  {
   "cell_type": "code",
   "execution_count": 97,
   "id": "da756cb9",
   "metadata": {},
   "outputs": [
    {
     "data": {
      "text/plain": [
       "pandas.core.frame.DataFrame"
      ]
     },
     "execution_count": 97,
     "metadata": {},
     "output_type": "execute_result"
    }
   ],
   "source": [
    "#Verifying Dataframe\n",
    "type(pizza_types)"
   ]
  },
  {
   "cell_type": "code",
   "execution_count": 99,
   "id": "e2187e6c",
   "metadata": {},
   "outputs": [
    {
     "data": {
      "text/plain": [
       "name           object\n",
       "category       object\n",
       "ingredients    object\n",
       "dtype: object"
      ]
     },
     "execution_count": 99,
     "metadata": {},
     "output_type": "execute_result"
    }
   ],
   "source": [
    "#Ensuring all the data types are strings(objects)\n",
    "pizza_types.dtypes"
   ]
  },
  {
   "cell_type": "code",
   "execution_count": 100,
   "id": "f9c06205",
   "metadata": {},
   "outputs": [
    {
     "data": {
      "text/plain": [
       "0"
      ]
     },
     "execution_count": 100,
     "metadata": {},
     "output_type": "execute_result"
    }
   ],
   "source": [
    "#Making sure there's no null values.\n",
    "pizza_types.isnull().sum().sum()"
   ]
  },
  {
   "cell_type": "code",
   "execution_count": 108,
   "id": "bda96b2e",
   "metadata": {},
   "outputs": [
    {
     "name": "stdout",
     "output_type": "stream",
     "text": [
      "                                       name category  \\\n",
      "pizza_type_id                                          \n",
      "bbq_ckn          The Barbecue Chicken Pizza  Chicken   \n",
      "cali_ckn       The California Chicken Pizza  Chicken   \n",
      "ckn_alfredo       The Chicken Alfredo Pizza  Chicken   \n",
      "ckn_pesto           The Chicken Pesto Pizza  Chicken   \n",
      "southw_ckn      The Southwest Chicken Pizza  Chicken   \n",
      "\n",
      "                                                     ingredients  \\\n",
      "pizza_type_id                                                      \n",
      "bbq_ckn        Barbecued Chicken, Red Peppers, Green Peppers,...   \n",
      "cali_ckn       Chicken, Artichoke, Spinach, Garlic, Jalapeno ...   \n",
      "ckn_alfredo    Chicken, Red Onions, Red Peppers, Mushrooms, A...   \n",
      "ckn_pesto      Chicken, Tomatoes, Red Peppers, Spinach, Garli...   \n",
      "southw_ckn     Chicken, Tomatoes, Red Peppers, Red Onions, Ja...   \n",
      "\n",
      "                           ing_1         ing_2           ing_3        ing_4  \\\n",
      "pizza_type_id                                                                 \n",
      "bbq_ckn        Barbecued Chicken   Red Peppers   Green Peppers     Tomatoes   \n",
      "cali_ckn                 Chicken     Artichoke         Spinach       Garlic   \n",
      "ckn_alfredo              Chicken    Red Onions     Red Peppers    Mushrooms   \n",
      "ckn_pesto                Chicken      Tomatoes     Red Peppers      Spinach   \n",
      "southw_ckn               Chicken      Tomatoes     Red Peppers   Red Onions   \n",
      "\n",
      "                           ing_5            ing_6          ing_7  \\\n",
      "pizza_type_id                                                      \n",
      "bbq_ckn               Red Onions   Barbecue Sauce           None   \n",
      "cali_ckn        Jalapeno Peppers   Fontina Cheese   Gouda Cheese   \n",
      "ckn_alfredo        Asiago Cheese    Alfredo Sauce           None   \n",
      "ckn_pesto                 Garlic      Pesto Sauce           None   \n",
      "southw_ckn      Jalapeno Peppers             Corn       Cilantro   \n",
      "\n",
      "                         ing_8  \n",
      "pizza_type_id                   \n",
      "bbq_ckn                   None  \n",
      "cali_ckn                  None  \n",
      "ckn_alfredo               None  \n",
      "ckn_pesto                 None  \n",
      "southw_ckn      Chipotle Sauce  \n"
     ]
    }
   ],
   "source": [
    "#Splitting the ingredients column into separate columns to aid in analysis\n",
    "pizza_types[['ing_1', 'ing_2', 'ing_3', 'ing_4', 'ing_5', 'ing_6', 'ing_7', 'ing_8']] = pizza_types['ingredients'].str.split(',', expand=True)\n",
    "print(pizza_types.head(5))"
   ]
  },
  {
   "cell_type": "code",
   "execution_count": 109,
   "id": "1be1e028",
   "metadata": {},
   "outputs": [
    {
     "name": "stdout",
     "output_type": "stream",
     "text": [
      "                                       name category              ing_1  \\\n",
      "pizza_type_id                                                             \n",
      "bbq_ckn          The Barbecue Chicken Pizza  Chicken  Barbecued Chicken   \n",
      "cali_ckn       The California Chicken Pizza  Chicken            Chicken   \n",
      "ckn_alfredo       The Chicken Alfredo Pizza  Chicken            Chicken   \n",
      "ckn_pesto           The Chicken Pesto Pizza  Chicken            Chicken   \n",
      "southw_ckn      The Southwest Chicken Pizza  Chicken            Chicken   \n",
      "\n",
      "                      ing_2           ing_3        ing_4              ing_5  \\\n",
      "pizza_type_id                                                                 \n",
      "bbq_ckn         Red Peppers   Green Peppers     Tomatoes         Red Onions   \n",
      "cali_ckn          Artichoke         Spinach       Garlic   Jalapeno Peppers   \n",
      "ckn_alfredo      Red Onions     Red Peppers    Mushrooms      Asiago Cheese   \n",
      "ckn_pesto          Tomatoes     Red Peppers      Spinach             Garlic   \n",
      "southw_ckn         Tomatoes     Red Peppers   Red Onions   Jalapeno Peppers   \n",
      "\n",
      "                         ing_6          ing_7            ing_8  \n",
      "pizza_type_id                                                   \n",
      "bbq_ckn         Barbecue Sauce           None             None  \n",
      "cali_ckn        Fontina Cheese   Gouda Cheese             None  \n",
      "ckn_alfredo      Alfredo Sauce           None             None  \n",
      "ckn_pesto          Pesto Sauce           None             None  \n",
      "southw_ckn                Corn       Cilantro   Chipotle Sauce  \n",
      "                                            name category      ing_1  \\\n",
      "pizza_type_id                                                          \n",
      "mediterraneo             The Mediterranean Pizza   Veggie    Spinach   \n",
      "mexicana                      The Mexicana Pizza   Veggie   Tomatoes   \n",
      "spin_pesto               The Spinach Pesto Pizza   Veggie    Spinach   \n",
      "spinach_fet           The Spinach and Feta Pizza   Veggie    Spinach   \n",
      "veggie_veg     The Vegetables + Vegetables Pizza   Veggie  Mushrooms   \n",
      "\n",
      "                      ing_2              ing_3                ing_4  \\\n",
      "pizza_type_id                                                         \n",
      "mediterraneo     Artichokes    Kalamata Olives   Sun-dried Tomatoes   \n",
      "mexicana        Red Peppers   Jalapeno Peppers           Red Onions   \n",
      "spin_pesto       Artichokes           Tomatoes   Sun-dried Tomatoes   \n",
      "spinach_fet       Mushrooms         Red Onions          Feta Cheese   \n",
      "veggie_veg         Tomatoes        Red Peppers        Green Peppers   \n",
      "\n",
      "                      ing_5           ing_6            ing_7    ing_8  \n",
      "pizza_type_id                                                          \n",
      "mediterraneo    Feta Cheese   Plum Tomatoes       Red Onions     None  \n",
      "mexicana           Cilantro            Corn   Chipotle Sauce   Garlic  \n",
      "spin_pesto           Garlic     Pesto Sauce             None     None  \n",
      "spinach_fet          Garlic            None             None     None  \n",
      "veggie_veg       Red Onions        Zucchini          Spinach   Garlic  \n"
     ]
    }
   ],
   "source": [
    "#Removing the ingredients column now that I have separated ingredient columns.\n",
    "pizza_types_exp = pizza_types.drop(['ingredients'], axis=1)\n",
    "print(pizza_types_exp.head(5))\n",
    "print(pizza_types_exp.tail(5))"
   ]
  },
  {
   "cell_type": "markdown",
   "id": "fdd3b3b0",
   "metadata": {},
   "source": [
    "### Joining Dataframes"
   ]
  },
  {
   "cell_type": "code",
   "execution_count": 141,
   "id": "8720dd0d",
   "metadata": {},
   "outputs": [
    {
     "name": "stdout",
     "output_type": "stream",
     "text": [
      "       order_id       pizza_id  quantity       date      time\n",
      "0             1     hawaiian_m         1 2015-01-01  11:38:36\n",
      "1             2  classic_dlx_m         1 2015-01-01  11:57:40\n",
      "2             2  five_cheese_l         1 2015-01-01  11:57:40\n",
      "3             2    ital_supr_l         1 2015-01-01  11:57:40\n",
      "4             2     mexicana_m         1 2015-01-01  11:57:40\n",
      "...         ...            ...       ...        ...       ...\n",
      "48615     21348  ckn_alfredo_m         1 2015-12-31  21:23:10\n",
      "48616     21348  four_cheese_l         1 2015-12-31  21:23:10\n",
      "48617     21348   napolitana_s         1 2015-12-31  21:23:10\n",
      "48618     21349     mexicana_l         1 2015-12-31  22:09:54\n",
      "48619     21350      bbq_ckn_s         1 2015-12-31  23:02:05\n",
      "\n",
      "[48620 rows x 5 columns]\n"
     ]
    }
   ],
   "source": [
    "#Joining the orders and order_details dataframes.\n",
    "orders_comb_df = pd.merge(order_details, orders, on='order_id')\n",
    "print(orders_comb_df)"
   ]
  },
  {
   "cell_type": "code",
   "execution_count": 152,
   "id": "9d7d6c10",
   "metadata": {},
   "outputs": [
    {
     "name": "stdout",
     "output_type": "stream",
     "text": [
      "         pizza_id pizza_type_id size  price  \\\n",
      "0       bbq_ckn_s       bbq_ckn    S  12.75   \n",
      "1       bbq_ckn_m       bbq_ckn    M  16.75   \n",
      "2       bbq_ckn_l       bbq_ckn    L  20.75   \n",
      "3      cali_ckn_s      cali_ckn    S  12.75   \n",
      "4      cali_ckn_m      cali_ckn    M  16.75   \n",
      "..            ...           ...  ...    ...   \n",
      "91  spinach_fet_m   spinach_fet    M  16.00   \n",
      "92  spinach_fet_l   spinach_fet    L  20.25   \n",
      "93   veggie_veg_s    veggie_veg    S  12.00   \n",
      "94   veggie_veg_m    veggie_veg    M  16.00   \n",
      "95   veggie_veg_l    veggie_veg    L  20.25   \n",
      "\n",
      "                                 name category              ing_1  \\\n",
      "0          The Barbecue Chicken Pizza  Chicken  Barbecued Chicken   \n",
      "1          The Barbecue Chicken Pizza  Chicken  Barbecued Chicken   \n",
      "2          The Barbecue Chicken Pizza  Chicken  Barbecued Chicken   \n",
      "3        The California Chicken Pizza  Chicken            Chicken   \n",
      "4        The California Chicken Pizza  Chicken            Chicken   \n",
      "..                                ...      ...                ...   \n",
      "91         The Spinach and Feta Pizza   Veggie            Spinach   \n",
      "92         The Spinach and Feta Pizza   Veggie            Spinach   \n",
      "93  The Vegetables + Vegetables Pizza   Veggie          Mushrooms   \n",
      "94  The Vegetables + Vegetables Pizza   Veggie          Mushrooms   \n",
      "95  The Vegetables + Vegetables Pizza   Veggie          Mushrooms   \n",
      "\n",
      "           ing_2           ing_3           ing_4              ing_5  \\\n",
      "0    Red Peppers   Green Peppers        Tomatoes         Red Onions   \n",
      "1    Red Peppers   Green Peppers        Tomatoes         Red Onions   \n",
      "2    Red Peppers   Green Peppers        Tomatoes         Red Onions   \n",
      "3      Artichoke         Spinach          Garlic   Jalapeno Peppers   \n",
      "4      Artichoke         Spinach          Garlic   Jalapeno Peppers   \n",
      "..           ...             ...             ...                ...   \n",
      "91     Mushrooms      Red Onions     Feta Cheese             Garlic   \n",
      "92     Mushrooms      Red Onions     Feta Cheese             Garlic   \n",
      "93      Tomatoes     Red Peppers   Green Peppers         Red Onions   \n",
      "94      Tomatoes     Red Peppers   Green Peppers         Red Onions   \n",
      "95      Tomatoes     Red Peppers   Green Peppers         Red Onions   \n",
      "\n",
      "              ing_6          ing_7    ing_8  \n",
      "0    Barbecue Sauce           None     None  \n",
      "1    Barbecue Sauce           None     None  \n",
      "2    Barbecue Sauce           None     None  \n",
      "3    Fontina Cheese   Gouda Cheese     None  \n",
      "4    Fontina Cheese   Gouda Cheese     None  \n",
      "..              ...            ...      ...  \n",
      "91             None           None     None  \n",
      "92             None           None     None  \n",
      "93         Zucchini        Spinach   Garlic  \n",
      "94         Zucchini        Spinach   Garlic  \n",
      "95         Zucchini        Spinach   Garlic  \n",
      "\n",
      "[96 rows x 14 columns]\n"
     ]
    }
   ],
   "source": [
    "#Joining the pizzas and pizza types Dataframes.\n",
    "pizzas_comb_df = pd.merge(pizzas, pizza_types_exp, on='pizza_type_id')\n",
    "print(pizzas_comb_df)"
   ]
  },
  {
   "cell_type": "code",
   "execution_count": 144,
   "id": "79e6450d",
   "metadata": {},
   "outputs": [
    {
     "data": {
      "text/plain": [
       "pizza_type_id     object\n",
       "size              object\n",
       "price            float64\n",
       "name              object\n",
       "category          object\n",
       "ing_1             object\n",
       "ing_2             object\n",
       "ing_3             object\n",
       "ing_4             object\n",
       "ing_5             object\n",
       "ing_6             object\n",
       "ing_7             object\n",
       "ing_8             object\n",
       "dtype: object"
      ]
     },
     "execution_count": 144,
     "metadata": {},
     "output_type": "execute_result"
    }
   ],
   "source": [
    "pizzas_comb_df.dtypes"
   ]
  },
  {
   "cell_type": "code",
   "execution_count": null,
   "id": "faef59dc",
   "metadata": {},
   "outputs": [],
   "source": [
    "pizzas_comb_df = pd.merge(pizzas, pizza_types_exp, on='pizza_type_id')\n",
    "print(pizzas_comb_df)\n",
    "orders_comb_df = pd.merge(order_details, orders, on='order_id')\n",
    "print(orders_comb_df)\n",
    "\n",
    "pizza_order_comb_df = pd.merge(pizzas_comb_df, orders_comb_df, on='')"
   ]
  }
 ],
 "metadata": {
  "kernelspec": {
   "display_name": "Python 3 (ipykernel)",
   "language": "python",
   "name": "python3"
  },
  "language_info": {
   "codemirror_mode": {
    "name": "ipython",
    "version": 3
   },
   "file_extension": ".py",
   "mimetype": "text/x-python",
   "name": "python",
   "nbconvert_exporter": "python",
   "pygments_lexer": "ipython3",
   "version": "3.7.13"
  }
 },
 "nbformat": 4,
 "nbformat_minor": 5
}
